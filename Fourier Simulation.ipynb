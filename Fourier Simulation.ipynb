{
 "cells": [
  {
   "cell_type": "code",
   "execution_count": 15,
   "metadata": {},
   "outputs": [],
   "source": [
    "import scipy.io as sio\n",
    "import numpy as np\n",
    "import matplotlib.pyplot as plt"
   ]
  },
  {
   "cell_type": "code",
   "execution_count": 3,
   "metadata": {},
   "outputs": [],
   "source": [
    "size_x = 1026\n",
    "size_y = 1026"
   ]
  },
  {
   "cell_type": "code",
   "execution_count": 34,
   "metadata": {},
   "outputs": [],
   "source": [
    "mat_path = \"I:\\\\Honours-Project\\\\data\\\\test data\\\\simulation\\\\I1.mat\""
   ]
  },
  {
   "cell_type": "code",
   "execution_count": 35,
   "metadata": {},
   "outputs": [
    {
     "data": {
      "text/plain": [
       "<matplotlib.image.AxesImage at 0x2090ad6c048>"
      ]
     },
     "execution_count": 35,
     "metadata": {},
     "output_type": "execute_result"
    },
    {
     "data": {
      "image/png": "[encoded data removed]",
      "text/plain": [
       "<Figure size 432x288 with 1 Axes>"
      ]
     },
     "metadata": {},
     "output_type": "display_data"
    }
   ],
   "source": [
    "mat_contents = sio.loadmat(mat_path)\n",
    "    \n",
    "hologram = 1.7*mat_contents['I1']\n",
    "    \n",
    "plt.imshow(mat_contents['I1'])"
   ]
  },
  {
   "cell_type": "code",
   "execution_count": 16,
   "metadata": {},
   "outputs": [
    {
     "ename": "SyntaxError",
     "evalue": "invalid syntax (<ipython-input-16-387f4573d923>, line 7)",
     "output_type": "error",
     "traceback": [
      "\u001b[1;36m  File \u001b[1;32m\"<ipython-input-16-387f4573d923>\"\u001b[1;36m, line \u001b[1;32m7\u001b[0m\n\u001b[1;33m    wave_obj =\u001b[0m\n\u001b[1;37m               ^\u001b[0m\n\u001b[1;31mSyntaxError\u001b[0m\u001b[1;31m:\u001b[0m invalid syntax\n"
     ]
    }
   ],
   "source": [
    "def generate_plane_wave(a, v):\n",
    "    wave_obj = 0\n",
    "    wave_ref = 0\n",
    "    \n",
    "    inten_obj = np.power(np.abs(wave_obj),2)\n",
    "    inten_ref = np.power(np.abs(wave_ref),2)\n",
    "    \n",
    "    #inten_cross = 2*np.sqrt(inten_obj*inten_ref)*np.cos(np.arg(wave_ref)-np.arg(wave_obj))\n",
    "    \n",
    "    inten_cross = wave_ref * np.conj(wave_obj) * np.exp(-j*k*x*np.sin(theta)) \n",
    "    inten_cross = inten_cross + wave_ref * wave_obj * np.exp(j*k*x*np.sin(theta))\n",
    "    \n",
    "    interference_hologram = inten_obj + inten_ref + inten_cross\n",
    "    \n",
    "    return interference_hologram\n",
    "generate_plane_wave(None,None)"
   ]
  }
 ],
 "metadata": {
  "kernelspec": {
   "display_name": "Python 3",
   "language": "python",
   "name": "python3"
  },
  "language_info": {
   "codemirror_mode": {
    "name": "ipython",
    "version": 3
   },
   "file_extension": ".py",
   "mimetype": "text/x-python",
   "name": "python",
   "nbconvert_exporter": "python",
   "pygments_lexer": "ipython3",
   "version": "3.6.4"
  }
 },
 "nbformat": 4,
 "nbformat_minor": 2
}
