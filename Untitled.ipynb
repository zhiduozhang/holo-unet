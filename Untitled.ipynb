{
 "cells": [
  {
   "cell_type": "code",
   "execution_count": 11,
   "metadata": {},
   "outputs": [],
   "source": [
    "from PIL import Image\n",
    "import numpy as np\n",
    "from scipy.stats import describe\n",
    "import os\n",
    "import fnmatch"
   ]
  },
  {
   "cell_type": "code",
   "execution_count": 14,
   "metadata": {},
   "outputs": [
    {
     "name": "stdout",
     "output_type": "stream",
     "text": [
      "4-45um-blank.tif\n",
      "DescribeResult(nobs=3932160, minmax=(0, 255), mean=87.82254562377929, variance=2144.950365705661, skewness=0.3628888296157655, kurtosis=-0.8532470605115829)\n",
      "4-45um-diffuser-0.tif\n",
      "DescribeResult(nobs=3932160, minmax=(0, 222), mean=73.61049880981446, variance=353.3185561361165, skewness=0.8780263014970077, kurtosis=1.4999821465644478)\n",
      "4-45um-diffuser-10.tif\n",
      "DescribeResult(nobs=3932160, minmax=(0, 193), mean=70.66264114379882, variance=270.4085882454568, skewness=0.6816512495084817, kurtosis=0.7737464888928267)\n",
      "4-45um-diffuser-20.tif\n",
      "DescribeResult(nobs=3932160, minmax=(0, 248), mean=78.38955459594726, variance=474.60917953112266, skewness=0.8905363876898105, kurtosis=1.183253300190187)\n",
      "4-45um-diffuser-30.tif\n",
      "DescribeResult(nobs=3932160, minmax=(0, 211), mean=80.02792587280274, variance=457.907299396549, skewness=0.5850182654820334, kurtosis=0.3254314751191272)\n",
      "4-45um-diffuser-40.tif\n",
      "DescribeResult(nobs=3932160, minmax=(0, 246), mean=83.99838714599609, variance=1053.7843016447923, skewness=0.5818440066097035, kurtosis=-0.30363062645740957)\n",
      "4-45um-diffuser-55.tif\n",
      "DescribeResult(nobs=3932160, minmax=(0, 198), mean=66.73685150146484, variance=212.64125616393636, skewness=0.4150188943773287, kurtosis=0.03232481108458085)\n",
      "4-45um-no-diffuser-1.tif\n",
      "DescribeResult(nobs=3932160, minmax=(0, 255), mean=87.51186904907226, variance=2179.6023085688034, skewness=0.44107444970313875, kurtosis=-0.6946790315220888)\n"
     ]
    }
   ],
   "source": [
    "for file in os.listdir('data\\\\diffuser\\\\1\\\\'):\n",
    "    if fnmatch.fnmatch(file, '*.tif'):\n",
    "        img = np.array(Image.open(f'data\\\\diffuser\\\\1\\\\{file}')).flatten()\n",
    "        print(file)\n",
    "        print(describe(img))"
   ]
  }
 ],
 "metadata": {
  "kernelspec": {
   "display_name": "Python 3",
   "language": "python",
   "name": "python3"
  },
  "language_info": {
   "codemirror_mode": {
    "name": "ipython",
    "version": 3
   },
   "file_extension": ".py",
   "mimetype": "text/x-python",
   "name": "python",
   "nbconvert_exporter": "python",
   "pygments_lexer": "ipython3",
   "version": "3.6.6"
  }
 },
 "nbformat": 4,
 "nbformat_minor": 2
}
