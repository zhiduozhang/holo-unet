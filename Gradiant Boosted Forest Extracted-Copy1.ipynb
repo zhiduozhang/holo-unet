{
 "cells": [
  {
   "cell_type": "code",
   "execution_count": 1,
   "metadata": {},
   "outputs": [
    {
     "name": "stderr",
     "output_type": "stream",
     "text": [
      "C:\\Users\\Duo\\Anaconda3\\envs\\fastai\\lib\\site-packages\\h5py\\__init__.py:36: FutureWarning: Conversion of the second argument of issubdtype from `float` to `np.floating` is deprecated. In future, it will be treated as `np.float64 == np.dtype(float).type`.\n",
      "  from ._conv import register_converters as _register_converters\n",
      "Using TensorFlow backend.\n"
     ]
    }
   ],
   "source": [
    "from sklearn.model_selection import train_test_split\n",
    "from sklearn.model_selection import StratifiedKFold\n",
    "\n",
    "import sklearn.preprocessing as preprocessing\n",
    "\n",
    "import pandas as pd\n",
    "import numpy as np\n",
    "from scipy import stats\n",
    "import matplotlib.pylab as plt\n",
    "from keras.utils import np_utils \n",
    "import tensorflow as tf\n",
    "\n",
    "from sklearn.pipeline import make_pipeline, make_union\n",
    "from sklearn.ensemble import RandomForestClassifier, ExtraTreesClassifier, GradientBoostingClassifier\n",
    "from sklearn.naive_bayes import BernoulliNB\n",
    "from sklearn.svm import LinearSVC\n",
    "from sklearn.decomposition import FastICA\n",
    "from sklearn.ensemble import ExtraTreesClassifier\n",
    "from sklearn.feature_selection import RFE\n",
    "from sklearn.kernel_approximation import Nystroem \n",
    "from tpot.builtins import StackingEstimator\n",
    "\n",
    "from sklearn.metrics import confusion_matrix\n",
    "import itertools\n"
   ]
  },
  {
   "cell_type": "code",
   "execution_count": 2,
   "metadata": {},
   "outputs": [],
   "source": [
    "dest_path = \"I:\\\\Honours-Project\\\\data\\\\sorted\\\\agg\\\\\"\n",
    "source_path = \"I:\\\\Honours-Project\\\\data\\\\sorted\\\\agg\\\\cropped\\\\\"\n",
    "csv = \"I:\\\\Honours-Project\\\\data\\\\sorted\\\\agg\\\\ids.csv\""
   ]
  },
  {
   "cell_type": "code",
   "execution_count": 3,
   "metadata": {},
   "outputs": [],
   "source": [
    "df = pd.read_csv(csv,index_col=0).sample(frac=1)"
   ]
  },
  {
   "cell_type": "code",
   "execution_count": 4,
   "metadata": {},
   "outputs": [],
   "source": [
    "df = df[df['name'].str.contains(\"_flipped\")]"
   ]
  },
  {
   "cell_type": "code",
   "execution_count": 5,
   "metadata": {
    "scrolled": true
   },
   "outputs": [
    {
     "name": "stdout",
     "output_type": "stream",
     "text": [
      "flow_rate\n",
      "1800    58\n",
      "3600    58\n",
      "7200    58\n",
      "dtype: int64\n"
     ]
    }
   ],
   "source": [
    "ds_count = min(df.groupby('flow_rate').size())\n",
    "ds_flow = df.groupby('flow_rate').size().idxmin()\n",
    "\n",
    "samples = pd.concat([df[df['flow_rate']==i].sample(n=ds_count) for i in (1800,3600,7200)],ignore_index=True)\n",
    "\n",
    "df = samples.sample(frac=1)\n",
    "\n",
    "print(df.groupby('flow_rate').size())"
   ]
  },
  {
   "cell_type": "code",
   "execution_count": 6,
   "metadata": {
    "scrolled": true
   },
   "outputs": [
    {
     "data": {
      "text/html": [
       "<div>\n",
       "<style scoped>\n",
       "    .dataframe tbody tr th:only-of-type {\n",
       "        vertical-align: middle;\n",
       "    }\n",
       "\n",
       "    .dataframe tbody tr th {\n",
       "        vertical-align: top;\n",
       "    }\n",
       "\n",
       "    .dataframe thead th {\n",
       "        text-align: right;\n",
       "    }\n",
       "</style>\n",
       "<table border=\"1\" class=\"dataframe\">\n",
       "  <thead>\n",
       "    <tr style=\"text-align: right;\">\n",
       "      <th></th>\n",
       "      <th>name</th>\n",
       "      <th>date</th>\n",
       "      <th>flow_rate</th>\n",
       "      <th>source</th>\n",
       "      <th>peak_val</th>\n",
       "      <th>area</th>\n",
       "      <th>volume</th>\n",
       "      <th>eccentricity</th>\n",
       "      <th>euler_number</th>\n",
       "      <th>extent</th>\n",
       "      <th>mean_intensity</th>\n",
       "      <th>moments</th>\n",
       "      <th>orientation</th>\n",
       "      <th>perimeter</th>\n",
       "      <th>inertia_tensor</th>\n",
       "      <th>cluster</th>\n",
       "      <th>num_peaks</th>\n",
       "    </tr>\n",
       "  </thead>\n",
       "  <tbody>\n",
       "    <tr>\n",
       "      <th>46</th>\n",
       "      <td>138_flipped</td>\n",
       "      <td>2017.11.23</td>\n",
       "      <td>1800</td>\n",
       "      <td>34.00 s.tifheightmap.mat</td>\n",
       "      <td>7.487762</td>\n",
       "      <td>3283</td>\n",
       "      <td>14091.628528</td>\n",
       "      <td>0.805744</td>\n",
       "      <td>1</td>\n",
       "      <td>0.606279</td>\n",
       "      <td>4.292302</td>\n",
       "      <td>[[3.28300000e+03 1.53732000e+05 8.86933000e+06...</td>\n",
       "      <td>1.525710</td>\n",
       "      <td>279.580736</td>\n",
       "      <td>[[179.40241225  14.89433452]\\r\\n [ 14.89433452...</td>\n",
       "      <td>0</td>\n",
       "      <td>1</td>\n",
       "    </tr>\n",
       "    <tr>\n",
       "      <th>109</th>\n",
       "      <td>181_flipped</td>\n",
       "      <td>2017.11.23</td>\n",
       "      <td>3600</td>\n",
       "      <td>67.60 s.tifheightmap.mat</td>\n",
       "      <td>14.189006</td>\n",
       "      <td>5465</td>\n",
       "      <td>28115.752514</td>\n",
       "      <td>0.942003</td>\n",
       "      <td>1</td>\n",
       "      <td>0.433991</td>\n",
       "      <td>5.130612</td>\n",
       "      <td>[[5.48000000e+03 4.82574000e+05 5.91854120e+07...</td>\n",
       "      <td>-1.544219</td>\n",
       "      <td>559.386868</td>\n",
       "      <td>[[ 345.14169505  -71.83803899]\\r\\n [ -71.83803...</td>\n",
       "      <td>0</td>\n",
       "      <td>1</td>\n",
       "    </tr>\n",
       "    <tr>\n",
       "      <th>103</th>\n",
       "      <td>34_flipped</td>\n",
       "      <td>2017.11.17</td>\n",
       "      <td>3600</td>\n",
       "      <td>12.85 s.tifheightmap.mat</td>\n",
       "      <td>23.329527</td>\n",
       "      <td>3981</td>\n",
       "      <td>49589.325857</td>\n",
       "      <td>0.953674</td>\n",
       "      <td>1</td>\n",
       "      <td>0.723818</td>\n",
       "      <td>12.456500</td>\n",
       "      <td>[[3.98100000e+03 2.24102000e+05 1.70330560e+07...</td>\n",
       "      <td>-1.444008</td>\n",
       "      <td>303.338095</td>\n",
       "      <td>[[ 118.29187371 -128.46414112]\\r\\n [-128.46414...</td>\n",
       "      <td>0</td>\n",
       "      <td>1</td>\n",
       "    </tr>\n",
       "    <tr>\n",
       "      <th>33</th>\n",
       "      <td>147_flipped</td>\n",
       "      <td>2017.11.23</td>\n",
       "      <td>1800</td>\n",
       "      <td>63.20 s.tifheightmap.mat</td>\n",
       "      <td>12.072265</td>\n",
       "      <td>8282</td>\n",
       "      <td>38567.003117</td>\n",
       "      <td>0.665112</td>\n",
       "      <td>1</td>\n",
       "      <td>0.440157</td>\n",
       "      <td>4.656726</td>\n",
       "      <td>[[8.28200000e+03 6.57899000e+05 5.97043750e+07...</td>\n",
       "      <td>0.125077</td>\n",
       "      <td>653.043723</td>\n",
       "      <td>[[1580.9706008    87.16727495]\\r\\n [  87.16727...</td>\n",
       "      <td>0</td>\n",
       "      <td>1</td>\n",
       "    </tr>\n",
       "    <tr>\n",
       "      <th>118</th>\n",
       "      <td>52_flipped</td>\n",
       "      <td>2017.11.17</td>\n",
       "      <td>7200</td>\n",
       "      <td>1.90 s.tifheightmap.mat</td>\n",
       "      <td>7.665951</td>\n",
       "      <td>1655</td>\n",
       "      <td>6732.873700</td>\n",
       "      <td>0.948445</td>\n",
       "      <td>1</td>\n",
       "      <td>0.757055</td>\n",
       "      <td>3.921301</td>\n",
       "      <td>[[1.71700000e+03 7.67380000e+04 4.19110800e+06...</td>\n",
       "      <td>-1.495170</td>\n",
       "      <td>197.396970</td>\n",
       "      <td>[[ 47.06751865 -30.20988715]\\r\\n [-30.20988715...</td>\n",
       "      <td>2</td>\n",
       "      <td>1</td>\n",
       "    </tr>\n",
       "  </tbody>\n",
       "</table>\n",
       "</div>"
      ],
      "text/plain": [
       "            name        date  flow_rate                    source   peak_val  \\\n",
       "46   138_flipped  2017.11.23       1800  34.00 s.tifheightmap.mat   7.487762   \n",
       "109  181_flipped  2017.11.23       3600  67.60 s.tifheightmap.mat  14.189006   \n",
       "103   34_flipped  2017.11.17       3600  12.85 s.tifheightmap.mat  23.329527   \n",
       "33   147_flipped  2017.11.23       1800  63.20 s.tifheightmap.mat  12.072265   \n",
       "118   52_flipped  2017.11.17       7200   1.90 s.tifheightmap.mat   7.665951   \n",
       "\n",
       "     area        volume  eccentricity  euler_number    extent  mean_intensity  \\\n",
       "46   3283  14091.628528      0.805744             1  0.606279        4.292302   \n",
       "109  5465  28115.752514      0.942003             1  0.433991        5.130612   \n",
       "103  3981  49589.325857      0.953674             1  0.723818       12.456500   \n",
       "33   8282  38567.003117      0.665112             1  0.440157        4.656726   \n",
       "118  1655   6732.873700      0.948445             1  0.757055        3.921301   \n",
       "\n",
       "                                               moments  orientation  \\\n",
       "46   [[3.28300000e+03 1.53732000e+05 8.86933000e+06...     1.525710   \n",
       "109  [[5.48000000e+03 4.82574000e+05 5.91854120e+07...    -1.544219   \n",
       "103  [[3.98100000e+03 2.24102000e+05 1.70330560e+07...    -1.444008   \n",
       "33   [[8.28200000e+03 6.57899000e+05 5.97043750e+07...     0.125077   \n",
       "118  [[1.71700000e+03 7.67380000e+04 4.19110800e+06...    -1.495170   \n",
       "\n",
       "      perimeter                                     inertia_tensor  cluster  \\\n",
       "46   279.580736  [[179.40241225  14.89433452]\\r\\n [ 14.89433452...        0   \n",
       "109  559.386868  [[ 345.14169505  -71.83803899]\\r\\n [ -71.83803...        0   \n",
       "103  303.338095  [[ 118.29187371 -128.46414112]\\r\\n [-128.46414...        0   \n",
       "33   653.043723  [[1580.9706008    87.16727495]\\r\\n [  87.16727...        0   \n",
       "118  197.396970  [[ 47.06751865 -30.20988715]\\r\\n [-30.20988715...        2   \n",
       "\n",
       "     num_peaks  \n",
       "46           1  \n",
       "109          1  \n",
       "103          1  \n",
       "33           1  \n",
       "118          1  "
      ]
     },
     "execution_count": 6,
     "metadata": {},
     "output_type": "execute_result"
    }
   ],
   "source": [
    "df.head()"
   ]
  },
  {
   "cell_type": "code",
   "execution_count": 7,
   "metadata": {},
   "outputs": [],
   "source": [
    "nb_classes = 3"
   ]
  },
  {
   "cell_type": "code",
   "execution_count": 8,
   "metadata": {},
   "outputs": [],
   "source": [
    "x = []\n",
    "y = []\n",
    "\n",
    "df['log_volume'] = df['volume'].apply(np.log)\n",
    "\n",
    "mat = df.drop(columns=['name','date','flow_rate','source','moments','inertia_tensor'])\n",
    "\n",
    "# Drop catagorical features\n",
    "mat = mat.drop(columns=['cluster'])\n",
    "\n",
    "X = mat.as_matrix()\n",
    "# x = standardize = preprocessing.scale(x)\n",
    "\n",
    "y = df[\"flow_rate\"].values\n",
    "\n",
    "y[y == 1800] = 0\n",
    "y[y == 3600] = 1\n",
    "y[y == 7200] = 2\n",
    "\n",
    "one_hot = np_utils.to_categorical(df[\"flow_rate\"].values, nb_classes)"
   ]
  },
  {
   "cell_type": "code",
   "execution_count": 9,
   "metadata": {
    "scrolled": true
   },
   "outputs": [],
   "source": [
    "X_train, X_test, y_train, y_test = train_test_split(X, one_hot, test_size=36, stratify=y)"
   ]
  },
  {
   "cell_type": "markdown",
   "metadata": {},
   "source": [
    "We add the flip of each image to the split dataset. Therefore, there is no information transfer between test and training sets. To Do."
   ]
  },
  {
   "cell_type": "code",
   "execution_count": 10,
   "metadata": {},
   "outputs": [
    {
     "name": "stdout",
     "output_type": "stream",
     "text": [
      "(138, 11)\n"
     ]
    }
   ],
   "source": [
    "num_samples = X_train.shape[0]\n",
    "num_features = X_train.shape[1]\n",
    "\n",
    "num_classes = y_train.shape[1]\n",
    "#Orientation column\n",
    "oc = 5\n",
    "\n",
    "print(X_train.shape)\n",
    "\n",
    "for i in range(X_train.shape[0]):\n",
    "    sample = X_train[i]\n",
    "    flipped_sample = sample.copy()\n",
    "    flipped_sample[oc] = 0 - sample[oc]\n",
    "    flipped_sample = flipped_sample.reshape((1,num_features))\n",
    "    X_train = np.concatenate((X_train, flipped_sample))\n",
    "    y_train = np.concatenate((y_train, y_train[i].copy().reshape(1, num_classes)))\n",
    "    \n",
    "for i in range(X_test.shape[0]):\n",
    "    sample = X_test[i]\n",
    "    flipped_sample = sample.copy()\n",
    "    flipped_sample[oc] = 0 - sample[oc]\n",
    "    flipped_sample = flipped_sample.reshape((1,num_features))\n",
    "    X_test = np.concatenate((X_test, flipped_sample))\n",
    "    y_test = np.concatenate((y_test, y_test[i].copy().reshape(1, num_classes)))"
   ]
  },
  {
   "cell_type": "markdown",
   "metadata": {},
   "source": [
    "## sklearn Gradiant Boosted Forest"
   ]
  },
  {
   "cell_type": "code",
   "execution_count": 11,
   "metadata": {
    "scrolled": true
   },
   "outputs": [],
   "source": [
    "rfc = RandomForestClassifier(bootstrap=True, criterion=\"entropy\", max_features=0.1, \n",
    "                       min_samples_leaf=4, min_samples_split=9, n_estimators=100)"
   ]
  },
  {
   "cell_type": "code",
   "execution_count": 12,
   "metadata": {},
   "outputs": [
    {
     "name": "stdout",
     "output_type": "stream",
     "text": [
      "Running Fold 1 / 10\n",
      "Accuracy:  0.4444444444444444\n",
      "Running Fold 2 / 10\n",
      "Accuracy:  0.3333333333333333\n",
      "Running Fold 3 / 10\n",
      "Accuracy:  0.4444444444444444\n",
      "Running Fold 4 / 10\n",
      "Accuracy:  0.3333333333333333\n",
      "Running Fold 5 / 10\n",
      "Accuracy:  0.2222222222222222\n",
      "Running Fold 6 / 10\n",
      "Accuracy:  0.5\n",
      "Running Fold 7 / 10\n",
      "Accuracy:  0.4444444444444444\n",
      "Running Fold 8 / 10\n",
      "Accuracy:  0.3333333333333333\n",
      "Running Fold 9 / 10\n",
      "Accuracy:  0.4\n",
      "Running Fold 10 / 10\n",
      "Accuracy:  0.2\n"
     ]
    }
   ],
   "source": [
    "n_folds = 10\n",
    "\n",
    "skf = StratifiedKFold(n_splits=n_folds, shuffle=True)\n",
    "avg_acc = 0\n",
    "\n",
    "y_true = []\n",
    "y_pred = []\n",
    "\n",
    "i = 0\n",
    "\n",
    "for train, test in skf.split(X,y):\n",
    "    print(\"Running Fold\", i+1, \"/\", n_folds)\n",
    "    i+=1\n",
    "    \n",
    "    std = np.std(X[train],0)\n",
    "    mean = np.mean(X[train],0)\n",
    "            \n",
    "    X_train = (X[train] - mean)/std\n",
    "    X_test = (X[test] - mean)/std \n",
    "        \n",
    "    y_train = y[train]\n",
    "            \n",
    "    model = None # Clearing the NN.\n",
    "    \n",
    "    # Score on the training set was:0.4762962962962963\n",
    "    model = make_pipeline(\n",
    "        FastICA(tol=0.65),\n",
    "        RFE(estimator=ExtraTreesClassifier(criterion=\"gini\", max_features=0.4, n_estimators=100), step=0.7500000000000001),\n",
    "        FastICA(tol=0.2),\n",
    "        Nystroem(gamma=0.45, kernel=\"polynomial\", n_components=6),\n",
    "        LinearSVC(C=20.0, dual=True, loss=\"hinge\", penalty=\"l2\", tol=0.01)\n",
    "    )\n",
    "\n",
    "    # Hyperparameters copied from Random Forest\n",
    "    # model = GradientBoostingClassifier(max_features=0.1, \n",
    "                # min_samples_leaf=4, min_samples_split=9, n_estimators=100, verbose=1)\n",
    "    \n",
    "    model.fit(X_train, y_train)\n",
    "            \n",
    "    # Predict the values from the validation dataset\n",
    "    Y_pred = model.predict(X_test)\n",
    "    # Convert predictions classes to one hot vectors \n",
    "    # Y_pred_classes = np.argmax(Y_pred,axis = 1) \n",
    "    # Convert validation observations to one hot vectors\n",
    "    Y_true = y[test]\n",
    "    \n",
    "    y_true.extend(Y_true)\n",
    "    y_pred.extend(Y_pred)\n",
    "    \n",
    "    print(\"Accuracy: \", sum(Y_pred == Y_true)/len(Y_true))"
   ]
  },
  {
   "cell_type": "code",
   "execution_count": 13,
   "metadata": {},
   "outputs": [],
   "source": [
    "def plot_confusion_matrix(cm, classes,\n",
    "                          normalize=False,\n",
    "                          title='Confusion matrix',\n",
    "                          cmap=plt.cm.Blues):\n",
    "    \"\"\"\n",
    "    This function prints and plots the confusion matrix.\n",
    "    Normalization can be applied by setting `normalize=True`.\n",
    "    \"\"\"\n",
    "    plt.imshow(cm, interpolation='nearest', cmap=cmap)\n",
    "    plt.title(title)\n",
    "    plt.colorbar()\n",
    "    tick_marks = np.arange(len(classes))\n",
    "    plt.xticks(tick_marks, classes, rotation=45)\n",
    "    plt.yticks(tick_marks, classes)\n",
    "\n",
    "    if normalize:\n",
    "        cm = cm.astype('float') / cm.sum(axis=1)[:, np.newaxis]\n",
    "\n",
    "    thresh = cm.max() / 2.\n",
    "    for i, j in itertools.product(range(cm.shape[0]), range(cm.shape[1])):\n",
    "        plt.text(j, i, cm[i, j],\n",
    "                 horizontalalignment=\"center\",\n",
    "                 color=\"white\" if cm[i, j] > thresh else \"black\")\n",
    "\n",
    "    plt.tight_layout()\n",
    "    plt.ylabel('True label')\n",
    "    plt.xlabel('Predicted label')"
   ]
  },
  {
   "cell_type": "code",
   "execution_count": 14,
   "metadata": {
    "scrolled": false
   },
   "outputs": [
    {
     "data": {
      "image/png": "[encoded data removed]",
      "text/plain": [
       "<Figure size 432x288 with 2 Axes>"
      ]
     },
     "metadata": {},
     "output_type": "display_data"
    }
   ],
   "source": [
    "# compute the confusion matrix\n",
    "confusion_mtx = confusion_matrix(np.array(y_true), np.array(y_pred)) \n",
    "# plot the confusion matrix\n",
    "plot_confusion_matrix(confusion_mtx, classes = range(3)) "
   ]
  },
  {
   "cell_type": "code",
   "execution_count": null,
   "metadata": {},
   "outputs": [],
   "source": []
  }
 ],
 "metadata": {
  "kernelspec": {
   "display_name": "Python 3",
   "language": "python",
   "name": "python3"
  },
  "language_info": {
   "codemirror_mode": {
    "name": "ipython",
    "version": 3
   },
   "file_extension": ".py",
   "mimetype": "text/x-python",
   "name": "python",
   "nbconvert_exporter": "python",
   "pygments_lexer": "ipython3",
   "version": "3.6.4"
  }
 },
 "nbformat": 4,
 "nbformat_minor": 2
}
