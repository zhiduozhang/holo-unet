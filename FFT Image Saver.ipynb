{
 "cells": [
  {
   "cell_type": "code",
   "execution_count": 1,
   "metadata": {},
   "outputs": [],
   "source": [
    "import pandas as pd\n",
    "\n",
    "import numpy as np\n",
    "import scipy as sp\n",
    "from scipy import signal\n",
    "from scipy import ndimage\n",
    "from scipy.ndimage.morphology import binary_closing\n",
    "from scipy.optimize import curve_fit\n",
    "from scipy.misc import imsave\n",
    "import scipy.io as sio\n",
    "\n",
    "import cv2\n",
    "from PIL import ImageFilter\n",
    "from PIL import Image\n",
    "from skimage.filters import threshold_otsu,sobel\n",
    "from skimage.morphology import remove_small_objects,watershed\n",
    "from skimage.measure import regionprops, label, find_contours\n",
    "from skimage.restoration import unwrap_phase\n",
    "from skimage.feature import blob_log, canny\n",
    "from skimage.exposure import equalize_hist\n",
    "from skimage.feature import peak_local_max\n",
    "from skimage.color import label2rgb\n",
    "\n",
    "import scipy.ndimage as ndi\n",
    "\n",
    "import random\n",
    "import os\n",
    "import fnmatch\n",
    "import math\n",
    "import re\n",
    "\n",
    "import matplotlib.pyplot as plt\n",
    "import matplotlib.patches as patches\n",
    "from mpl_toolkits.mplot3d import Axes3D\n",
    "from matplotlib import cm\n",
    "from matplotlib.ticker import LinearLocator, FormatStrFormatter"
   ]
  },
  {
   "cell_type": "code",
   "execution_count": 11,
   "metadata": {},
   "outputs": [],
   "source": [
    "input_folder = \"I:\\\\Honours-Project\\\\data\\\\observed\\\\frames\"\n",
    "output_folder = \"I:\\\\Honours-Project\\\\data\\\\observed\\\\angle_fft\""
   ]
  },
  {
   "cell_type": "code",
   "execution_count": 12,
   "metadata": {},
   "outputs": [
    {
     "name": "stderr",
     "output_type": "stream",
     "text": [
      "C:\\Users\\Duo\\Anaconda3\\envs\\fastai\\lib\\site-packages\\ipykernel_launcher.py:9: DeprecationWarning: `imsave` is deprecated!\n",
      "`imsave` is deprecated in SciPy 1.0.0, and will be removed in 1.2.0.\n",
      "Use ``imageio.imwrite`` instead.\n",
      "  if __name__ == '__main__':\n"
     ]
    }
   ],
   "source": [
    "for file in os.listdir(input_folder):\n",
    "    if fnmatch.fnmatch(file, '*.tif'):\n",
    "        img = cv2.imread(f'{input_folder}\\\\{file}')\n",
    "        if len(img.shape) > 2:\n",
    "            gray = cv2.cvtColor(img, cv2.COLOR_BGR2GRAY)\n",
    "        else:\n",
    "            gray = img\n",
    "        fft = (np.angle(np.fft.fftshift(np.fft.fft2(gray))))\n",
    "        sp.misc.imsave(f'{output_folder}\\\\{file}',fft)"
   ]
  }
 ],
 "metadata": {
  "kernelspec": {
   "display_name": "Python 3",
   "language": "python",
   "name": "python3"
  },
  "language_info": {
   "codemirror_mode": {
    "name": "ipython",
    "version": 3
   },
   "file_extension": ".py",
   "mimetype": "text/x-python",
   "name": "python",
   "nbconvert_exporter": "python",
   "pygments_lexer": "ipython3",
   "version": "3.6.6"
  }
 },
 "nbformat": 4,
 "nbformat_minor": 2
}
