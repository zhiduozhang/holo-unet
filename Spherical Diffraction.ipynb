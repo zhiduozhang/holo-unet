{
 "cells": [
  {
   "cell_type": "code",
   "execution_count": 4,
   "metadata": {},
   "outputs": [],
   "source": [
    "import numpy as np\n",
    "import scipy as sp\n",
    "from PIL import Image\n",
    "\n",
    "import matplotlib.pylab as plt\n",
    "import matplotlib.animation as animation\n",
    "from matplotlib.lines import Line2D\n",
    "\n",
    "import scipy.stats as st\n",
    "from sortedcontainers import SortedDict\n",
    "from skimage.restoration import unwrap_phase\n",
    "\n",
    "from IPython.display import HTML\n",
    "\n",
    "import math\n",
    "import random\n",
    "import opticspy as opy\n",
    "\n",
    "from scipy.optimize import curve_fit, minimize"
   ]
  },
  {
   "cell_type": "code",
   "execution_count": 99,
   "metadata": {},
   "outputs": [
    {
     "name": "stdout",
     "output_type": "stream",
     "text": [
      "Populating the interactive namespace from numpy and matplotlib\n"
     ]
    }
   ],
   "source": [
    "%pylab inline\n",
    "pylab.rcParams['figure.figsize'] = (12, 10)"
   ]
  },
  {
   "cell_type": "code",
   "execution_count": 30,
   "metadata": {},
   "outputs": [],
   "source": [
    "def show_wave(wave):\n",
    "    fig,ax = plt.subplots(1,2)\n",
    "    ax1 = ax[0]\n",
    "    ax2 = ax[1]\n",
    "\n",
    "    ax[0].set_title(\"Magnitude\")\n",
    "    ax[1].set_title(\"Phase\")\n",
    "    \n",
    "    wave_abs = np.abs(wave)\n",
    "    wave_phase = np.angle(wave)\n",
    "        \n",
    "    plt1 = ax1.imshow(wave_abs)\n",
    "    plt2 = ax2.imshow(wave_phase)"
   ]
  },
  {
   "cell_type": "code",
   "execution_count": 24,
   "metadata": {},
   "outputs": [],
   "source": [
    "class WaveAnimation(animation.TimedAnimation):\n",
    "    def __init__(self,data):\n",
    "        fig,ax = plt.subplots(1,2)\n",
    "        self.ax1 = ax[0]\n",
    "        self.ax2 = ax[1]\n",
    "        \n",
    "        ax[0].set_title(\"Magnitude\")\n",
    "        ax[1].set_title(\"Phase\")\n",
    "        \n",
    "        self.data = data\n",
    "        self.t = len(data)\n",
    "\n",
    "        animation.TimedAnimation.__init__(self, fig, interval=1000, blit=True)\n",
    "\n",
    "    def _draw_frame(self, framedata):\n",
    "        i = framedata-1\n",
    "        wave_abs = np.abs(self.data[i])\n",
    "        wave_phase = np.angle(self.data[i])\n",
    "        \n",
    "        plt1 = self.ax1.imshow(wave_abs)\n",
    "        plt2 = self.ax2.imshow(wave_phase)\n",
    "        self._drawn_artists = [plt1,plt2]\n",
    "\n",
    "    def new_frame_seq(self):\n",
    "        return iter(range(self.t))\n",
    "\n",
    "    def _init_draw(self):\n",
    "        wave_abs = np.abs(self.data[0])\n",
    "        wave_phase = np.angle(self.data[0])\n",
    "        \n",
    "        plt1 = self.ax1.imshow(wave_abs)\n",
    "        plt2 = self.ax2.imshow(wave_phase)\n",
    "        \n",
    "    def close(self):\n",
    "        plt.close()"
   ]
  },
  {
   "cell_type": "code",
   "execution_count": 5,
   "metadata": {},
   "outputs": [],
   "source": [
    "def get_kernel(wavelength,z,dx,dy,x,y):\n",
    "    kernelFactor = 2*math.pi*z/wavelength\n",
    "    \n",
    "    dfx = 1/(dx*x)\n",
    "    dfy = 1/(dy*y)\n",
    "    \n",
    "    # Count up then down eg: [0,1,2,1,0]\n",
    "    if x % 2 == 0:\n",
    "        x2 = np.append(np.arange(x/2),np.flip(np.arange(x/2)))\n",
    "    else:\n",
    "        x2 = np.append(np.arange((x/2)-1),[math.ceil(x/2)])\n",
    "        x2 = np.append(x2,np.flip(np.arange((x/2)-1)))\n",
    "        \n",
    "    if y % 2 == 0:\n",
    "        y2 = np.append(np.arange(y/2),np.flip(np.arange(y/2)))\n",
    "    else:\n",
    "        y2 = np.append(np.arange((y/2)-1),[math.ceil(y/2)])\n",
    "        y2 = np.append(y2,np.flip(np.arange((y/2)-1)))\n",
    "    \n",
    "    l = x2 - (x/2) + 1\n",
    "    l2 = (l**2) * (dfx**2)\n",
    "    \n",
    "    m = y2 - (y/2) + 1\n",
    "    m2 = (m**2) * (dfy**2) + 1\n",
    "    \n",
    "    l2 = np.arange(x)-int(x/2)\n",
    "    m2 = np.arange(y)-int(y/2)\n",
    "    \n",
    "    l3 = np.broadcast_to(l2, (y,x)).transpose()\n",
    "    m3 = np.broadcast_to(m2, (x,y))\n",
    "    \n",
    "    kernelPhase = np.power(1 - (wavelength*l3/dx)**2 - (wavelength*m3/dy)**2,(1/2)) * kernelFactor\n",
    "    \n",
    "    real = np.cos(kernelPhase)\n",
    "    img = 1j*np.sin(kernelPhase)\n",
    "    \n",
    "    return real+img"
   ]
  },
  {
   "cell_type": "code",
   "execution_count": 6,
   "metadata": {},
   "outputs": [
    {
     "name": "stdout",
     "output_type": "stream",
     "text": [
      "(300, 250)\n"
     ]
    },
    {
     "data": {
      "image/png": "[encoded data removed]",
      "text/plain": [
       "<Figure size 432x288 with 2 Axes>"
      ]
     },
     "metadata": {},
     "output_type": "display_data"
    }
   ],
   "source": [
    "# https://stackoverflow.com/questions/28342968/how-to-plot-a-2d-gaussian-with-different-sigma\n",
    "\n",
    "#TODO: Get sigma, size right\n",
    "def generate_gaussian_grid(size_x,size_y,sigma_x=3.,sigma_y=3.):\n",
    "    #size_x *= 2\n",
    "    #size_y *= 2\n",
    "    \n",
    "    x = np.linspace(-int(size_x/2), int(size_x/2), size_x)\n",
    "    y = np.linspace(-int(size_y/2), int(size_y/2), size_y)\n",
    "\n",
    "    x, y = np.meshgrid(x, y)\n",
    "    z = (1/(2*np.pi*sigma_x*sigma_y) * np.exp(-(x**2/(2*sigma_x**2) + y**2/(2*sigma_y**2))))\n",
    "    #plt.contourf(x, y, z, cmap='Blues')\n",
    "    #plt.colorbar()\n",
    "    #plt.show()\n",
    "    \n",
    "    #z = z[int(size_y/2):,:int(size_x/2)].transpose()\n",
    "    \n",
    "    return z\n",
    "\n",
    "#print(z.shape)\n",
    "\n",
    "#plt.contourf(x, y, z, cmap='Blues')\n",
    "#plt.colorbar()\n",
    "#plt.show()\n",
    "\n",
    "gauss = generate_gaussian_grid(250,300,10,10)\n",
    "plt.imshow(gauss)\n",
    "plt.colorbar()\n",
    "#plt.hist(gauss.flatten(),50)\n",
    "print(gauss.shape)"
   ]
  },
  {
   "cell_type": "code",
   "execution_count": 7,
   "metadata": {},
   "outputs": [
    {
     "name": "stdout",
     "output_type": "stream",
     "text": [
      "-9.549694368615746e-16\n",
      "1.0\n"
     ]
    },
    {
     "data": {
      "image/png": "[encoded data removed]",
      "text/plain": [
       "<Figure size 432x288 with 1 Axes>"
      ]
     },
     "metadata": {},
     "output_type": "display_data"
    }
   ],
   "source": [
    "def gen_sphere(x,y,r=50):\n",
    "    #x *= 2\n",
    "    #y *= 2\n",
    "    circ = np.zeros((x,y))\n",
    "\n",
    "    r2 = np.power(r,2)\n",
    "    \n",
    "    pos_x = x/2\n",
    "    pos_y = y/2\n",
    "    \n",
    "    for i in range(x):\n",
    "        x2 = np.power(i-pos_x,2)\n",
    "        for j in range(y):\n",
    "            \n",
    "            circ[i][j] = np.power(max(0,r2-(x2+np.power(j-pos_y,2))),1/2)\n",
    "            \n",
    "    circ = sp.ndimage.filters.gaussian_filter(circ,sigma=3)\n",
    "    \n",
    "    mean = np.mean(circ)\n",
    "    sd = np.std(circ)\n",
    "    \n",
    "    circ = (circ-mean)/sd\n",
    "    \n",
    "    return circ\n",
    "\n",
    "sphere = gen_sphere(250,300,200)\n",
    "plt.imshow(sphere)\n",
    "plt.axis('off')\n",
    "\n",
    "print(np.mean(sphere))\n",
    "print(np.std(sphere))"
   ]
  },
  {
   "cell_type": "code",
   "execution_count": 80,
   "metadata": {},
   "outputs": [],
   "source": [
    "def get_gauss_beam(x,y):\n",
    "    #gauss = generate_gaussian_grid(x,y,x*0.05,y*0.05).transpose()\n",
    "    #sphere = gen_sphere(x,y,x*0.05)\n",
    "    gauss = generate_gaussian_grid(x,y,x*0.2,y*0.2).transpose()\n",
    "    sphere = gen_sphere(x,y,x*0.2)\n",
    "    gauss = gauss * (np.cos(sphere) + 1j*np.sin(sphere))\n",
    "    #gauss = gauss * (np.cos(np.ones((x,y))) + 1j*np.sin(np.ones((x,y))))\n",
    "    return gauss"
   ]
  },
  {
   "cell_type": "code",
   "execution_count": 9,
   "metadata": {},
   "outputs": [],
   "source": [
    "# https://stackoverflow.com/questions/12141150/from-list-of-integers-get-number-closest-to-a-given-value\n",
    "def takeClosest(myList, myNumber):\n",
    "    \"\"\"\n",
    "    Assumes myList is sorted. Returns closest value to myNumber.\n",
    "\n",
    "    If two numbers are equally close, return the smallest number.\n",
    "    \"\"\"\n",
    "    pos = bisect_left(myList, myNumber)\n",
    "    if pos == 0:\n",
    "        before = None\n",
    "        after = None\n",
    "    elif pos == len(myList):\n",
    "        before = myList[-1]\n",
    "        after = None\n",
    "    else:\n",
    "        before = myList[pos - 1]\n",
    "        after = myList[pos]\n",
    "    \n",
    "    return before, after\n",
    "\n",
    "'''\n",
    "    0 - reject\n",
    "    1 - accept\n",
    "    2 - unsure\n",
    "'''\n",
    "def check(keys,sd,uni,sam):\n",
    "    hi = len(keys)\n",
    "    lo = 0\n",
    "    \n",
    "    if hi == 1:\n",
    "        return 2\n",
    "    \n",
    "    if hi == 2:\n",
    "        if keys[0] < uni and sam > sd.get(keys[0]):\n",
    "            return 0\n",
    "            \n",
    "        if keys[1] > uni and sam < sd.get(keys[1]):\n",
    "            return 1\n",
    "        return 2\n",
    "        \n",
    "    \n",
    "    while lo < hi:\n",
    "        mid = (lo+hi)//2\n",
    "        mk = keys[mid]\n",
    "        if mk < uni and sam > sd.get(mk):\n",
    "            return 0\n",
    "        if mid < (hi-1):    \n",
    "            mk2 = keys[mid+1]\n",
    "            if mk2 > uni and sam < sd.get(mk2):\n",
    "                return 1\n",
    "        \n",
    "        if mk < uni: lo = mid+1\n",
    "        else: hi = mid\n",
    "    return 2"
   ]
  },
  {
   "cell_type": "code",
   "execution_count": 111,
   "metadata": {},
   "outputs": [],
   "source": [
    "class speckle_noise(st.rv_continuous):\n",
    "    mu = 0.995\n",
    "    sd = SortedDict([])\n",
    "    \n",
    "    def _pdf(self,epsilon):\n",
    "        b = np.abs(self.mu) * np.cos(epsilon)\n",
    "        f = (1-np.power(np.abs(self.mu),2))/(2*np.pi)\n",
    "        g = np.power(1-np.power(b,2),(-3/2))\n",
    "        h = (b * np.arcsin(b))+((np.pi*b)/2) + np.power(1-np.power(b,2),(1/2))\n",
    "\n",
    "        return f*g*h\n",
    "        \n",
    "    def rvs(self,size):\n",
    "        res = []\n",
    "        pdf = self._pdf(0)\n",
    "        \n",
    "        self.sd.update([(0,pdf)])\n",
    "        self.keys = list(self.sd.keys())\n",
    "        \n",
    "        while len(res) < size:\n",
    "            uni = np.random.uniform(0,self.b) # Since the function is mirrored around 0\n",
    "            sam = np.random.uniform(0,pdf)\n",
    "            \n",
    "            c = check(self.keys,self.sd,uni,sam)\n",
    "            \n",
    "            if c == 0:\n",
    "                continue\n",
    "            if c == 1:\n",
    "                sign = np.random.randint(2)+1\n",
    "        \n",
    "                res.append(uni*((-1)**sign))\n",
    "                continue\n",
    "            \n",
    "            pdf_val = self._pdf(uni)\n",
    "            if sam < pdf_val:\n",
    "                sign = np.random.randint(2)+1\n",
    "        \n",
    "                res.append(uni*((-1)**sign))\n",
    "                self.sd.update([(uni,pdf_val)])\n",
    "                self.keys = list(self.sd.keys())\n",
    "\n",
    "        return np.array(res)\n",
    "\n",
    "noise_dist = speckle_noise(a=-math.pi, b=math.pi, name='speckle')\n",
    "    \n",
    "def generate_noise(x,y):\n",
    "    noise = noise_dist.rvs(size=(x*y))\n",
    "    noise = noise.reshape((x,y))\n",
    "    \n",
    "    return noise"
   ]
  },
  {
   "cell_type": "code",
   "execution_count": 113,
   "metadata": {},
   "outputs": [
    {
     "data": {
      "text/plain": [
       "(array([1.6500e+02, 0.0000e+00, 0.0000e+00, 1.9500e+02, 0.0000e+00,\n",
       "        0.0000e+00, 0.0000e+00, 0.0000e+00, 7.2000e+01, 7.5000e+01,\n",
       "        3.6000e+01, 1.4400e+02, 0.0000e+00, 4.4200e+02, 7.0600e+02,\n",
       "        9.1500e+02, 2.8180e+03, 7.2130e+03, 1.4729e+04, 2.4829e+04,\n",
       "        1.1662e+04, 5.9060e+03, 2.1980e+03, 1.7840e+03, 1.2730e+03,\n",
       "        1.7300e+02, 0.0000e+00, 1.9300e+02, 2.1200e+02, 0.0000e+00,\n",
       "        4.9000e+01, 0.0000e+00, 0.0000e+00, 1.1900e+02, 3.2000e+01,\n",
       "        0.0000e+00, 0.0000e+00, 0.0000e+00, 0.0000e+00, 0.0000e+00,\n",
       "        0.0000e+00, 0.0000e+00, 0.0000e+00, 0.0000e+00, 2.0000e+00,\n",
       "        1.1700e+02, 0.0000e+00, 0.0000e+00, 0.0000e+00, 1.1700e+02]),\n",
       " array([-1.98874587, -1.88621751, -1.78368916, -1.68116081, -1.57863245,\n",
       "        -1.4761041 , -1.37357574, -1.27104739, -1.16851903, -1.06599068,\n",
       "        -0.96346232, -0.86093397, -0.75840561, -0.65587726, -0.5533489 ,\n",
       "        -0.45082055, -0.34829219, -0.24576384, -0.14323548, -0.04070713,\n",
       "         0.06182123,  0.16434958,  0.26687794,  0.36940629,  0.47193465,\n",
       "         0.574463  ,  0.67699136,  0.77951971,  0.88204807,  0.98457642,\n",
       "         1.08710477,  1.18963313,  1.29216148,  1.39468984,  1.49721819,\n",
       "         1.59974655,  1.7022749 ,  1.80480326,  1.90733161,  2.00985997,\n",
       "         2.11238832,  2.21491668,  2.31744503,  2.41997339,  2.52250174,\n",
       "         2.6250301 ,  2.72755845,  2.83008681,  2.93261516,  3.03514352,\n",
       "         3.13767187]),\n",
       " <a list of 50 Patch objects>)"
      ]
     },
     "execution_count": 113,
     "metadata": {},
     "output_type": "execute_result"
    },
    {
     "data": {
      "image/png": "[encoded data removed]",
      "text/plain": [
       "<Figure size 864x720 with 1 Axes>"
      ]
     },
     "metadata": {},
     "output_type": "display_data"
    }
   ],
   "source": [
    "x = 276\n",
    "y = 276\n",
    "max_size = 20\n",
    "\n",
    "def gen_rand_sizes(i):\n",
    "    sum_i = 0\n",
    "    list_i = []\n",
    "    \n",
    "    while sum_i < (i-1):\n",
    "        r = random.randint(1,min(max_size,i-(sum_i-1)))\n",
    "        list_i.append(r)\n",
    "        sum_i+=r\n",
    "        \n",
    "    return list_i\n",
    "\n",
    "def gen_noise_random_size(x,y):\n",
    "    x_list = gen_rand_sizes(x)\n",
    "    y_list = gen_rand_sizes(y)\n",
    "    \n",
    "    noise = noise_dist.rvs(size=(len(x_list)*len(y_list)))\n",
    "    #noise = np.random.exponential(size=(len(x_list)*len(y_list)))\n",
    "    \n",
    "    noise_mat = np.zeros((x,y))\n",
    "    \n",
    "    current_x = 0\n",
    "    current_y = 0\n",
    "    \n",
    "    noise_counter = 0\n",
    "    \n",
    "    for block_x in x_list:\n",
    "        current_y = 0\n",
    "        for block_y in y_list:\n",
    "            noise_mat[current_x:current_x+block_x,current_y:current_y+block_y] = noise[noise_counter]\n",
    "            current_y += block_y\n",
    "            noise_counter += 1\n",
    "        current_x += block_x\n",
    "            \n",
    "    #noise_mat = sp.ndimage.filters.gaussian_filter(noise_mat,sigma=3)\n",
    "    \n",
    "    mean = np.mean(noise_mat)\n",
    "    sd = np.std(noise_mat)\n",
    "    \n",
    "    noise_mat = (noise_mat-mean)/np.max(noise_mat)\n",
    "    noise_mat *= np.pi\n",
    "            \n",
    "    return noise_mat\n",
    "            \n",
    "#plt.imshow(gen_noise_random_size(x,y))\n",
    "np.mean(np.abs(gen_noise_random_size(x,y)+1))\n",
    "n=gen_noise_random_size(x,y)\n",
    "phase = np.angle(np.cos(n) + 1j*np.sin(n))\n",
    "#plt.imshow(phase)\n",
    "plt.hist(phase.flatten(),50)\n",
    "#plt.axis('off')"
   ]
  },
  {
   "cell_type": "code",
   "execution_count": 53,
   "metadata": {},
   "outputs": [],
   "source": [
    "def get_diffracted(in_beam,aperture_beam,dist,wavelength):\n",
    "    f = in_beam*aperture_beam\n",
    "    \n",
    "    wave_dist = dist*wavelength\n",
    "    kernel = get_kernel(wavelength,dist,x,y,x,y)\n",
    "    \n",
    "    fft_diffracted = np.fft.fftshift(np.fft.fft2(f)) * kernel\n",
    "    diffracted = np.fft.ifft2(np.fft.ifftshift(fft_diffracted))\n",
    "    #fft_aperture = np.fft.fftshift(np.fft.fft2(in_beam/wave_dist))\n",
    "    #diffracted = (np.power(np.abs(in_beam),2)/np.power(wave_dist,2)) * np.power(fft_aperture,2)\n",
    "    \n",
    "    return diffracted"
   ]
  },
  {
   "cell_type": "code",
   "execution_count": 56,
   "metadata": {},
   "outputs": [
    {
     "data": {
      "image/png": "[encoded data removed]",
      "text/plain": [
       "<Figure size 432x288 with 2 Axes>"
      ]
     },
     "metadata": {},
     "output_type": "display_data"
    }
   ],
   "source": [
    "kernel = get_kernel(wavelength,0,x,y,x,y)\n",
    "show_wave(kernel)"
   ]
  },
  {
   "cell_type": "code",
   "execution_count": 93,
   "metadata": {},
   "outputs": [
    {
     "ename": "KeyboardInterrupt",
     "evalue": "",
     "output_type": "error",
     "traceback": [
      "\u001b[1;31m---------------------------------------------------------------------------\u001b[0m",
      "\u001b[1;31mKeyboardInterrupt\u001b[0m                         Traceback (most recent call last)",
      "\u001b[1;32m<ipython-input-93-49621328e932>\u001b[0m in \u001b[0;36m<module>\u001b[1;34m()\u001b[0m\n\u001b[0;32m      5\u001b[0m \u001b[0mdist\u001b[0m\u001b[1;33m=\u001b[0m\u001b[1;36m200\u001b[0m\u001b[1;33m\u001b[0m\u001b[0m\n\u001b[0;32m      6\u001b[0m \u001b[1;33m\u001b[0m\u001b[0m\n\u001b[1;32m----> 7\u001b[1;33m \u001b[0min_beam\u001b[0m \u001b[1;33m=\u001b[0m \u001b[0mget_gauss_beam\u001b[0m\u001b[1;33m(\u001b[0m\u001b[0mx\u001b[0m\u001b[1;33m,\u001b[0m\u001b[0my\u001b[0m\u001b[1;33m)\u001b[0m\u001b[1;33m\u001b[0m\u001b[0m\n\u001b[0m\u001b[0;32m      8\u001b[0m \u001b[1;31m#in_beam = np.cos(np.zeros((x,y))) + 1j*np.sin(np.zeros((x,y)))\u001b[0m\u001b[1;33m\u001b[0m\u001b[1;33m\u001b[0m\u001b[0m\n\u001b[0;32m      9\u001b[0m \u001b[0maperture\u001b[0m \u001b[1;33m=\u001b[0m \u001b[0mnp\u001b[0m\u001b[1;33m.\u001b[0m\u001b[0mzeros\u001b[0m\u001b[1;33m(\u001b[0m\u001b[1;33m(\u001b[0m\u001b[0mx\u001b[0m\u001b[1;33m,\u001b[0m\u001b[0my\u001b[0m\u001b[1;33m)\u001b[0m\u001b[1;33m)\u001b[0m\u001b[1;33m\u001b[0m\u001b[0m\n",
      "\u001b[1;32m<ipython-input-80-5f05a5198e65>\u001b[0m in \u001b[0;36mget_gauss_beam\u001b[1;34m(x, y)\u001b[0m\n\u001b[0;32m      2\u001b[0m     \u001b[1;31m#gauss = generate_gaussian_grid(x,y,x*0.05,y*0.05).transpose()\u001b[0m\u001b[1;33m\u001b[0m\u001b[1;33m\u001b[0m\u001b[0m\n\u001b[0;32m      3\u001b[0m     \u001b[1;31m#sphere = gen_sphere(x,y,x*0.05)\u001b[0m\u001b[1;33m\u001b[0m\u001b[1;33m\u001b[0m\u001b[0m\n\u001b[1;32m----> 4\u001b[1;33m     \u001b[0mgauss\u001b[0m \u001b[1;33m=\u001b[0m \u001b[0mgenerate_gaussian_grid\u001b[0m\u001b[1;33m(\u001b[0m\u001b[0mx\u001b[0m\u001b[1;33m,\u001b[0m\u001b[0my\u001b[0m\u001b[1;33m,\u001b[0m\u001b[0mx\u001b[0m\u001b[1;33m*\u001b[0m\u001b[1;36m0.2\u001b[0m\u001b[1;33m,\u001b[0m\u001b[0my\u001b[0m\u001b[1;33m*\u001b[0m\u001b[1;36m0.2\u001b[0m\u001b[1;33m)\u001b[0m\u001b[1;33m.\u001b[0m\u001b[0mtranspose\u001b[0m\u001b[1;33m(\u001b[0m\u001b[1;33m)\u001b[0m\u001b[1;33m\u001b[0m\u001b[0m\n\u001b[0m\u001b[0;32m      5\u001b[0m     \u001b[0msphere\u001b[0m \u001b[1;33m=\u001b[0m \u001b[0mgen_sphere\u001b[0m\u001b[1;33m(\u001b[0m\u001b[0mx\u001b[0m\u001b[1;33m,\u001b[0m\u001b[0my\u001b[0m\u001b[1;33m,\u001b[0m\u001b[0mx\u001b[0m\u001b[1;33m*\u001b[0m\u001b[1;36m0.2\u001b[0m\u001b[1;33m)\u001b[0m\u001b[1;33m\u001b[0m\u001b[0m\n\u001b[0;32m      6\u001b[0m     \u001b[0mgauss\u001b[0m \u001b[1;33m=\u001b[0m \u001b[0mgauss\u001b[0m \u001b[1;33m*\u001b[0m \u001b[1;33m(\u001b[0m\u001b[0mnp\u001b[0m\u001b[1;33m.\u001b[0m\u001b[0mcos\u001b[0m\u001b[1;33m(\u001b[0m\u001b[0msphere\u001b[0m\u001b[1;33m)\u001b[0m \u001b[1;33m+\u001b[0m \u001b[1;36m1j\u001b[0m\u001b[1;33m*\u001b[0m\u001b[0mnp\u001b[0m\u001b[1;33m.\u001b[0m\u001b[0msin\u001b[0m\u001b[1;33m(\u001b[0m\u001b[0msphere\u001b[0m\u001b[1;33m)\u001b[0m\u001b[1;33m)\u001b[0m\u001b[1;33m\u001b[0m\u001b[0m\n",
      "\u001b[1;31mKeyboardInterrupt\u001b[0m: "
     ]
    }
   ],
   "source": [
    "#Test rect aperture\n",
    "x=10000\n",
    "y=10001\n",
    "wavelength = 0.525\n",
    "dist=200\n",
    "\n",
    "in_beam = get_gauss_beam(x,y)\n",
    "#in_beam = np.cos(np.zeros((x,y))) + 1j*np.sin(np.zeros((x,y)))\n",
    "aperture = np.zeros((x,y))\n",
    "aperture[230:300,230:300] = 1\n",
    "\n",
    "diffracted = get_diffracted(in_beam,aperture,dist,wavelength)\n",
    "\n",
    "#plt.imshow(aperture)\n",
    "show_wave(diffracted)"
   ]
  },
  {
   "cell_type": "code",
   "execution_count": null,
   "metadata": {},
   "outputs": [],
   "source": [
    "#Test gauss beam + noise\n",
    "x = 10000\n",
    "y = 10001\n",
    "dist = 100\n",
    "wavelength = 0.525\n",
    "\n",
    "num_imgs = 5\n",
    "\n",
    "gauss = get_gauss_beam(x,y)\n",
    "noise = gen_noise_random_size(x,y)\n",
    "noise_ap = (np.cos(noise) + 1j*np.sin(noise)) #* (1 - ())\n",
    "\n",
    "noises = []\n",
    "for i in range(num_imgs):\n",
    "    n = gen_noise_random_size(x,y)\n",
    "    n_ap = (np.cos(noise) + 1j*np.sin(noise))\n",
    "    noises.append(n_ap)"
   ]
  },
  {
   "cell_type": "code",
   "execution_count": null,
   "metadata": {},
   "outputs": [],
   "source": [
    "#noise = np.zeros((x,y))\n",
    "comb = get_diffracted(gauss,noise_ap,dist,wavelength)\n",
    "\n",
    "combs = [comb]\n",
    "\n",
    "for i in range(num_imgs):\n",
    "    combs.append(get_diffracted(combs[i],noises[i],dist,wavelength))\n",
    "\n",
    "print()\n",
    "#wave = gen_noise_random_size(x,y)"
   ]
  },
  {
   "cell_type": "code",
   "execution_count": null,
   "metadata": {},
   "outputs": [],
   "source": [
    "ani = WaveAnimation(combs)\n",
    "ani.close()\n",
    "HTML(ani.to_html5_video())"
   ]
  },
  {
   "cell_type": "code",
   "execution_count": null,
   "metadata": {},
   "outputs": [],
   "source": [
    "window = combs[5][3700:3700+250,5000:5000+250]\n",
    "#window=gauss\n",
    "abs_comb = np.abs(window)\n",
    "\n",
    "fig,ax = plt.subplots(1,3)\n",
    "\n",
    "ax[0].set_title(\"Amplitude\")\n",
    "im0 = ax[0].imshow(abs_comb)\n",
    "fig.colorbar(im0,ax=ax[0])\n",
    "#ax[0].get_xaxis().set_visible(False)\n",
    "#ax[0].get_yaxis().set_visible(False)\n",
    "\n",
    "ax[1].set_title(\"Phase\")\n",
    "im1 = ax[1].imshow(np.angle(window))\n",
    "fig.colorbar(im1,ax=ax[1])\n",
    "\n",
    "ax[2].set_title(\"Histogram\")\n",
    "ax[2].hist(abs_comb.flatten(),100)\n",
    "\n",
    "print()\n",
    "\n",
    "#print(np.sum(np.abs(combs[0])))\n",
    "#print(np.sum(np.abs(combs[1])))\n",
    "#print(np.sum(np.abs(combs[2])))\n",
    "#print(np.sum(np.abs(combs[3])))\n",
    "#print(np.sum(np.abs(combs[4])))\n",
    "#print(np.sum(np.abs(combs[5])))\n",
    "#print(np.sum(np.abs(combs[6])))"
   ]
  },
  {
   "cell_type": "code",
   "execution_count": null,
   "metadata": {},
   "outputs": [],
   "source": [
    "plt.imshow(abs_comb)"
   ]
  },
  {
   "cell_type": "code",
   "execution_count": null,
   "metadata": {},
   "outputs": [],
   "source": [
    "#No noise\n",
    "plane = np.cos(np.zeros((x,y))) + 1j*np.sin(np.zeros((x,y)))\n",
    "plane_comb = get_diffracted(gauss,plane,dist,wavelength)\n",
    "\n",
    "plane_combs = [plane_comb]\n",
    "\n",
    "for i in range(num_imgs):\n",
    "    plane_combs.append(get_diffracted(plane_combs[i],plane,dist,wavelength))\n",
    "\n",
    "print()\n",
    "#wave = gen_noise_random_size(x,y)"
   ]
  }
 ],
 "metadata": {
  "kernelspec": {
   "display_name": "Python 3",
   "language": "python",
   "name": "python3"
  },
  "language_info": {
   "codemirror_mode": {
    "name": "ipython",
    "version": 3
   },
   "file_extension": ".py",
   "mimetype": "text/x-python",
   "name": "python",
   "nbconvert_exporter": "python",
   "pygments_lexer": "ipython3",
   "version": "3.6.6"
  }
 },
 "nbformat": 4,
 "nbformat_minor": 2
}
