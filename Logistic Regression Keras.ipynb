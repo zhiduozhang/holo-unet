{
 "cells": [
  {
   "cell_type": "code",
   "execution_count": 1,
   "metadata": {},
   "outputs": [],
   "source": [
    "# from comet_ml import Experiment\n",
    "# experiment = Experiment(api_key=\"xktj4EX0zB8YcQ3BEaFwOQYpu\")"
   ]
  },
  {
   "cell_type": "code",
   "execution_count": 2,
   "metadata": {
    "scrolled": true
   },
   "outputs": [
    {
     "name": "stderr",
     "output_type": "stream",
     "text": [
      "C:\\Users\\Duo\\Anaconda3\\envs\\fastai\\lib\\site-packages\\h5py\\__init__.py:36: FutureWarning: Conversion of the second argument of issubdtype from `float` to `np.floating` is deprecated. In future, it will be treated as `np.float64 == np.dtype(float).type`.\n",
      "  from ._conv import register_converters as _register_converters\n",
      "Using TensorFlow backend.\n"
     ]
    }
   ],
   "source": [
    "import numpy as np\n",
    "from keras.models import Sequential \n",
    "from keras.layers import Dense, Activation\n",
    "from keras.regularizers import l2\n",
    "from keras.utils import np_utils "
   ]
  },
  {
   "cell_type": "code",
   "execution_count": 30,
   "metadata": {},
   "outputs": [],
   "source": [
    "import os\n",
    "import fnmatch\n",
    "\n",
    "import pandas as pd\n",
    "\n",
    "import sklearn.preprocessing as preprocessing\n",
    "from sklearn.cross_validation import StratifiedKFold\n",
    "from sklearn.metrics import confusion_matrix\n",
    "\n",
    "import matplotlib.pyplot as plt\n",
    "\n",
    "import itertools\n",
    "\n",
    "import scipy.stats as stats"
   ]
  },
  {
   "cell_type": "code",
   "execution_count": null,
   "metadata": {},
   "outputs": [],
   "source": []
  },
  {
   "cell_type": "markdown",
   "metadata": {},
   "source": [
    "## Load Data"
   ]
  },
  {
   "cell_type": "code",
   "execution_count": 4,
   "metadata": {},
   "outputs": [],
   "source": [
    "train_path = \"I:\\\\Honours-Project\\\\data\\\\sorted\\\\agg\\\\train\\\\\"\n",
    "train_csv = \"I:\\\\Honours-Project\\\\data\\\\sorted\\\\agg\\\\train\\\\ids.csv\"\n",
    "test_path = \"I:\\\\Honours-Project\\\\data\\\\sorted\\\\agg\\\\test\\\\\"\n",
    "test_csv = \"I:\\\\Honours-Project\\\\data\\\\sorted\\\\agg\\\\test\\\\ids.csv\"\n",
    "\n",
    "dest_path = \"I:\\\\Honours-Project\\\\data\\\\sorted\\\\agg\\\\\"\n",
    "\n",
    "csv = \"I:\\\\Honours-Project\\\\data\\\\sorted\\\\agg\\\\ids.csv\""
   ]
  },
  {
   "cell_type": "code",
   "execution_count": 5,
   "metadata": {},
   "outputs": [],
   "source": [
    "df = pd.read_csv(csv,index_col=0).sample(frac=1)"
   ]
  },
  {
   "cell_type": "markdown",
   "metadata": {},
   "source": [
    "### Downsample to balanced classes"
   ]
  },
  {
   "cell_type": "code",
   "execution_count": 6,
   "metadata": {
    "scrolled": false
   },
   "outputs": [
    {
     "name": "stdout",
     "output_type": "stream",
     "text": [
      "flow_rate\n",
      "1800    116\n",
      "3600    116\n",
      "7200    116\n",
      "dtype: int64\n"
     ]
    }
   ],
   "source": [
    "ds_count = min(df.groupby('flow_rate').size())\n",
    "ds_flow = df.groupby('flow_rate').size().idxmin()\n",
    "\n",
    "samples = pd.concat([df[df['flow_rate']==i].sample(n=ds_count) for i in (1800,3600,7200)],ignore_index=True)\n",
    "\n",
    "df = samples.sample(frac=1)\n",
    "\n",
    "print(samples.groupby('flow_rate').size())"
   ]
  },
  {
   "cell_type": "markdown",
   "metadata": {},
   "source": [
    "### Drop columns which we aren't using as features"
   ]
  },
  {
   "cell_type": "code",
   "execution_count": 7,
   "metadata": {},
   "outputs": [],
   "source": [
    "def drop_cols(df):\n",
    "    return df.drop(columns=['name','date','flow_rate','source','moments',\n",
    "                            'inertia_tensor','euler_number','num_peaks','cluster']).as_matrix()"
   ]
  },
  {
   "cell_type": "code",
   "execution_count": 8,
   "metadata": {},
   "outputs": [],
   "source": [
    "df['log_volume'] = df['volume'].apply(np.log)\n",
    "\n",
    "x = df.drop(columns=['name','date','flow_rate','source','moments','inertia_tensor'])\n",
    "\n",
    "# Drop catagorical features\n",
    "mat = x.drop(columns=['euler_number', 'num_peaks', 'cluster'])\n",
    "\n",
    "x = mat.as_matrix()\n",
    "# x = standardize = preprocessing.scale(x)"
   ]
  },
  {
   "cell_type": "markdown",
   "metadata": {},
   "source": [
    "### Ignore this block"
   ]
  },
  {
   "cell_type": "code",
   "execution_count": 9,
   "metadata": {},
   "outputs": [],
   "source": [
    "test_size = int(df.shape[0]/10)\n",
    "\n",
    "x_test = np.array(x[:test_size])\n",
    "y_test = df['flow_rate'][:test_size].values\n",
    "\n",
    "x_train = np.array(x[test_size:])\n",
    "y_train = df['flow_rate'][test_size:].values\n",
    "\n",
    "std = np.std(x_train,0)\n",
    "mean = np.mean(x_train,0)\n",
    "    \n",
    "x_train = (x_train-mean)/std\n",
    "x_test = (x_test-mean)/std    "
   ]
  },
  {
   "cell_type": "markdown",
   "metadata": {},
   "source": [
    "### Split data into balanced test and training sets"
   ]
  },
  {
   "cell_type": "code",
   "execution_count": 10,
   "metadata": {},
   "outputs": [
    {
     "name": "stdout",
     "output_type": "stream",
     "text": [
      "(318, 9)\n",
      "(30, 9)\n"
     ]
    }
   ],
   "source": [
    "x_test = pd.concat([df[df['flow_rate']==i].sample(n=10) for i in (1800,3600,7200)],ignore_index=True)\n",
    "y_test = x_test['flow_rate'].values\n",
    "\n",
    "x_train = pd.concat([df, x_test, x_test]).drop_duplicates(keep=False)\n",
    "y_train = x_train['flow_rate'].values\n",
    "\n",
    "x_test = drop_cols(x_test)\n",
    "x_train = drop_cols(x_train)\n",
    "\n",
    "print(x_train.shape)\n",
    "print(x_test.shape)\n",
    "\n",
    "std = np.std(x_train,0)\n",
    "mean = np.mean(x_train,0)\n",
    "    \n",
    "x_train = (x_train-mean)/std\n",
    "x_test = (x_test-mean)/std    "
   ]
  },
  {
   "cell_type": "markdown",
   "metadata": {},
   "source": [
    "## Run Logistic Regression"
   ]
  },
  {
   "cell_type": "code",
   "execution_count": 11,
   "metadata": {},
   "outputs": [],
   "source": [
    "batch_size = 16\n",
    "nb_classes = 3\n",
    "nb_epoch = 30\n",
    "\n",
    "lmda = 0.001"
   ]
  },
  {
   "cell_type": "code",
   "execution_count": 12,
   "metadata": {},
   "outputs": [],
   "source": [
    "input_dim = x_train.shape[1]"
   ]
  },
  {
   "cell_type": "code",
   "execution_count": 13,
   "metadata": {},
   "outputs": [],
   "source": [
    "y_train[y_train == 1800] = 0\n",
    "y_train[y_train == 3600] = 1\n",
    "y_train[y_train == 7200] = 2\n",
    "\n",
    "y_test[y_test == 1800] = 0\n",
    "y_test[y_test == 3600] = 1\n",
    "y_test[y_test == 7200] = 2\n",
    "\n",
    "y_train = np_utils.to_categorical(y_train, nb_classes) \n",
    "y_test = np_utils.to_categorical(y_test, nb_classes)"
   ]
  },
  {
   "cell_type": "code",
   "execution_count": 14,
   "metadata": {},
   "outputs": [],
   "source": [
    "def build_logistic_model(input_dim, output_dim):\n",
    "    model = Sequential()\n",
    "    model.add(Dense(output_dim, input_dim=input_dim,\n",
    "                    kernel_regularizer=l2(lmda),\n",
    "                    activation='softmax'))\n",
    "\n",
    "    return model"
   ]
  },
  {
   "cell_type": "code",
   "execution_count": 15,
   "metadata": {},
   "outputs": [],
   "source": [
    "model = None\n",
    "model = build_logistic_model(input_dim, nb_classes)"
   ]
  },
  {
   "cell_type": "code",
   "execution_count": 16,
   "metadata": {
    "scrolled": true
   },
   "outputs": [
    {
     "name": "stdout",
     "output_type": "stream",
     "text": [
      "_________________________________________________________________\n",
      "Layer (type)                 Output Shape              Param #   \n",
      "=================================================================\n",
      "dense_1 (Dense)              (None, 3)                 30        \n",
      "=================================================================\n",
      "Total params: 30\n",
      "Trainable params: 30\n",
      "Non-trainable params: 0\n",
      "_________________________________________________________________\n"
     ]
    }
   ],
   "source": [
    "model.summary()"
   ]
  },
  {
   "cell_type": "markdown",
   "metadata": {},
   "source": [
    "## Compile the model"
   ]
  },
  {
   "cell_type": "code",
   "execution_count": 17,
   "metadata": {
    "scrolled": true
   },
   "outputs": [
    {
     "name": "stdout",
     "output_type": "stream",
     "text": [
      "Train on 318 samples, validate on 30 samples\n",
      "Epoch 1/30\n",
      "318/318 [==============================] - 2s 6ms/step - loss: 1.5813 - acc: 0.2862 - val_loss: 1.2998 - val_acc: 0.5333\n",
      "Epoch 2/30\n",
      "318/318 [==============================] - 0s 245us/step - loss: 1.5182 - acc: 0.2862 - val_loss: 1.2464 - val_acc: 0.5333\n",
      "Epoch 3/30\n",
      "318/318 [==============================] - 0s 226us/step - loss: 1.4634 - acc: 0.2736 - val_loss: 1.2019 - val_acc: 0.5667\n",
      "Epoch 4/30\n",
      "318/318 [==============================] - 0s 215us/step - loss: 1.4185 - acc: 0.2830 - val_loss: 1.1648 - val_acc: 0.5333\n",
      "Epoch 5/30\n",
      "318/318 [==============================] - 0s 217us/step - loss: 1.3799 - acc: 0.2925 - val_loss: 1.1349 - val_acc: 0.5333\n",
      "Epoch 6/30\n",
      "318/318 [==============================] - 0s 217us/step - loss: 1.3470 - acc: 0.2830 - val_loss: 1.1106 - val_acc: 0.5333\n",
      "Epoch 7/30\n",
      "318/318 [==============================] - 0s 217us/step - loss: 1.3193 - acc: 0.2956 - val_loss: 1.0910 - val_acc: 0.5667\n",
      "Epoch 8/30\n",
      "318/318 [==============================] - 0s 233us/step - loss: 1.2953 - acc: 0.2956 - val_loss: 1.0750 - val_acc: 0.5667\n",
      "Epoch 9/30\n",
      "318/318 [==============================] - 0s 217us/step - loss: 1.2734 - acc: 0.2987 - val_loss: 1.0616 - val_acc: 0.5667\n",
      "Epoch 10/30\n",
      "318/318 [==============================] - 0s 227us/step - loss: 1.2550 - acc: 0.2956 - val_loss: 1.0502 - val_acc: 0.5667\n",
      "Epoch 11/30\n",
      "318/318 [==============================] - 0s 236us/step - loss: 1.2384 - acc: 0.3050 - val_loss: 1.0410 - val_acc: 0.6000\n",
      "Epoch 12/30\n",
      "318/318 [==============================] - 0s 211us/step - loss: 1.2232 - acc: 0.3082 - val_loss: 1.0339 - val_acc: 0.6333\n",
      "Epoch 13/30\n",
      "318/318 [==============================] - 0s 233us/step - loss: 1.2093 - acc: 0.3208 - val_loss: 1.0276 - val_acc: 0.6333\n",
      "Epoch 14/30\n",
      "318/318 [==============================] - 0s 217us/step - loss: 1.1970 - acc: 0.3176 - val_loss: 1.0224 - val_acc: 0.6333\n",
      "Epoch 15/30\n",
      "318/318 [==============================] - 0s 229us/step - loss: 1.1860 - acc: 0.3208 - val_loss: 1.0178 - val_acc: 0.6333\n",
      "Epoch 16/30\n",
      "318/318 [==============================] - 0s 245us/step - loss: 1.1757 - acc: 0.3239 - val_loss: 1.0148 - val_acc: 0.6000\n",
      "Epoch 17/30\n",
      "318/318 [==============================] - 0s 223us/step - loss: 1.1661 - acc: 0.3270 - val_loss: 1.0124 - val_acc: 0.6000\n",
      "Epoch 18/30\n",
      "318/318 [==============================] - 0s 248us/step - loss: 1.1579 - acc: 0.3302 - val_loss: 1.0100 - val_acc: 0.5333\n",
      "Epoch 19/30\n",
      "318/318 [==============================] - 0s 255us/step - loss: 1.1509 - acc: 0.3302 - val_loss: 1.0084 - val_acc: 0.5000\n",
      "Epoch 20/30\n",
      "318/318 [==============================] - 0s 226us/step - loss: 1.1432 - acc: 0.3365 - val_loss: 1.0072 - val_acc: 0.5000\n",
      "Epoch 21/30\n",
      "318/318 [==============================] - 0s 245us/step - loss: 1.1365 - acc: 0.3333 - val_loss: 1.0064 - val_acc: 0.5000\n",
      "Epoch 22/30\n",
      "318/318 [==============================] - 0s 245us/step - loss: 1.1309 - acc: 0.3365 - val_loss: 1.0057 - val_acc: 0.5000\n",
      "Epoch 23/30\n",
      "318/318 [==============================] - 0s 214us/step - loss: 1.1255 - acc: 0.3491 - val_loss: 1.0062 - val_acc: 0.5000\n",
      "Epoch 24/30\n",
      "318/318 [==============================] - 0s 226us/step - loss: 1.1208 - acc: 0.3522 - val_loss: 1.0067 - val_acc: 0.5000\n",
      "Epoch 25/30\n",
      "318/318 [==============================] - 0s 248us/step - loss: 1.1165 - acc: 0.3459 - val_loss: 1.0071 - val_acc: 0.4667\n",
      "Epoch 26/30\n",
      "318/318 [==============================] - 0s 226us/step - loss: 1.1123 - acc: 0.3396 - val_loss: 1.0077 - val_acc: 0.4667\n",
      "Epoch 27/30\n",
      "318/318 [==============================] - 0s 297us/step - loss: 1.1087 - acc: 0.3428 - val_loss: 1.0080 - val_acc: 0.4667\n",
      "Epoch 28/30\n",
      "318/318 [==============================] - 0s 305us/step - loss: 1.1047 - acc: 0.3491 - val_loss: 1.0089 - val_acc: 0.4333\n",
      "Epoch 29/30\n",
      "318/318 [==============================] - 0s 299us/step - loss: 1.1015 - acc: 0.3553 - val_loss: 1.0098 - val_acc: 0.4333\n",
      "Epoch 30/30\n",
      "318/318 [==============================] - 0s 308us/step - loss: 1.0987 - acc: 0.3522 - val_loss: 1.0104 - val_acc: 0.4333\n"
     ]
    }
   ],
   "source": [
    "model.compile(optimizer='sgd', loss='categorical_crossentropy', metrics=['accuracy'])\n",
    "history = model.fit(x_train, y_train,\n",
    "                    batch_size=batch_size, epochs=nb_epoch,\n",
    "                    verbose=1, validation_data=(x_test, y_test))\n",
    "score = model.evaluate(x_test, y_test, verbose=0)"
   ]
  },
  {
   "cell_type": "code",
   "execution_count": 18,
   "metadata": {},
   "outputs": [
    {
     "name": "stdout",
     "output_type": "stream",
     "text": [
      "Test score: 1.0104328393936157\n",
      "Test accuracy: 0.4333333373069763\n"
     ]
    }
   ],
   "source": [
    "print('Test score:', score[0])\n",
    "print('Test accuracy:', score[1])"
   ]
  },
  {
   "cell_type": "markdown",
   "metadata": {},
   "source": [
    "## Confusion Matrix"
   ]
  },
  {
   "cell_type": "code",
   "execution_count": 19,
   "metadata": {},
   "outputs": [],
   "source": [
    "def plot_confusion_matrix(cm, classes,\n",
    "                          normalize=False,\n",
    "                          title='Confusion matrix',\n",
    "                          cmap=plt.cm.Blues):\n",
    "    \"\"\"\n",
    "    This function prints and plots the confusion matrix.\n",
    "    Normalization can be applied by setting `normalize=True`.\n",
    "    \"\"\"\n",
    "    plt.imshow(cm, interpolation='nearest', cmap=cmap)\n",
    "    plt.title(title)\n",
    "    plt.colorbar()\n",
    "    tick_marks = np.arange(len(classes))\n",
    "    plt.xticks(tick_marks, classes, rotation=45)\n",
    "    plt.yticks(tick_marks, classes)\n",
    "\n",
    "    if normalize:\n",
    "        cm = cm.astype('float') / cm.sum(axis=1)[:, np.newaxis]\n",
    "\n",
    "    thresh = cm.max() / 2.\n",
    "    for i, j in itertools.product(range(cm.shape[0]), range(cm.shape[1])):\n",
    "        plt.text(j, i, cm[i, j],\n",
    "                 horizontalalignment=\"center\",\n",
    "                 color=\"white\" if cm[i, j] > thresh else \"black\")\n",
    "\n",
    "    plt.tight_layout()\n",
    "    plt.ylabel('True label')\n",
    "    plt.xlabel('Predicted label')"
   ]
  },
  {
   "cell_type": "code",
   "execution_count": 20,
   "metadata": {},
   "outputs": [
    {
     "data": {
      "image/png": "[encoded data removed]",
      "text/plain": [
       "<Figure size 432x288 with 2 Axes>"
      ]
     },
     "metadata": {},
     "output_type": "display_data"
    }
   ],
   "source": [
    "# Predict the values from the validation dataset\n",
    "Y_pred = model.predict(x_test)\n",
    "# Convert predictions classes to one hot vectors \n",
    "Y_pred_classes = np.argmax(Y_pred,axis = 1) \n",
    "# Convert validation observations to one hot vectors\n",
    "Y_true = np.argmax(y_test,axis = 1) \n",
    "\n",
    "# compute the confusion matrix\n",
    "confusion_mtx = confusion_matrix(Y_true, Y_pred_classes) \n",
    "# plot the confusion matrix\n",
    "plot_confusion_matrix(confusion_mtx, classes = range(3)) "
   ]
  },
  {
   "cell_type": "markdown",
   "metadata": {},
   "source": [
    "## LR With Cross Validation"
   ]
  },
  {
   "cell_type": "code",
   "execution_count": 21,
   "metadata": {},
   "outputs": [],
   "source": [
    "batch_size = 16\n",
    "nb_classes = 3\n",
    "nb_epoch = 20"
   ]
  },
  {
   "cell_type": "code",
   "execution_count": 32,
   "metadata": {},
   "outputs": [],
   "source": [
    "def train_and_evaluate_model(model, x_train, y_train, x_test, y_test):\n",
    "    model.compile(optimizer='sgd', loss='categorical_crossentropy', metrics=['accuracy'])\n",
    "    history = model.fit(x_train, y_train,\n",
    "                    batch_size=batch_size, epochs=nb_epoch,\n",
    "                    verbose=1, validation_data=(x_test, y_test))\n",
    "    score = model.evaluate(x_test, y_test, verbose=2)\n",
    "    return score[1]"
   ]
  },
  {
   "cell_type": "code",
   "execution_count": 36,
   "metadata": {
    "scrolled": true
   },
   "outputs": [
    {
     "name": "stdout",
     "output_type": "stream",
     "text": [
      "Running Fold 1 / 10\n",
      "[[ 0 12]\n",
      " [ 1 12]\n",
      " [ 2 12]]\n",
      "Train on 312 samples, validate on 36 samples\n",
      "Epoch 1/20\n",
      "312/312 [==============================] - 1s 4ms/step - loss: 1.4016 - acc: 0.3686 - val_loss: 1.3461 - val_acc: 0.3333\n",
      "Epoch 2/20\n",
      "312/312 [==============================] - 0s 272us/step - loss: 1.3527 - acc: 0.3590 - val_loss: 1.2973 - val_acc: 0.3333\n",
      "Epoch 3/20\n",
      "312/312 [==============================] - 0s 285us/step - loss: 1.3137 - acc: 0.3526 - val_loss: 1.2513 - val_acc: 0.3333\n",
      "Epoch 4/20\n",
      "312/312 [==============================] - 0s 266us/step - loss: 1.2797 - acc: 0.3526 - val_loss: 1.2185 - val_acc: 0.3333\n",
      "Epoch 5/20\n",
      "312/312 [==============================] - 0s 295us/step - loss: 1.2518 - acc: 0.3333 - val_loss: 1.1942 - val_acc: 0.3333\n",
      "Epoch 6/20\n",
      "312/312 [==============================] - 0s 301us/step - loss: 1.2294 - acc: 0.3397 - val_loss: 1.1750 - val_acc: 0.3333\n",
      "Epoch 7/20\n",
      "312/312 [==============================] - 0s 263us/step - loss: 1.2095 - acc: 0.3397 - val_loss: 1.1598 - val_acc: 0.2778\n",
      "Epoch 8/20\n",
      "312/312 [==============================] - 0s 275us/step - loss: 1.1943 - acc: 0.3429 - val_loss: 1.1472 - val_acc: 0.3056\n",
      "Epoch 9/20\n",
      "312/312 [==============================] - 0s 275us/step - loss: 1.1809 - acc: 0.3429 - val_loss: 1.1368 - val_acc: 0.2778\n",
      "Epoch 10/20\n",
      "312/312 [==============================] - 0s 272us/step - loss: 1.1684 - acc: 0.3429 - val_loss: 1.1277 - val_acc: 0.3056\n",
      "Epoch 11/20\n",
      "312/312 [==============================] - 0s 263us/step - loss: 1.1584 - acc: 0.3397 - val_loss: 1.1210 - val_acc: 0.3056\n",
      "Epoch 12/20\n",
      "312/312 [==============================] - 0s 256us/step - loss: 1.1505 - acc: 0.3622 - val_loss: 1.1164 - val_acc: 0.3056\n",
      "Epoch 13/20\n",
      "312/312 [==============================] - 0s 250us/step - loss: 1.1430 - acc: 0.3718 - val_loss: 1.1119 - val_acc: 0.3056\n",
      "Epoch 14/20\n",
      "312/312 [==============================] - 0s 259us/step - loss: 1.1361 - acc: 0.3814 - val_loss: 1.1080 - val_acc: 0.2778\n",
      "Epoch 15/20\n",
      "312/312 [==============================] - 0s 269us/step - loss: 1.1306 - acc: 0.3686 - val_loss: 1.1053 - val_acc: 0.2778\n",
      "Epoch 16/20\n",
      "312/312 [==============================] - 0s 272us/step - loss: 1.1253 - acc: 0.3654 - val_loss: 1.1040 - val_acc: 0.2778\n",
      "Epoch 17/20\n",
      "312/312 [==============================] - 0s 256us/step - loss: 1.1208 - acc: 0.3782 - val_loss: 1.1026 - val_acc: 0.3056\n",
      "Epoch 18/20\n",
      "312/312 [==============================] - 0s 259us/step - loss: 1.1163 - acc: 0.3878 - val_loss: 1.1012 - val_acc: 0.3333\n",
      "Epoch 19/20\n",
      "312/312 [==============================] - 0s 282us/step - loss: 1.1121 - acc: 0.3814 - val_loss: 1.1005 - val_acc: 0.3333\n",
      "Epoch 20/20\n",
      "312/312 [==============================] - 0s 279us/step - loss: 1.1088 - acc: 0.3878 - val_loss: 1.0996 - val_acc: 0.3611\n",
      "Running Fold 2 / 10\n",
      "[[ 0 12]\n",
      " [ 1 12]\n",
      " [ 2 12]]\n",
      "Train on 312 samples, validate on 36 samples\n",
      "Epoch 1/20\n",
      "312/312 [==============================] - 1s 4ms/step - loss: 1.6407 - acc: 0.3109 - val_loss: 2.3523 - val_acc: 0.1944\n",
      "Epoch 2/20\n",
      "312/312 [==============================] - 0s 308us/step - loss: 1.5527 - acc: 0.3077 - val_loss: 2.1711 - val_acc: 0.1944\n",
      "Epoch 3/20\n",
      "312/312 [==============================] - 0s 253us/step - loss: 1.4811 - acc: 0.3045 - val_loss: 2.0146 - val_acc: 0.2222\n",
      "Epoch 4/20\n",
      "312/312 [==============================] - 0s 269us/step - loss: 1.4201 - acc: 0.3109 - val_loss: 1.8828 - val_acc: 0.2222\n",
      "Epoch 5/20\n",
      "312/312 [==============================] - 0s 275us/step - loss: 1.3711 - acc: 0.3077 - val_loss: 1.7620 - val_acc: 0.2222\n",
      "Epoch 6/20\n",
      "312/312 [==============================] - 0s 272us/step - loss: 1.3290 - acc: 0.3077 - val_loss: 1.6663 - val_acc: 0.2222\n",
      "Epoch 7/20\n",
      "312/312 [==============================] - 0s 263us/step - loss: 1.2960 - acc: 0.3109 - val_loss: 1.5837 - val_acc: 0.2222\n",
      "Epoch 8/20\n",
      "312/312 [==============================] - 0s 272us/step - loss: 1.2664 - acc: 0.3173 - val_loss: 1.5116 - val_acc: 0.2500\n",
      "Epoch 9/20\n",
      "312/312 [==============================] - 0s 275us/step - loss: 1.2411 - acc: 0.3333 - val_loss: 1.4499 - val_acc: 0.2500\n",
      "Epoch 10/20\n",
      "312/312 [==============================] - 0s 282us/step - loss: 1.2193 - acc: 0.3365 - val_loss: 1.3952 - val_acc: 0.2500\n",
      "Epoch 11/20\n",
      "312/312 [==============================] - 0s 295us/step - loss: 1.2009 - acc: 0.3429 - val_loss: 1.3480 - val_acc: 0.2500\n",
      "Epoch 12/20\n",
      "312/312 [==============================] - 0s 250us/step - loss: 1.1846 - acc: 0.3494 - val_loss: 1.2966 - val_acc: 0.2500\n",
      "Epoch 13/20\n",
      "312/312 [==============================] - 0s 282us/step - loss: 1.1683 - acc: 0.3462 - val_loss: 1.2623 - val_acc: 0.2500\n",
      "Epoch 14/20\n",
      "312/312 [==============================] - 0s 282us/step - loss: 1.1566 - acc: 0.3397 - val_loss: 1.2330 - val_acc: 0.2778\n",
      "Epoch 15/20\n",
      "312/312 [==============================] - 0s 285us/step - loss: 1.1465 - acc: 0.3365 - val_loss: 1.2088 - val_acc: 0.3056\n",
      "Epoch 16/20\n",
      "312/312 [==============================] - 0s 272us/step - loss: 1.1365 - acc: 0.3429 - val_loss: 1.1851 - val_acc: 0.3056\n",
      "Epoch 17/20\n",
      "312/312 [==============================] - 0s 272us/step - loss: 1.1282 - acc: 0.3462 - val_loss: 1.1657 - val_acc: 0.3056\n",
      "Epoch 18/20\n",
      "312/312 [==============================] - 0s 237us/step - loss: 1.1209 - acc: 0.3526 - val_loss: 1.1475 - val_acc: 0.3611\n",
      "Epoch 19/20\n",
      "312/312 [==============================] - 0s 266us/step - loss: 1.1141 - acc: 0.3494 - val_loss: 1.1314 - val_acc: 0.3333\n",
      "Epoch 20/20\n",
      "312/312 [==============================] - 0s 275us/step - loss: 1.1080 - acc: 0.3494 - val_loss: 1.1159 - val_acc: 0.3056\n",
      "Running Fold 3 / 10\n",
      "[[ 0 12]\n",
      " [ 1 12]\n",
      " [ 2 12]]\n",
      "Train on 312 samples, validate on 36 samples\n",
      "Epoch 1/20\n",
      "312/312 [==============================] - 1s 5ms/step - loss: 1.3331 - acc: 0.3558 - val_loss: 1.2586 - val_acc: 0.2778\n",
      "Epoch 2/20\n",
      "312/312 [==============================] - 0s 333us/step - loss: 1.2675 - acc: 0.3654 - val_loss: 1.2224 - val_acc: 0.2778\n",
      "Epoch 3/20\n",
      "312/312 [==============================] - 0s 279us/step - loss: 1.2130 - acc: 0.3590 - val_loss: 1.1966 - val_acc: 0.3056\n",
      "Epoch 4/20\n",
      "312/312 [==============================] - 0s 243us/step - loss: 1.1737 - acc: 0.3686 - val_loss: 1.1779 - val_acc: 0.3333\n",
      "Epoch 5/20\n",
      "312/312 [==============================] - 0s 285us/step - loss: 1.1443 - acc: 0.3718 - val_loss: 1.1638 - val_acc: 0.3056\n",
      "Epoch 6/20\n",
      "312/312 [==============================] - 0s 263us/step - loss: 1.1213 - acc: 0.3654 - val_loss: 1.1529 - val_acc: 0.3333\n",
      "Epoch 7/20\n",
      "312/312 [==============================] - 0s 279us/step - loss: 1.1036 - acc: 0.3750 - val_loss: 1.1450 - val_acc: 0.3056\n",
      "Epoch 8/20\n",
      "312/312 [==============================] - 0s 295us/step - loss: 1.0904 - acc: 0.3846 - val_loss: 1.1390 - val_acc: 0.3056\n",
      "Epoch 9/20\n",
      "312/312 [==============================] - 0s 269us/step - loss: 1.0817 - acc: 0.4135 - val_loss: 1.1339 - val_acc: 0.3333\n",
      "Epoch 10/20\n",
      "312/312 [==============================] - 0s 250us/step - loss: 1.0734 - acc: 0.4103 - val_loss: 1.1299 - val_acc: 0.3333\n",
      "Epoch 11/20\n",
      "312/312 [==============================] - 0s 259us/step - loss: 1.0678 - acc: 0.4167 - val_loss: 1.1263 - val_acc: 0.3333\n",
      "Epoch 12/20\n",
      "312/312 [==============================] - 0s 266us/step - loss: 1.0625 - acc: 0.4263 - val_loss: 1.1234 - val_acc: 0.3333\n",
      "Epoch 13/20\n",
      "312/312 [==============================] - 0s 279us/step - loss: 1.0588 - acc: 0.4199 - val_loss: 1.1210 - val_acc: 0.3056\n",
      "Epoch 14/20\n",
      "312/312 [==============================] - 0s 269us/step - loss: 1.0556 - acc: 0.4135 - val_loss: 1.1188 - val_acc: 0.3333\n",
      "Epoch 15/20\n",
      "312/312 [==============================] - 0s 285us/step - loss: 1.0529 - acc: 0.4135 - val_loss: 1.1163 - val_acc: 0.3333\n",
      "Epoch 16/20\n",
      "312/312 [==============================] - 0s 272us/step - loss: 1.0506 - acc: 0.4167 - val_loss: 1.1141 - val_acc: 0.3333\n",
      "Epoch 17/20\n",
      "312/312 [==============================] - 0s 275us/step - loss: 1.0481 - acc: 0.4103 - val_loss: 1.1129 - val_acc: 0.3333\n",
      "Epoch 18/20\n",
      "312/312 [==============================] - 0s 263us/step - loss: 1.0464 - acc: 0.4167 - val_loss: 1.1118 - val_acc: 0.3611\n",
      "Epoch 19/20\n",
      "312/312 [==============================] - 0s 272us/step - loss: 1.0450 - acc: 0.4167 - val_loss: 1.1113 - val_acc: 0.3611\n"
     ]
    },
    {
     "name": "stdout",
     "output_type": "stream",
     "text": [
      "Epoch 20/20\n",
      "312/312 [==============================] - 0s 259us/step - loss: 1.0435 - acc: 0.4135 - val_loss: 1.1102 - val_acc: 0.3611\n",
      "Running Fold 4 / 10\n",
      "[[ 0 12]\n",
      " [ 1 12]\n",
      " [ 2 12]]\n",
      "Train on 312 samples, validate on 36 samples\n",
      "Epoch 1/20\n",
      "312/312 [==============================] - 1s 5ms/step - loss: 1.4286 - acc: 0.3237 - val_loss: 1.2332 - val_acc: 0.4167\n",
      "Epoch 2/20\n",
      "312/312 [==============================] - 0s 272us/step - loss: 1.3571 - acc: 0.3269 - val_loss: 1.1875 - val_acc: 0.4167\n",
      "Epoch 3/20\n",
      "312/312 [==============================] - 0s 275us/step - loss: 1.2982 - acc: 0.3365 - val_loss: 1.1534 - val_acc: 0.4167\n",
      "Epoch 4/20\n",
      "312/312 [==============================] - 0s 259us/step - loss: 1.2546 - acc: 0.3301 - val_loss: 1.1276 - val_acc: 0.4167\n",
      "Epoch 5/20\n",
      "312/312 [==============================] - 0s 272us/step - loss: 1.2200 - acc: 0.3365 - val_loss: 1.1081 - val_acc: 0.4167\n",
      "Epoch 6/20\n",
      "312/312 [==============================] - 0s 284us/step - loss: 1.1919 - acc: 0.3269 - val_loss: 1.0937 - val_acc: 0.4444\n",
      "Epoch 7/20\n",
      "312/312 [==============================] - 0s 279us/step - loss: 1.1695 - acc: 0.3333 - val_loss: 1.0824 - val_acc: 0.4444\n",
      "Epoch 8/20\n",
      "312/312 [==============================] - 0s 272us/step - loss: 1.1521 - acc: 0.3365 - val_loss: 1.0737 - val_acc: 0.4444\n",
      "Epoch 9/20\n",
      "312/312 [==============================] - 0s 282us/step - loss: 1.1388 - acc: 0.3365 - val_loss: 1.0656 - val_acc: 0.4444\n",
      "Epoch 10/20\n",
      "312/312 [==============================] - 0s 250us/step - loss: 1.1271 - acc: 0.3397 - val_loss: 1.0601 - val_acc: 0.4722\n",
      "Epoch 11/20\n",
      "312/312 [==============================] - 0s 272us/step - loss: 1.1179 - acc: 0.3333 - val_loss: 1.0541 - val_acc: 0.4722\n",
      "Epoch 12/20\n",
      "312/312 [==============================] - 0s 253us/step - loss: 1.1103 - acc: 0.3462 - val_loss: 1.0490 - val_acc: 0.4444\n",
      "Epoch 13/20\n",
      "312/312 [==============================] - 0s 311us/step - loss: 1.1034 - acc: 0.3558 - val_loss: 1.0444 - val_acc: 0.4444\n",
      "Epoch 14/20\n",
      "312/312 [==============================] - 0s 272us/step - loss: 1.0977 - acc: 0.3462 - val_loss: 1.0397 - val_acc: 0.4167\n",
      "Epoch 15/20\n",
      "312/312 [==============================] - 0s 247us/step - loss: 1.0924 - acc: 0.3494 - val_loss: 1.0372 - val_acc: 0.4167\n",
      "Epoch 16/20\n",
      "312/312 [==============================] - 0s 231us/step - loss: 1.0881 - acc: 0.3558 - val_loss: 1.0352 - val_acc: 0.3889\n",
      "Epoch 17/20\n",
      "312/312 [==============================] - 0s 266us/step - loss: 1.0846 - acc: 0.3494 - val_loss: 1.0327 - val_acc: 0.3889\n",
      "Epoch 18/20\n",
      "312/312 [==============================] - 0s 282us/step - loss: 1.0809 - acc: 0.3558 - val_loss: 1.0298 - val_acc: 0.3889\n",
      "Epoch 19/20\n",
      "312/312 [==============================] - 0s 259us/step - loss: 1.0781 - acc: 0.3622 - val_loss: 1.0269 - val_acc: 0.3889\n",
      "Epoch 20/20\n",
      "312/312 [==============================] - 0s 263us/step - loss: 1.0753 - acc: 0.3718 - val_loss: 1.0256 - val_acc: 0.3889\n",
      "Running Fold 5 / 10\n",
      "[[ 0 12]\n",
      " [ 1 12]\n",
      " [ 2 12]]\n",
      "Train on 312 samples, validate on 36 samples\n",
      "Epoch 1/20\n",
      "312/312 [==============================] - 1s 5ms/step - loss: 1.4149 - acc: 0.3141 - val_loss: 1.2966 - val_acc: 0.3056\n",
      "Epoch 2/20\n",
      "312/312 [==============================] - 0s 269us/step - loss: 1.3843 - acc: 0.3333 - val_loss: 1.2740 - val_acc: 0.3056\n",
      "Epoch 3/20\n",
      "312/312 [==============================] - 0s 266us/step - loss: 1.3559 - acc: 0.3365 - val_loss: 1.2550 - val_acc: 0.3611\n",
      "Epoch 4/20\n",
      "312/312 [==============================] - 0s 279us/step - loss: 1.3305 - acc: 0.3333 - val_loss: 1.2368 - val_acc: 0.3611\n",
      "Epoch 5/20\n",
      "312/312 [==============================] - 0s 269us/step - loss: 1.3067 - acc: 0.3494 - val_loss: 1.2210 - val_acc: 0.3611\n",
      "Epoch 6/20\n",
      "312/312 [==============================] - 0s 263us/step - loss: 1.2866 - acc: 0.3526 - val_loss: 1.2065 - val_acc: 0.3611\n",
      "Epoch 7/20\n",
      "312/312 [==============================] - 0s 259us/step - loss: 1.2679 - acc: 0.3462 - val_loss: 1.1929 - val_acc: 0.3611\n",
      "Epoch 8/20\n",
      "312/312 [==============================] - 0s 269us/step - loss: 1.2509 - acc: 0.3526 - val_loss: 1.1811 - val_acc: 0.4167\n",
      "Epoch 9/20\n",
      "312/312 [==============================] - 0s 279us/step - loss: 1.2349 - acc: 0.3590 - val_loss: 1.1693 - val_acc: 0.4167\n",
      "Epoch 10/20\n",
      "312/312 [==============================] - 0s 250us/step - loss: 1.2196 - acc: 0.3590 - val_loss: 1.1599 - val_acc: 0.4167\n",
      "Epoch 11/20\n",
      "312/312 [==============================] - 0s 266us/step - loss: 1.2071 - acc: 0.3462 - val_loss: 1.1514 - val_acc: 0.4167\n",
      "Epoch 12/20\n",
      "312/312 [==============================] - 0s 266us/step - loss: 1.1955 - acc: 0.3494 - val_loss: 1.1429 - val_acc: 0.4444\n",
      "Epoch 13/20\n",
      "312/312 [==============================] - 0s 269us/step - loss: 1.1844 - acc: 0.3494 - val_loss: 1.1351 - val_acc: 0.4722\n",
      "Epoch 14/20\n",
      "312/312 [==============================] - 0s 269us/step - loss: 1.1750 - acc: 0.3590 - val_loss: 1.1282 - val_acc: 0.4722\n",
      "Epoch 15/20\n",
      "312/312 [==============================] - 0s 279us/step - loss: 1.1653 - acc: 0.3654 - val_loss: 1.1219 - val_acc: 0.4722\n",
      "Epoch 16/20\n",
      "312/312 [==============================] - 0s 311us/step - loss: 1.1570 - acc: 0.3654 - val_loss: 1.1161 - val_acc: 0.5000\n",
      "Epoch 17/20\n",
      "312/312 [==============================] - 0s 295us/step - loss: 1.1500 - acc: 0.3782 - val_loss: 1.1110 - val_acc: 0.5000\n",
      "Epoch 18/20\n",
      "312/312 [==============================] - 0s 256us/step - loss: 1.1429 - acc: 0.3686 - val_loss: 1.1065 - val_acc: 0.4722\n",
      "Epoch 19/20\n",
      "312/312 [==============================] - 0s 243us/step - loss: 1.1360 - acc: 0.3654 - val_loss: 1.1021 - val_acc: 0.4722\n",
      "Epoch 20/20\n",
      "312/312 [==============================] - 0s 288us/step - loss: 1.1302 - acc: 0.3654 - val_loss: 1.0976 - val_acc: 0.4167\n",
      "Running Fold 6 / 10\n",
      "[[ 0 12]\n",
      " [ 1 12]\n",
      " [ 2 12]]\n",
      "Train on 312 samples, validate on 36 samples\n",
      "Epoch 1/20\n",
      "312/312 [==============================] - 1s 5ms/step - loss: 1.5150 - acc: 0.3173 - val_loss: 1.5471 - val_acc: 0.2778\n",
      "Epoch 2/20\n",
      "312/312 [==============================] - 0s 292us/step - loss: 1.4530 - acc: 0.3333 - val_loss: 1.4895 - val_acc: 0.2778\n",
      "Epoch 3/20\n",
      "312/312 [==============================] - 0s 293us/step - loss: 1.3967 - acc: 0.3429 - val_loss: 1.4446 - val_acc: 0.3056\n",
      "Epoch 4/20\n",
      "312/312 [==============================] - 0s 256us/step - loss: 1.3506 - acc: 0.3429 - val_loss: 1.4074 - val_acc: 0.2778\n",
      "Epoch 5/20\n",
      "312/312 [==============================] - 0s 275us/step - loss: 1.3154 - acc: 0.3622 - val_loss: 1.3763 - val_acc: 0.2500\n",
      "Epoch 6/20\n",
      "312/312 [==============================] - 0s 272us/step - loss: 1.2851 - acc: 0.3526 - val_loss: 1.3482 - val_acc: 0.2500\n",
      "Epoch 7/20\n",
      "312/312 [==============================] - 0s 285us/step - loss: 1.2584 - acc: 0.3590 - val_loss: 1.3248 - val_acc: 0.2778\n",
      "Epoch 8/20\n",
      "312/312 [==============================] - 0s 282us/step - loss: 1.2344 - acc: 0.3654 - val_loss: 1.3025 - val_acc: 0.3056\n",
      "Epoch 9/20\n",
      "312/312 [==============================] - 0s 301us/step - loss: 1.2128 - acc: 0.3686 - val_loss: 1.2843 - val_acc: 0.3056\n",
      "Epoch 10/20\n",
      "312/312 [==============================] - 0s 266us/step - loss: 1.1934 - acc: 0.3686 - val_loss: 1.2650 - val_acc: 0.3056\n",
      "Epoch 11/20\n",
      "312/312 [==============================] - 0s 285us/step - loss: 1.1762 - acc: 0.3878 - val_loss: 1.2508 - val_acc: 0.3056\n",
      "Epoch 12/20\n",
      "312/312 [==============================] - 0s 266us/step - loss: 1.1602 - acc: 0.4071 - val_loss: 1.2370 - val_acc: 0.3056\n",
      "Epoch 13/20\n",
      "312/312 [==============================] - 0s 282us/step - loss: 1.1466 - acc: 0.4135 - val_loss: 1.2250 - val_acc: 0.3333\n",
      "Epoch 14/20\n",
      "312/312 [==============================] - 0s 259us/step - loss: 1.1341 - acc: 0.4103 - val_loss: 1.2143 - val_acc: 0.3333\n",
      "Epoch 15/20\n",
      "312/312 [==============================] - 0s 271us/step - loss: 1.1235 - acc: 0.4167 - val_loss: 1.2044 - val_acc: 0.3333\n",
      "Epoch 16/20\n",
      "312/312 [==============================] - 0s 250us/step - loss: 1.1130 - acc: 0.3910 - val_loss: 1.1960 - val_acc: 0.3333\n",
      "Epoch 17/20\n",
      "312/312 [==============================] - 0s 271us/step - loss: 1.1042 - acc: 0.3910 - val_loss: 1.1897 - val_acc: 0.3611\n",
      "Epoch 18/20\n",
      "312/312 [==============================] - 0s 304us/step - loss: 1.0954 - acc: 0.3910 - val_loss: 1.1830 - val_acc: 0.3889\n"
     ]
    },
    {
     "name": "stdout",
     "output_type": "stream",
     "text": [
      "Epoch 19/20\n",
      "312/312 [==============================] - 0s 295us/step - loss: 1.0888 - acc: 0.3974 - val_loss: 1.1787 - val_acc: 0.3889\n",
      "Epoch 20/20\n",
      "312/312 [==============================] - 0s 253us/step - loss: 1.0820 - acc: 0.3974 - val_loss: 1.1733 - val_acc: 0.3889\n",
      "Running Fold 7 / 10\n",
      "[[ 0 11]\n",
      " [ 1 11]\n",
      " [ 2 11]]\n",
      "Train on 315 samples, validate on 33 samples\n",
      "Epoch 1/20\n",
      "315/315 [==============================] - 2s 5ms/step - loss: 1.5292 - acc: 0.3429 - val_loss: 1.4301 - val_acc: 0.3636\n",
      "Epoch 2/20\n",
      "315/315 [==============================] - 0s 260us/step - loss: 1.4611 - acc: 0.3238 - val_loss: 1.3733 - val_acc: 0.3636\n",
      "Epoch 3/20\n",
      "315/315 [==============================] - 0s 276us/step - loss: 1.4035 - acc: 0.3302 - val_loss: 1.3254 - val_acc: 0.3636\n",
      "Epoch 4/20\n",
      "315/315 [==============================] - 0s 244us/step - loss: 1.3559 - acc: 0.3333 - val_loss: 1.2848 - val_acc: 0.3636\n",
      "Epoch 5/20\n",
      "315/315 [==============================] - 0s 251us/step - loss: 1.3154 - acc: 0.3333 - val_loss: 1.2510 - val_acc: 0.3636\n",
      "Epoch 6/20\n",
      "315/315 [==============================] - 0s 254us/step - loss: 1.2819 - acc: 0.3460 - val_loss: 1.2225 - val_acc: 0.3939\n",
      "Epoch 7/20\n",
      "315/315 [==============================] - 0s 232us/step - loss: 1.2534 - acc: 0.3587 - val_loss: 1.1989 - val_acc: 0.3939\n",
      "Epoch 8/20\n",
      "315/315 [==============================] - 0s 257us/step - loss: 1.2285 - acc: 0.3587 - val_loss: 1.1783 - val_acc: 0.3939\n",
      "Epoch 9/20\n",
      "315/315 [==============================] - 0s 260us/step - loss: 1.2073 - acc: 0.3683 - val_loss: 1.1614 - val_acc: 0.3636\n",
      "Epoch 10/20\n",
      "315/315 [==============================] - 0s 254us/step - loss: 1.1892 - acc: 0.3683 - val_loss: 1.1461 - val_acc: 0.3939\n",
      "Epoch 11/20\n",
      "315/315 [==============================] - 0s 270us/step - loss: 1.1729 - acc: 0.3778 - val_loss: 1.1339 - val_acc: 0.3939\n",
      "Epoch 12/20\n",
      "315/315 [==============================] - 0s 273us/step - loss: 1.1588 - acc: 0.3683 - val_loss: 1.1236 - val_acc: 0.4242\n",
      "Epoch 13/20\n",
      "315/315 [==============================] - 0s 251us/step - loss: 1.1464 - acc: 0.3746 - val_loss: 1.1149 - val_acc: 0.4242\n",
      "Epoch 14/20\n",
      "315/315 [==============================] - 0s 263us/step - loss: 1.1355 - acc: 0.3841 - val_loss: 1.1072 - val_acc: 0.4848\n",
      "Epoch 15/20\n",
      "315/315 [==============================] - 0s 251us/step - loss: 1.1255 - acc: 0.3810 - val_loss: 1.1002 - val_acc: 0.4848\n",
      "Epoch 16/20\n",
      "315/315 [==============================] - 0s 251us/step - loss: 1.1162 - acc: 0.3905 - val_loss: 1.0948 - val_acc: 0.4848\n",
      "Epoch 17/20\n",
      "315/315 [==============================] - 0s 260us/step - loss: 1.1088 - acc: 0.3905 - val_loss: 1.0896 - val_acc: 0.4545\n",
      "Epoch 18/20\n",
      "315/315 [==============================] - 0s 241us/step - loss: 1.1020 - acc: 0.3905 - val_loss: 1.0859 - val_acc: 0.4242\n",
      "Epoch 19/20\n",
      "315/315 [==============================] - 0s 241us/step - loss: 1.0958 - acc: 0.3810 - val_loss: 1.0823 - val_acc: 0.4242\n",
      "Epoch 20/20\n",
      "315/315 [==============================] - 0s 254us/step - loss: 1.0899 - acc: 0.3905 - val_loss: 1.0796 - val_acc: 0.4242\n",
      "Running Fold 8 / 10\n",
      "[[ 0 11]\n",
      " [ 1 11]\n",
      " [ 2 11]]\n",
      "Train on 315 samples, validate on 33 samples\n",
      "Epoch 1/20\n",
      "315/315 [==============================] - 2s 5ms/step - loss: 1.2890 - acc: 0.3587 - val_loss: 1.4717 - val_acc: 0.4242\n",
      "Epoch 2/20\n",
      "315/315 [==============================] - 0s 368us/step - loss: 1.2692 - acc: 0.3619 - val_loss: 1.4420 - val_acc: 0.4242\n",
      "Epoch 3/20\n",
      "315/315 [==============================] - 0s 289us/step - loss: 1.2515 - acc: 0.3524 - val_loss: 1.4150 - val_acc: 0.4242\n",
      "Epoch 4/20\n",
      "315/315 [==============================] - 0s 270us/step - loss: 1.2352 - acc: 0.3619 - val_loss: 1.3913 - val_acc: 0.4545\n",
      "Epoch 5/20\n",
      "315/315 [==============================] - 0s 346us/step - loss: 1.2204 - acc: 0.3587 - val_loss: 1.3693 - val_acc: 0.4545\n",
      "Epoch 6/20\n",
      "315/315 [==============================] - 0s 549us/step - loss: 1.2071 - acc: 0.3746 - val_loss: 1.3500 - val_acc: 0.4545\n",
      "Epoch 7/20\n",
      "315/315 [==============================] - 0s 362us/step - loss: 1.1948 - acc: 0.3683 - val_loss: 1.3323 - val_acc: 0.4545\n",
      "Epoch 8/20\n",
      "315/315 [==============================] - 0s 298us/step - loss: 1.1846 - acc: 0.3651 - val_loss: 1.3151 - val_acc: 0.4545\n",
      "Epoch 9/20\n",
      "315/315 [==============================] - 0s 333us/step - loss: 1.1738 - acc: 0.3683 - val_loss: 1.2996 - val_acc: 0.4545\n",
      "Epoch 10/20\n",
      "315/315 [==============================] - 0s 412us/step - loss: 1.1648 - acc: 0.3714 - val_loss: 1.2830 - val_acc: 0.4545\n",
      "Epoch 11/20\n",
      "315/315 [==============================] - 0s 374us/step - loss: 1.1560 - acc: 0.3651 - val_loss: 1.2705 - val_acc: 0.4545\n",
      "Epoch 12/20\n",
      "315/315 [==============================] - 0s 352us/step - loss: 1.1482 - acc: 0.3683 - val_loss: 1.2591 - val_acc: 0.4545\n",
      "Epoch 13/20\n",
      "315/315 [==============================] - 0s 463us/step - loss: 1.1408 - acc: 0.3651 - val_loss: 1.2499 - val_acc: 0.4242\n",
      "Epoch 14/20\n",
      "315/315 [==============================] - 0s 435us/step - loss: 1.1347 - acc: 0.3587 - val_loss: 1.2402 - val_acc: 0.4242\n",
      "Epoch 15/20\n",
      "315/315 [==============================] - 0s 558us/step - loss: 1.1281 - acc: 0.3524 - val_loss: 1.2311 - val_acc: 0.4242\n",
      "Epoch 16/20\n",
      "315/315 [==============================] - 0s 460us/step - loss: 1.1219 - acc: 0.3524 - val_loss: 1.2220 - val_acc: 0.4242\n",
      "Epoch 17/20\n",
      "315/315 [==============================] - 0s 416us/step - loss: 1.1166 - acc: 0.3619 - val_loss: 1.2142 - val_acc: 0.3939\n",
      "Epoch 18/20\n",
      "315/315 [==============================] - 0s 416us/step - loss: 1.1120 - acc: 0.3746 - val_loss: 1.2068 - val_acc: 0.3939\n",
      "Epoch 19/20\n",
      "315/315 [==============================] - 0s 441us/step - loss: 1.1066 - acc: 0.3619 - val_loss: 1.2005 - val_acc: 0.3939\n",
      "Epoch 20/20\n",
      "315/315 [==============================] - 0s 524us/step - loss: 1.1028 - acc: 0.3746 - val_loss: 1.1944 - val_acc: 0.3636\n",
      "Running Fold 9 / 10\n",
      "[[ 0 11]\n",
      " [ 1 11]\n",
      " [ 2 11]]\n",
      "Train on 315 samples, validate on 33 samples\n",
      "Epoch 1/20\n",
      "315/315 [==============================] - 2s 6ms/step - loss: 1.4617 - acc: 0.3905 - val_loss: 1.5577 - val_acc: 0.3333\n",
      "Epoch 2/20\n",
      "315/315 [==============================] - 0s 289us/step - loss: 1.3804 - acc: 0.3905 - val_loss: 1.4502 - val_acc: 0.3030\n",
      "Epoch 3/20\n",
      "315/315 [==============================] - 0s 305us/step - loss: 1.3141 - acc: 0.3841 - val_loss: 1.3632 - val_acc: 0.3030\n",
      "Epoch 4/20\n",
      "315/315 [==============================] - 0s 365us/step - loss: 1.2610 - acc: 0.3968 - val_loss: 1.2916 - val_acc: 0.3333\n",
      "Epoch 5/20\n",
      "315/315 [==============================] - 0s 352us/step - loss: 1.2182 - acc: 0.4159 - val_loss: 1.2384 - val_acc: 0.3333\n",
      "Epoch 6/20\n",
      "315/315 [==============================] - 0s 428us/step - loss: 1.1863 - acc: 0.4222 - val_loss: 1.1981 - val_acc: 0.3636\n",
      "Epoch 7/20\n",
      "315/315 [==============================] - 0s 428us/step - loss: 1.1624 - acc: 0.4349 - val_loss: 1.1673 - val_acc: 0.4242\n",
      "Epoch 8/20\n",
      "315/315 [==============================] - 0s 400us/step - loss: 1.1428 - acc: 0.4413 - val_loss: 1.1452 - val_acc: 0.4242\n",
      "Epoch 9/20\n",
      "315/315 [==============================] - 0s 368us/step - loss: 1.1281 - acc: 0.4317 - val_loss: 1.1287 - val_acc: 0.3939\n",
      "Epoch 10/20\n",
      "315/315 [==============================] - 0s 346us/step - loss: 1.1165 - acc: 0.4286 - val_loss: 1.1162 - val_acc: 0.3939\n",
      "Epoch 11/20\n",
      "315/315 [==============================] - 0s 324us/step - loss: 1.1073 - acc: 0.4286 - val_loss: 1.1059 - val_acc: 0.4242\n",
      "Epoch 12/20\n",
      "315/315 [==============================] - 0s 330us/step - loss: 1.0994 - acc: 0.4254 - val_loss: 1.0981 - val_acc: 0.4242\n",
      "Epoch 13/20\n",
      "315/315 [==============================] - 0s 349us/step - loss: 1.0933 - acc: 0.4317 - val_loss: 1.0920 - val_acc: 0.4242\n",
      "Epoch 14/20\n",
      "315/315 [==============================] - 0s 368us/step - loss: 1.0881 - acc: 0.4349 - val_loss: 1.0874 - val_acc: 0.4242\n",
      "Epoch 15/20\n",
      "315/315 [==============================] - 0s 374us/step - loss: 1.0836 - acc: 0.4413 - val_loss: 1.0830 - val_acc: 0.4242\n",
      "Epoch 16/20\n",
      "315/315 [==============================] - 0s 362us/step - loss: 1.0798 - acc: 0.4381 - val_loss: 1.0796 - val_acc: 0.4242\n",
      "Epoch 17/20\n",
      "315/315 [==============================] - 0s 400us/step - loss: 1.0769 - acc: 0.4286 - val_loss: 1.0764 - val_acc: 0.4242\n"
     ]
    },
    {
     "name": "stdout",
     "output_type": "stream",
     "text": [
      "Epoch 18/20\n",
      "315/315 [==============================] - 0s 455us/step - loss: 1.0740 - acc: 0.4349 - val_loss: 1.0737 - val_acc: 0.4242\n",
      "Epoch 19/20\n",
      "315/315 [==============================] - 0s 447us/step - loss: 1.0718 - acc: 0.4349 - val_loss: 1.0718 - val_acc: 0.4242\n",
      "Epoch 20/20\n",
      "315/315 [==============================] - 0s 476us/step - loss: 1.0694 - acc: 0.4349 - val_loss: 1.0692 - val_acc: 0.3939\n",
      "Running Fold 10 / 10\n",
      "[[ 0 11]\n",
      " [ 1 11]\n",
      " [ 2 11]]\n",
      "Train on 315 samples, validate on 33 samples\n",
      "Epoch 1/20\n",
      "315/315 [==============================] - 2s 7ms/step - loss: 1.6900 - acc: 0.3079 - val_loss: 1.4531 - val_acc: 0.3030\n",
      "Epoch 2/20\n",
      "315/315 [==============================] - 0s 320us/step - loss: 1.5861 - acc: 0.3143 - val_loss: 1.3956 - val_acc: 0.3030\n",
      "Epoch 3/20\n",
      "315/315 [==============================] - 0s 298us/step - loss: 1.5007 - acc: 0.3048 - val_loss: 1.3479 - val_acc: 0.3030\n",
      "Epoch 4/20\n",
      "315/315 [==============================] - 0s 336us/step - loss: 1.4285 - acc: 0.3111 - val_loss: 1.3087 - val_acc: 0.3030\n",
      "Epoch 5/20\n",
      "315/315 [==============================] - 0s 333us/step - loss: 1.3669 - acc: 0.3143 - val_loss: 1.2768 - val_acc: 0.2424\n",
      "Epoch 6/20\n",
      "315/315 [==============================] - 0s 374us/step - loss: 1.3149 - acc: 0.3206 - val_loss: 1.2503 - val_acc: 0.2424\n",
      "Epoch 7/20\n",
      "315/315 [==============================] - 0s 308us/step - loss: 1.2714 - acc: 0.3238 - val_loss: 1.2277 - val_acc: 0.2727\n",
      "Epoch 8/20\n",
      "315/315 [==============================] - 0s 292us/step - loss: 1.2355 - acc: 0.3397 - val_loss: 1.2093 - val_acc: 0.3030\n",
      "Epoch 9/20\n",
      "315/315 [==============================] - 0s 320us/step - loss: 1.2051 - acc: 0.3492 - val_loss: 1.1943 - val_acc: 0.2727\n",
      "Epoch 10/20\n",
      "315/315 [==============================] - 0s 311us/step - loss: 1.1799 - acc: 0.3651 - val_loss: 1.1807 - val_acc: 0.2727\n",
      "Epoch 11/20\n",
      "315/315 [==============================] - ETA: 0s - loss: 1.1716 - acc: 0.369 - 0s 317us/step - loss: 1.1575 - acc: 0.3683 - val_loss: 1.1714 - val_acc: 0.3030\n",
      "Epoch 12/20\n",
      "315/315 [==============================] - 0s 311us/step - loss: 1.1404 - acc: 0.3810 - val_loss: 1.1637 - val_acc: 0.3636\n",
      "Epoch 13/20\n",
      "315/315 [==============================] - 0s 305us/step - loss: 1.1255 - acc: 0.3810 - val_loss: 1.1568 - val_acc: 0.3636\n",
      "Epoch 14/20\n",
      "315/315 [==============================] - 0s 295us/step - loss: 1.1138 - acc: 0.3873 - val_loss: 1.1515 - val_acc: 0.3636\n",
      "Epoch 15/20\n",
      "315/315 [==============================] - 0s 295us/step - loss: 1.1040 - acc: 0.3841 - val_loss: 1.1478 - val_acc: 0.3333\n",
      "Epoch 16/20\n",
      "315/315 [==============================] - 0s 308us/step - loss: 1.0958 - acc: 0.3841 - val_loss: 1.1454 - val_acc: 0.3636\n",
      "Epoch 17/20\n",
      "315/315 [==============================] - 0s 317us/step - loss: 1.0893 - acc: 0.3968 - val_loss: 1.1442 - val_acc: 0.3939\n",
      "Epoch 18/20\n",
      "315/315 [==============================] - 0s 295us/step - loss: 1.0829 - acc: 0.4000 - val_loss: 1.1434 - val_acc: 0.3636\n",
      "Epoch 19/20\n",
      "315/315 [==============================] - 0s 320us/step - loss: 1.0777 - acc: 0.3905 - val_loss: 1.1431 - val_acc: 0.3636\n",
      "Epoch 20/20\n",
      "315/315 [==============================] - 0s 298us/step - loss: 1.0737 - acc: 0.3968 - val_loss: 1.1430 - val_acc: 0.3636\n"
     ]
    }
   ],
   "source": [
    "n_folds = 10\n",
    "\n",
    "labels = df['flow_rate'].values\n",
    "data = x\n",
    "\n",
    "labels[labels == 1800] = 0\n",
    "labels[labels == 3600] = 1\n",
    "labels[labels == 7200] = 2\n",
    "\n",
    "one_hot = np_utils.to_categorical(labels, nb_classes) \n",
    "\n",
    "skf = StratifiedKFold(df['flow_rate'].values, n_folds=n_folds, shuffle=True)\n",
    "avg_acc = 0\n",
    "\n",
    "y_true = []\n",
    "y_pred = []\n",
    "\n",
    "for i, (train, test) in enumerate(skf):\n",
    "    print(\"Running Fold\", i+1, \"/\", n_folds)\n",
    "    model = None # Clearing the NN.\n",
    "    model = build_logistic_model(input_dim, nb_classes)\n",
    "    \n",
    "    std = np.std(data[train],0)\n",
    "    mean = np.mean(data[train],0)\n",
    "    \n",
    "    x_train = (data[train]-mean)/std\n",
    "    x_test = (data[test] - mean)/std        \n",
    "    \n",
    "    avg_acc += train_and_evaluate_model(model, x_train, one_hot[train], x_test, one_hot[test])\n",
    "    \n",
    "    # Predict the values from the validation dataset\n",
    "    Y_pred = model.predict(x_test)\n",
    "    # Convert predictions classes to one hot vectors \n",
    "    Y_pred_classes = np.argmax(Y_pred,axis = 1) \n",
    "    # Convert validation observations to one hot vectors\n",
    "    Y_true = np.argmax(one_hot[test],axis = 1) \n",
    "    \n",
    "    y_true.extend(Y_true)\n",
    "    y_pred.extend(Y_pred_classes)"
   ]
  },
  {
   "cell_type": "code",
   "execution_count": 37,
   "metadata": {
    "scrolled": true
   },
   "outputs": [
    {
     "name": "stdout",
     "output_type": "stream",
     "text": [
      "Average Accuracy:  0.3767676767676768\n"
     ]
    }
   ],
   "source": [
    "print(\"Average Accuracy: \", avg_acc/n_folds)"
   ]
  },
  {
   "cell_type": "code",
   "execution_count": 38,
   "metadata": {},
   "outputs": [
    {
     "data": {
      "image/png": "[encoded data removed]",
      "text/plain": [
       "<Figure size 432x288 with 2 Axes>"
      ]
     },
     "metadata": {},
     "output_type": "display_data"
    }
   ],
   "source": [
    "# compute the confusion matrix\n",
    "confusion_mtx = confusion_matrix(np.array(y_true), np.array(y_pred)) \n",
    "# plot the confusion matrix\n",
    "plot_confusion_matrix(confusion_mtx, classes = range(3)) "
   ]
  }
 ],
 "metadata": {
  "kernelspec": {
   "display_name": "Python 3",
   "language": "python",
   "name": "python3"
  },
  "language_info": {
   "codemirror_mode": {
    "name": "ipython",
    "version": 3
   },
   "file_extension": ".py",
   "mimetype": "text/x-python",
   "name": "python",
   "nbconvert_exporter": "python",
   "pygments_lexer": "ipython3",
   "version": "3.6.4"
  }
 },
 "nbformat": 4,
 "nbformat_minor": 2
}
