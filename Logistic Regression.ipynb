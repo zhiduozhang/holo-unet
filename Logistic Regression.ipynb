{
 "cells": [
  {
   "cell_type": "code",
   "execution_count": null,
   "metadata": {},
   "outputs": [],
   "source": [
    "import numpy as np\n",
    "import tensorflow as tf"
   ]
  },
  {
   "cell_type": "code",
   "execution_count": null,
   "metadata": {},
   "outputs": [],
   "source": [
    "# CUSTOMIZABLE: Collect/Prepare data\n",
    "datapoint_size = 1000\n",
    "batch_size = 100\n",
    "steps = 10000\n",
    "\n",
    "learn_rate = 0.001\n",
    "log_file = \"/tmp/feature_2_batch_1000\""
   ]
  },
  {
   "cell_type": "code",
   "execution_count": null,
   "metadata": {},
   "outputs": [],
   "source": [
    "# Model linear regression y = Wx + b\n",
    "x = tf.placeholder(tf.float32, [None, 2], name=\"x\")\n",
    "W = tf.Variable(tf.zeros([2,1]), name=\"W\")\n",
    "b = tf.Variable(tf.zeros([1]), name=\"b\")\n",
    "with tf.name_scope(\"Wx_b\") as scope:\n",
    "    product = tf.matmul(x,W)\n",
    "    y = product + b\n",
    "\n",
    "# Add summary ops to collect data\n",
    "W_hist = tf.summary.histogram(\"weights\", W)\n",
    "b_hist = tf.summary.histogram(\"biases\", b)\n",
    "y_hist = tf.summary.histogram(\"y\", y)\n",
    "\n",
    "y_ = tf.placeholder(tf.float32, [None, 1])\n",
    "\n",
    "# Cost function sum((y_-y)**2)\n",
    "with tf.name_scope(\"cost\") as scope:\n",
    "    cost = tf.reduce_mean(tf.square(y_-y))\n",
    "    cost_sum = tf.summary.scalar(\"cost\", cost)\n",
    "\n",
    "# Training using Gradient Descent to minimize cost\n",
    "with tf.name_scope(\"train\") as scope:\n",
    "    train_step = tf.train.GradientDescentOptimizer(learn_rate).minimize(cost)"
   ]
  },
  {
   "cell_type": "code",
   "execution_count": null,
   "metadata": {},
   "outputs": [],
   "source": [
    "sess = tf.Session()\n",
    "\n",
    "# Merge all the summaries and write them out to /tmp/mnist_logs\n",
    "merged = tf.summary.merge_all()\n",
    "writer = tf.summary.FileWriter(log_file, sess.graph_def)\n",
    "\n",
    "init = tf.initialize_all_variables()\n",
    "sess.run(init)\n",
    "\n",
    "for i in range(steps):\n",
    "    if datapoint_size == batch_size:\n",
    "        batch_start_idx = 0\n",
    "    elif datapoint_size < batch_size:\n",
    "        raise ValueError(\"datapoint_size: %d, must be greater than batch_size: %d\" % (datapoint_size, batch_size))\n",
    "    else:\n",
    "        batch_start_idx = (i * batch_size) % (datapoint_size - batch_size)\n",
    "        \n",
    "    batch_end_idx = batch_start_idx + batch_size\n",
    "    batch_xs = all_xs[batch_start_idx:batch_end_idx]\n",
    "    batch_ys = all_ys[batch_start_idx:batch_end_idx]\n",
    "    xs = np.array(batch_xs)\n",
    "    ys = np.array(batch_ys)\n",
    "    all_feed = { x: all_xs, y_: all_ys }\n",
    "    # Record summary data, and the accuracy every 10 steps\n",
    "    if i % 10 == 0:\n",
    "        result = sess.run(merged, feed_dict=all_feed)\n",
    "        writer.add_summary(result, i)\n",
    "    else:\n",
    "        feed = { x: xs, y_: ys }\n",
    "        sess.run(train_step, feed_dict=feed)\n",
    "    print(\"After %d iteration:\" % i)\n",
    "    print(\"W: %s\" % sess.run(W))\n",
    "    print(\"b: %f\" % sess.run(b))\n",
    "    print(\"cost: %f\" % sess.run(cost, feed_dict=all_feed))\n",
    "\n",
    "# NOTE: W should be close to actual_W1, actual_W2, and b should be close to actual_b"
   ]
  }
 ],
 "metadata": {
  "kernelspec": {
   "display_name": "Python 3",
   "language": "python",
   "name": "python3"
  },
  "language_info": {
   "codemirror_mode": {
    "name": "ipython",
    "version": 3
   },
   "file_extension": ".py",
   "mimetype": "text/x-python",
   "name": "python",
   "nbconvert_exporter": "python",
   "pygments_lexer": "ipython3",
   "version": "3.6.4"
  }
 },
 "nbformat": 4,
 "nbformat_minor": 2
}
