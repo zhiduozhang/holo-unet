{
 "cells": [
  {
   "cell_type": "code",
   "execution_count": 1,
   "metadata": {},
   "outputs": [
    {
     "name": "stdout",
     "output_type": "stream",
     "text": [
      "\n",
      "old comet version (1.0.6) detected. current: 1.0.8 please update your comet lib with command: `pip install --no-cache-dir --upgrade comet_ml`\n",
      "Comet.ml support for Ipython Notebook is limited at the moment, automatic monitoring and stdout capturing is deactivated\n",
      "\n",
      "Experiment is live on comet.ml https://www.comet.ml/incnas/general/13662c1d72254a63a91ca53f1edfb6e1\n",
      "\n"
     ]
    }
   ],
   "source": [
    "from comet_ml import Experiment\n",
    "experiment = Experiment(api_key=\"xktj4EX0zB8YcQ3BEaFwOQYpu\")"
   ]
  },
  {
   "cell_type": "code",
   "execution_count": 2,
   "metadata": {},
   "outputs": [
    {
     "name": "stderr",
     "output_type": "stream",
     "text": [
      "C:\\Users\\Duo\\Anaconda3\\envs\\fastai\\lib\\site-packages\\h5py\\__init__.py:36: FutureWarning: Conversion of the second argument of issubdtype from `float` to `np.floating` is deprecated. In future, it will be treated as `np.float64 == np.dtype(float).type`.\n",
      "  from ._conv import register_converters as _register_converters\n",
      "Using TensorFlow backend.\n"
     ]
    }
   ],
   "source": [
    "import numpy as np\n",
    "from keras.models import Sequential \n",
    "from keras.layers import Dense, Activation\n",
    "from keras.regularizers import L1L2\n",
    "from keras.utils import np_utils "
   ]
  },
  {
   "cell_type": "code",
   "execution_count": 3,
   "metadata": {},
   "outputs": [],
   "source": [
    "import os\n",
    "import fnmatch\n",
    "\n",
    "import pandas as pd"
   ]
  },
  {
   "cell_type": "code",
   "execution_count": null,
   "metadata": {},
   "outputs": [],
   "source": []
  },
  {
   "cell_type": "markdown",
   "metadata": {},
   "source": [
    "## Load Data"
   ]
  },
  {
   "cell_type": "code",
   "execution_count": 4,
   "metadata": {},
   "outputs": [],
   "source": [
    "train_path = \"I:\\\\Honours-Project\\\\data\\\\sorted\\\\agg\\\\train\\\\\"\n",
    "train_csv = \"I:\\\\Honours-Project\\\\data\\\\sorted\\\\agg\\\\train\\\\ids.csv\"\n",
    "test_path = \"I:\\\\Honours-Project\\\\data\\\\sorted\\\\agg\\\\test\\\\\"\n",
    "test_csv = \"I:\\\\Honours-Project\\\\data\\\\sorted\\\\agg\\\\test\\\\ids.csv\"\n",
    "\n",
    "dest_path = \"I:\\\\Honours-Project\\\\data\\\\sorted\\\\agg\\\\\""
   ]
  },
  {
   "cell_type": "code",
   "execution_count": 5,
   "metadata": {
    "scrolled": true
   },
   "outputs": [],
   "source": [
    "x_train = []\n",
    "y_train = []\n",
    "\n",
    "x_test = []\n",
    "y_test = []\n",
    "\n",
    "'''for file in os.listdir(train_path):\n",
    "    if fnmatch.fnmatch(file, '*.npy'):\n",
    "        x_train.append(np.load(train_path+file))\n",
    "\n",
    "x_train = np.array(x_train)    '''    \n",
    "\n",
    "df = pd.read_csv(train_csv)\n",
    "\n",
    "for path in df['name']:\n",
    "    x_train.append(np.load(dest_path+path+\".npy\"))\n",
    "    \n",
    "x_train = np.array(x_train)\n",
    "y_train = df[\"flow_rate\"].values\n",
    "\n",
    "'''for file in os.listdir(test_path):\n",
    "    if fnmatch.fnmatch(file, '*.npy'):\n",
    "        x_test.append(np.load(test_path+file))\n",
    "\n",
    "x_test = np.array(x_test)        '''\n",
    "\n",
    "df = pd.read_csv(test_csv)\n",
    "\n",
    "for path in df['name']:\n",
    "    x_test.append(np.load(dest_path+path+\".npy\"))\n",
    "    \n",
    "x_test = np.array(x_test)\n",
    "y_test = df[\"flow_rate\"].values"
   ]
  },
  {
   "cell_type": "code",
   "execution_count": null,
   "metadata": {},
   "outputs": [],
   "source": []
  },
  {
   "cell_type": "markdown",
   "metadata": {},
   "source": [
    "## Run Logistic Regression"
   ]
  },
  {
   "cell_type": "code",
   "execution_count": 6,
   "metadata": {},
   "outputs": [],
   "source": [
    "batch_size = 128\n",
    "nb_classes = 3\n",
    "nb_epoch = 20"
   ]
  },
  {
   "cell_type": "code",
   "execution_count": 7,
   "metadata": {},
   "outputs": [],
   "source": [
    "input_dim = x_train[0].shape[0] * x_train[0].shape[1]"
   ]
  },
  {
   "cell_type": "code",
   "execution_count": 8,
   "metadata": {},
   "outputs": [],
   "source": [
    "x_train = x_train.reshape(x_train.shape[0], input_dim)\n",
    "x_test = x_test.reshape(x_test.shape[0], input_dim)"
   ]
  },
  {
   "cell_type": "code",
   "execution_count": 9,
   "metadata": {},
   "outputs": [],
   "source": [
    "x_train = x_train.astype('float32') \n",
    "x_test = x_test.astype('float32') \n",
    "\n",
    "# Might not be normalized to 255? Definitely not.\n",
    "x_train /= 255 \n",
    "x_test /= 255"
   ]
  },
  {
   "cell_type": "code",
   "execution_count": 10,
   "metadata": {},
   "outputs": [],
   "source": [
    "y_train[y_train == 1800] = 0\n",
    "y_train[y_train == 3600] = 1\n",
    "y_train[y_train == 7200] = 2\n",
    "\n",
    "y_test[y_test == 1800] = 0\n",
    "y_test[y_test == 3600] = 1\n",
    "y_test[y_test == 7200] = 2\n",
    "\n",
    "y_train = np_utils.to_categorical(y_train, nb_classes) \n",
    "y_test = np_utils.to_categorical(y_test, nb_classes)"
   ]
  },
  {
   "cell_type": "code",
   "execution_count": 2,
   "metadata": {},
   "outputs": [],
   "source": [
    "lmda = 0.01\n",
    "\n",
    "def build_logistic_model(input_dim, output_dim):\n",
    "    model = Sequential()\n",
    "    model.add(Dense(output_dim, input_dim=input_dim,\n",
    "                    kernel_regularizer=regularizers.l2(lmda),\n",
    "                    activation='softmax'))\n",
    "\n",
    "    return model"
   ]
  },
  {
   "cell_type": "code",
   "execution_count": 12,
   "metadata": {},
   "outputs": [],
   "source": [
    "model = build_logistic_model(input_dim, nb_classes)"
   ]
  },
  {
   "cell_type": "code",
   "execution_count": 13,
   "metadata": {
    "scrolled": false
   },
   "outputs": [
    {
     "name": "stdout",
     "output_type": "stream",
     "text": [
      "_________________________________________________________________\n",
      "Layer (type)                 Output Shape              Param #   \n",
      "=================================================================\n",
      "dense_1 (Dense)              (None, 3)                 1507314   \n",
      "=================================================================\n",
      "Total params: 1,507,314\n",
      "Trainable params: 1,507,314\n",
      "Non-trainable params: 0\n",
      "_________________________________________________________________\n"
     ]
    }
   ],
   "source": [
    "model.summary()"
   ]
  },
  {
   "cell_type": "markdown",
   "metadata": {},
   "source": [
    "## Compile the model"
   ]
  },
  {
   "cell_type": "code",
   "execution_count": 14,
   "metadata": {},
   "outputs": [
    {
     "name": "stdout",
     "output_type": "stream",
     "text": [
      "Train on 362 samples, validate on 40 samples\n",
      "Epoch 1/20\n",
      "362/362 [==============================] - 5s 15ms/step - loss: 1.0989 - acc: 0.3370 - val_loss: 1.0989 - val_acc: 0.3250\n",
      "Epoch 2/20\n",
      "362/362 [==============================] - 1s 2ms/step - loss: 1.0984 - acc: 0.3646 - val_loss: 1.0987 - val_acc: 0.3000\n",
      "Epoch 3/20\n",
      "362/362 [==============================] - 1s 2ms/step - loss: 1.0978 - acc: 0.3895 - val_loss: 1.0986 - val_acc: 0.3000\n",
      "Epoch 4/20\n",
      "362/362 [==============================] - 1s 2ms/step - loss: 1.0973 - acc: 0.4006 - val_loss: 1.0985 - val_acc: 0.3250\n",
      "Epoch 5/20\n",
      "362/362 [==============================] - 1s 2ms/step - loss: 1.0968 - acc: 0.4061 - val_loss: 1.0984 - val_acc: 0.3500\n",
      "Epoch 6/20\n",
      "362/362 [==============================] - 1s 2ms/step - loss: 1.0963 - acc: 0.4116 - val_loss: 1.0982 - val_acc: 0.3250\n",
      "Epoch 7/20\n",
      "362/362 [==============================] - 1s 2ms/step - loss: 1.0958 - acc: 0.4171 - val_loss: 1.0981 - val_acc: 0.3250\n",
      "Epoch 8/20\n",
      "362/362 [==============================] - 1s 2ms/step - loss: 1.0954 - acc: 0.4171 - val_loss: 1.0980 - val_acc: 0.3250\n",
      "Epoch 9/20\n",
      "362/362 [==============================] - 1s 2ms/step - loss: 1.0948 - acc: 0.4199 - val_loss: 1.0979 - val_acc: 0.3250\n",
      "Epoch 10/20\n",
      "362/362 [==============================] - 1s 2ms/step - loss: 1.0943 - acc: 0.4199 - val_loss: 1.0978 - val_acc: 0.3250\n",
      "Epoch 11/20\n",
      "362/362 [==============================] - 1s 2ms/step - loss: 1.0939 - acc: 0.4199 - val_loss: 1.0977 - val_acc: 0.3250\n",
      "Epoch 12/20\n",
      "362/362 [==============================] - 1s 2ms/step - loss: 1.0933 - acc: 0.4227 - val_loss: 1.0976 - val_acc: 0.3250\n",
      "Epoch 13/20\n",
      "362/362 [==============================] - 1s 2ms/step - loss: 1.0929 - acc: 0.4227 - val_loss: 1.0974 - val_acc: 0.3250\n",
      "Epoch 14/20\n",
      "362/362 [==============================] - 1s 2ms/step - loss: 1.0924 - acc: 0.4254 - val_loss: 1.0973 - val_acc: 0.3250\n",
      "Epoch 15/20\n",
      "362/362 [==============================] - 1s 2ms/step - loss: 1.0919 - acc: 0.4254 - val_loss: 1.0972 - val_acc: 0.3250\n",
      "Epoch 16/20\n",
      "362/362 [==============================] - 1s 2ms/step - loss: 1.0914 - acc: 0.4227 - val_loss: 1.0971 - val_acc: 0.3250\n",
      "Epoch 17/20\n",
      "362/362 [==============================] - 1s 2ms/step - loss: 1.0910 - acc: 0.4309 - val_loss: 1.0970 - val_acc: 0.3250\n",
      "Epoch 18/20\n",
      "362/362 [==============================] - 1s 2ms/step - loss: 1.0905 - acc: 0.4282 - val_loss: 1.0969 - val_acc: 0.3250\n",
      "Epoch 19/20\n",
      "362/362 [==============================] - 1s 2ms/step - loss: 1.0900 - acc: 0.4309 - val_loss: 1.0968 - val_acc: 0.3250\n",
      "Epoch 20/20\n",
      "362/362 [==============================] - 1s 2ms/step - loss: 1.0896 - acc: 0.4309 - val_loss: 1.0967 - val_acc: 0.3250\n"
     ]
    }
   ],
   "source": [
    "model.compile(optimizer='sgd', loss='categorical_crossentropy', metrics=['accuracy'])\n",
    "history = model.fit(x_train, y_train,\n",
    "                    batch_size=batch_size, epochs=nb_epoch,\n",
    "                    verbose=1, validation_data=(x_test, y_test))\n",
    "score = model.evaluate(x_test, y_test, verbose=0)"
   ]
  },
  {
   "cell_type": "code",
   "execution_count": 15,
   "metadata": {},
   "outputs": [
    {
     "name": "stdout",
     "output_type": "stream",
     "text": [
      "Test score: 1.0966670513153076\n",
      "Test accuracy: 0.325\n"
     ]
    }
   ],
   "source": [
    "print('Test score:', score[0])\n",
    "print('Test accuracy:', score[1])"
   ]
  }
 ],
 "metadata": {
  "kernelspec": {
   "display_name": "Python 3",
   "language": "python",
   "name": "python3"
  },
  "language_info": {
   "codemirror_mode": {
    "name": "ipython",
    "version": 3
   },
   "file_extension": ".py",
   "mimetype": "text/x-python",
   "name": "python",
   "nbconvert_exporter": "python",
   "pygments_lexer": "ipython3",
   "version": "3.6.4"
  }
 },
 "nbformat": 4,
 "nbformat_minor": 2
}
