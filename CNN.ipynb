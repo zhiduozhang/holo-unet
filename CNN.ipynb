{
 "cells": [
  {
   "cell_type": "code",
   "execution_count": 1,
   "metadata": {},
   "outputs": [],
   "source": [
    "# Put these at the top of every notebook, to get automatic reloading and inline plotting\n",
    "%reload_ext autoreload\n",
    "%autoreload 2\n",
    "%matplotlib inline"
   ]
  },
  {
   "cell_type": "code",
   "execution_count": 2,
   "metadata": {},
   "outputs": [
    {
     "name": "stderr",
     "output_type": "stream",
     "text": [
      "C:\\Users\\Duo\\Anaconda3\\envs\\fastai\\lib\\site-packages\\h5py\\__init__.py:36: FutureWarning: Conversion of the second argument of issubdtype from `float` to `np.floating` is deprecated. In future, it will be treated as `np.float64 == np.dtype(float).type`.\n",
      "  from ._conv import register_converters as _register_converters\n",
      "Using TensorFlow backend.\n"
     ]
    }
   ],
   "source": [
    "import numpy as np\n",
    "import pandas as pd\n",
    "import seaborn as sns\n",
    "import itertools\n",
    "import fnmatch\n",
    "import scipy.io as sio\n",
    "\n",
    "from subprocess import check_output\n",
    "from glob import glob\n",
    "from PIL import Image\n",
    "from pathlib import Path\n",
    "\n",
    "import matplotlib.pylab as plt\n",
    "import matplotlib.image as mpimg\n",
    "\n",
    "from sklearn.preprocessing import StandardScaler, OneHotEncoder, LabelEncoder\n",
    "from sklearn.model_selection import train_test_split\n",
    "from sklearn.model_selection import StratifiedKFold\n",
    "from sklearn.metrics import confusion_matrix\n",
    "\n",
    "from keras.models import Sequential\n",
    "from keras import backend as K\n",
    "from keras.preprocessing.image import ImageDataGenerator\n",
    "from keras.utils import np_utils \n",
    "from keras.layers import Dense, Dropout, Flatten, Conv2D, MaxPool2D\n",
    "from keras.optimizers import RMSprop\n",
    "from keras.callbacks import ReduceLROnPlateau\n",
    "\n",
    "import tensorflow as tf\n",
    "\n",
    "sns.set(style='white', context='notebook', palette='deep')"
   ]
  },
  {
   "cell_type": "code",
   "execution_count": 3,
   "metadata": {},
   "outputs": [
    {
     "data": {
      "text/plain": [
       "['/job:localhost/replica:0/task:0/device:GPU:0',\n",
       " '/job:localhost/replica:0/task:0/device:GPU:1']"
      ]
     },
     "execution_count": 3,
     "metadata": {},
     "output_type": "execute_result"
    }
   ],
   "source": [
    "K.tensorflow_backend._get_available_gpus()"
   ]
  },
  {
   "cell_type": "code",
   "execution_count": 4,
   "metadata": {},
   "outputs": [
    {
     "data": {
      "text/plain": [
       "\"num_cores = 4\\nCPU = False\\n\\nif not CPU:\\n    num_GPU = 2\\n    num_CPU = 0\\nelse:\\n    num_CPU = 1\\n    num_GPU = 0\\n\\nconfig = tf.ConfigProto(intra_op_parallelism_threads=num_cores,        inter_op_parallelism_threads=num_cores, allow_soft_placement=True,        device_count = {'CPU' : num_CPU, 'GPU' : num_GPU})\\nsession = tf.Session(config=config)\\nK.set_session(session)\""
      ]
     },
     "execution_count": 4,
     "metadata": {},
     "output_type": "execute_result"
    }
   ],
   "source": [
    "'''num_cores = 4\n",
    "CPU = False\n",
    "\n",
    "if not CPU:\n",
    "    num_GPU = 2\n",
    "    num_CPU = 0\n",
    "else:\n",
    "    num_CPU = 1\n",
    "    num_GPU = 0\n",
    "\n",
    "config = tf.ConfigProto(intra_op_parallelism_threads=num_cores,\\\n",
    "        inter_op_parallelism_threads=num_cores, allow_soft_placement=True,\\\n",
    "        device_count = {'CPU' : num_CPU, 'GPU' : num_GPU})\n",
    "session = tf.Session(config=config)\n",
    "K.set_session(session)'''"
   ]
  },
  {
   "cell_type": "markdown",
   "metadata": {},
   "source": [
    "## Load Data"
   ]
  },
  {
   "cell_type": "code",
   "execution_count": 5,
   "metadata": {
    "scrolled": true
   },
   "outputs": [],
   "source": [
    "train_path = \"I:\\\\Honours-Project\\\\data\\\\sorted\\\\agg\\\\train\\\\\"\n",
    "train_csv = \"I:\\\\Honours-Project\\\\data\\\\sorted\\\\agg\\\\train\\\\ids.csv\"\n",
    "test_path = \"I:\\\\Honours-Project\\\\data\\\\sorted\\\\agg\\\\test\\\\\"\n",
    "test_csv = \"I:\\\\Honours-Project\\\\data\\\\sorted\\\\agg\\\\test\\\\ids.csv\"\n",
    "\n",
    "dest_path = \"I:\\\\Honours-Project\\\\data\\\\sorted\\\\agg\\\\\"\n",
    "\n",
    "source_path = \"I:\\\\Honours-Project\\\\data\\\\sorted\\\\agg\\\\cropped\\\\\"\n",
    "\n",
    "csv = \"I:\\\\Honours-Project\\\\data\\\\sorted\\\\agg\\\\ids.csv\""
   ]
  },
  {
   "cell_type": "code",
   "execution_count": 6,
   "metadata": {},
   "outputs": [],
   "source": [
    "df = pd.read_csv(csv,index_col=0).sample(frac=1)"
   ]
  },
  {
   "cell_type": "code",
   "execution_count": 7,
   "metadata": {},
   "outputs": [
    {
     "name": "stdout",
     "output_type": "stream",
     "text": [
      "flow_rate\n",
      "1800    116\n",
      "3600    116\n",
      "7200    116\n",
      "dtype: int64\n"
     ]
    }
   ],
   "source": [
    "ds_count = min(df.groupby('flow_rate').size())\n",
    "ds_flow = df.groupby('flow_rate').size().idxmin()\n",
    "\n",
    "samples = pd.concat([df[df['flow_rate']==i].sample(n=ds_count) for i in (1800,3600,7200)],ignore_index=True)\n",
    "\n",
    "df = samples.sample(frac=1)\n",
    "\n",
    "print(df.groupby('flow_rate').size())"
   ]
  },
  {
   "cell_type": "code",
   "execution_count": 8,
   "metadata": {},
   "outputs": [
    {
     "data": {
      "text/html": [
       "<div>\n",
       "<style scoped>\n",
       "    .dataframe tbody tr th:only-of-type {\n",
       "        vertical-align: middle;\n",
       "    }\n",
       "\n",
       "    .dataframe tbody tr th {\n",
       "        vertical-align: top;\n",
       "    }\n",
       "\n",
       "    .dataframe thead th {\n",
       "        text-align: right;\n",
       "    }\n",
       "</style>\n",
       "<table border=\"1\" class=\"dataframe\">\n",
       "  <thead>\n",
       "    <tr style=\"text-align: right;\">\n",
       "      <th></th>\n",
       "      <th>name</th>\n",
       "      <th>date</th>\n",
       "      <th>flow_rate</th>\n",
       "      <th>source</th>\n",
       "      <th>peak_val</th>\n",
       "      <th>area</th>\n",
       "      <th>volume</th>\n",
       "      <th>eccentricity</th>\n",
       "      <th>euler_number</th>\n",
       "      <th>extent</th>\n",
       "      <th>mean_intensity</th>\n",
       "      <th>moments</th>\n",
       "      <th>orientation</th>\n",
       "      <th>perimeter</th>\n",
       "      <th>inertia_tensor</th>\n",
       "      <th>cluster</th>\n",
       "      <th>num_peaks</th>\n",
       "    </tr>\n",
       "  </thead>\n",
       "  <tbody>\n",
       "    <tr>\n",
       "      <th>245</th>\n",
       "      <td>75_flipped</td>\n",
       "      <td>2017.11.17</td>\n",
       "      <td>7200</td>\n",
       "      <td>8.05 s.tifheightmap.mat</td>\n",
       "      <td>12.802491</td>\n",
       "      <td>12293</td>\n",
       "      <td>91375.269340</td>\n",
       "      <td>0.987315</td>\n",
       "      <td>1</td>\n",
       "      <td>0.380141</td>\n",
       "      <td>7.433114</td>\n",
       "      <td>[[1.22930000e+04 2.31417800e+06 6.05907654e+08...</td>\n",
       "      <td>-1.526457</td>\n",
       "      <td>836.587878</td>\n",
       "      <td>[[  376.38318157  -598.98373804]\\r\\n [ -598.98...</td>\n",
       "      <td>0</td>\n",
       "      <td>2</td>\n",
       "    </tr>\n",
       "    <tr>\n",
       "      <th>99</th>\n",
       "      <td>29</td>\n",
       "      <td>2017.11.17</td>\n",
       "      <td>1800</td>\n",
       "      <td>21.41 s.tifheightmap.mat</td>\n",
       "      <td>9.239291</td>\n",
       "      <td>1662</td>\n",
       "      <td>8269.811594</td>\n",
       "      <td>0.594737</td>\n",
       "      <td>1</td>\n",
       "      <td>0.786932</td>\n",
       "      <td>4.975819</td>\n",
       "      <td>[[1.66200000e+03 4.06070000e+04 1.25490700e+06...</td>\n",
       "      <td>1.141600</td>\n",
       "      <td>167.053824</td>\n",
       "      <td>[[119.16568124  22.54220192]\\r\\n [ 22.54220192...</td>\n",
       "      <td>0</td>\n",
       "      <td>1</td>\n",
       "    </tr>\n",
       "    <tr>\n",
       "      <th>31</th>\n",
       "      <td>132_flipped</td>\n",
       "      <td>2017.11.23</td>\n",
       "      <td>1800</td>\n",
       "      <td>26.20 s.tifheightmap.mat</td>\n",
       "      <td>9.358412</td>\n",
       "      <td>5355</td>\n",
       "      <td>24621.497101</td>\n",
       "      <td>0.668227</td>\n",
       "      <td>0</td>\n",
       "      <td>0.767742</td>\n",
       "      <td>4.597852</td>\n",
       "      <td>[[5.35500000e+03 2.30840000e+05 1.30236900e+07...</td>\n",
       "      <td>-1.151411</td>\n",
       "      <td>335.622366</td>\n",
       "      <td>[[ 388.86804988 -102.91215484]\\r\\n [-102.91215...</td>\n",
       "      <td>0</td>\n",
       "      <td>1</td>\n",
       "    </tr>\n",
       "    <tr>\n",
       "      <th>261</th>\n",
       "      <td>197_flipped</td>\n",
       "      <td>2017.11.23</td>\n",
       "      <td>7200</td>\n",
       "      <td>36.00 s.tifheightmap.mat</td>\n",
       "      <td>19.083013</td>\n",
       "      <td>3122</td>\n",
       "      <td>29222.399419</td>\n",
       "      <td>0.957761</td>\n",
       "      <td>1</td>\n",
       "      <td>0.315992</td>\n",
       "      <td>9.360154</td>\n",
       "      <td>[[3.12200000e+03 1.79358000e+05 1.46038540e+07...</td>\n",
       "      <td>1.295739</td>\n",
       "      <td>306.835570</td>\n",
       "      <td>[[ 222.11597891  354.20156308]\\r\\n [ 354.20156...</td>\n",
       "      <td>0</td>\n",
       "      <td>2</td>\n",
       "    </tr>\n",
       "    <tr>\n",
       "      <th>298</th>\n",
       "      <td>72</td>\n",
       "      <td>2017.11.17</td>\n",
       "      <td>7200</td>\n",
       "      <td>5.20 s.tifheightmap.mat</td>\n",
       "      <td>6.577711</td>\n",
       "      <td>7998</td>\n",
       "      <td>12404.227215</td>\n",
       "      <td>0.999753</td>\n",
       "      <td>1</td>\n",
       "      <td>0.537934</td>\n",
       "      <td>1.549560</td>\n",
       "      <td>[[8.00500000e+03 2.60840000e+06 1.17772984e+09...</td>\n",
       "      <td>-1.569433</td>\n",
       "      <td>1380.818326</td>\n",
       "      <td>[[ 2.02879511e+01 -5.57794988e+01]\\r\\n [-5.577...</td>\n",
       "      <td>1</td>\n",
       "      <td>1</td>\n",
       "    </tr>\n",
       "  </tbody>\n",
       "</table>\n",
       "</div>"
      ],
      "text/plain": [
       "            name        date  flow_rate                    source   peak_val  \\\n",
       "245   75_flipped  2017.11.17       7200   8.05 s.tifheightmap.mat  12.802491   \n",
       "99            29  2017.11.17       1800  21.41 s.tifheightmap.mat   9.239291   \n",
       "31   132_flipped  2017.11.23       1800  26.20 s.tifheightmap.mat   9.358412   \n",
       "261  197_flipped  2017.11.23       7200  36.00 s.tifheightmap.mat  19.083013   \n",
       "298           72  2017.11.17       7200   5.20 s.tifheightmap.mat   6.577711   \n",
       "\n",
       "      area        volume  eccentricity  euler_number    extent  \\\n",
       "245  12293  91375.269340      0.987315             1  0.380141   \n",
       "99    1662   8269.811594      0.594737             1  0.786932   \n",
       "31    5355  24621.497101      0.668227             0  0.767742   \n",
       "261   3122  29222.399419      0.957761             1  0.315992   \n",
       "298   7998  12404.227215      0.999753             1  0.537934   \n",
       "\n",
       "     mean_intensity                                            moments  \\\n",
       "245        7.433114  [[1.22930000e+04 2.31417800e+06 6.05907654e+08...   \n",
       "99         4.975819  [[1.66200000e+03 4.06070000e+04 1.25490700e+06...   \n",
       "31         4.597852  [[5.35500000e+03 2.30840000e+05 1.30236900e+07...   \n",
       "261        9.360154  [[3.12200000e+03 1.79358000e+05 1.46038540e+07...   \n",
       "298        1.549560  [[8.00500000e+03 2.60840000e+06 1.17772984e+09...   \n",
       "\n",
       "     orientation    perimeter  \\\n",
       "245    -1.526457   836.587878   \n",
       "99      1.141600   167.053824   \n",
       "31     -1.151411   335.622366   \n",
       "261     1.295739   306.835570   \n",
       "298    -1.569433  1380.818326   \n",
       "\n",
       "                                        inertia_tensor  cluster  num_peaks  \n",
       "245  [[  376.38318157  -598.98373804]\\r\\n [ -598.98...        0          2  \n",
       "99   [[119.16568124  22.54220192]\\r\\n [ 22.54220192...        0          1  \n",
       "31   [[ 388.86804988 -102.91215484]\\r\\n [-102.91215...        0          1  \n",
       "261  [[ 222.11597891  354.20156308]\\r\\n [ 354.20156...        0          2  \n",
       "298  [[ 2.02879511e+01 -5.57794988e+01]\\r\\n [-5.577...        1          1  "
      ]
     },
     "execution_count": 8,
     "metadata": {},
     "output_type": "execute_result"
    }
   ],
   "source": [
    "df.head()"
   ]
  },
  {
   "cell_type": "code",
   "execution_count": 9,
   "metadata": {},
   "outputs": [],
   "source": [
    "x = []\n",
    "y = []\n",
    "\n",
    "for path in df['name']:\n",
    "    x.append(np.load(source_path+path+\".npy\"))\n",
    "    \n",
    "x = np.array(x)\n",
    "y = df[\"flow_rate\"].values"
   ]
  },
  {
   "cell_type": "code",
   "execution_count": 10,
   "metadata": {},
   "outputs": [],
   "source": [
    "x_test_df = pd.concat([df[df['flow_rate']==i].sample(n=10) for i in (1800,3600,7200)],ignore_index=True)\n",
    "y_test = x_test_df['flow_rate'].values\n",
    "\n",
    "x_train_df = pd.concat([df, x_test_df, x_test_df]).drop_duplicates(keep=False)\n",
    "y_train = x_train_df['flow_rate'].values\n",
    "\n",
    "x_test = []\n",
    "x_train = [] \n",
    "\n",
    "for path in x_test_df['name']:\n",
    "    x_test.append(np.load(source_path+path+\".npy\"))\n",
    "    \n",
    "x_test = np.array(x_test)\n",
    "\n",
    "for path in x_train_df['name']:\n",
    "    x_train.append(np.load(source_path+path+\".npy\"))\n",
    "    \n",
    "x_train = np.array(x_train)"
   ]
  },
  {
   "cell_type": "code",
   "execution_count": 11,
   "metadata": {},
   "outputs": [
    {
     "name": "stderr",
     "output_type": "stream",
     "text": [
      "C:\\Users\\Duo\\Anaconda3\\envs\\fastai\\lib\\site-packages\\ipykernel_launcher.py:4: RuntimeWarning: invalid value encountered in true_divide\n",
      "  after removing the cwd from sys.path.\n",
      "C:\\Users\\Duo\\Anaconda3\\envs\\fastai\\lib\\site-packages\\ipykernel_launcher.py:5: RuntimeWarning: invalid value encountered in true_divide\n",
      "  \"\"\"\n"
     ]
    }
   ],
   "source": [
    "std = np.std(x_train,0)\n",
    "mean = np.mean(x_train,0)\n",
    "    \n",
    "x_train = (x_train-mean)/std\n",
    "x_test = (x_test-mean)/std    "
   ]
  },
  {
   "cell_type": "code",
   "execution_count": 12,
   "metadata": {},
   "outputs": [],
   "source": [
    "nb_classes = 3\n",
    "\n",
    "y_train[y_train == 1800] = 0\n",
    "y_train[y_train == 3600] = 1\n",
    "y_train[y_train == 7200] = 2\n",
    "\n",
    "y_test[y_test == 1800] = 0\n",
    "y_test[y_test == 3600] = 1\n",
    "y_test[y_test == 7200] = 2\n",
    "\n",
    "y_train = np_utils.to_categorical(y_train, nb_classes) \n",
    "y_test = np_utils.to_categorical(y_test, nb_classes)"
   ]
  },
  {
   "cell_type": "code",
   "execution_count": 16,
   "metadata": {
    "scrolled": true
   },
   "outputs": [
    {
     "name": "stdout",
     "output_type": "stream",
     "text": [
      "(30, 647, 277, 1)\n",
      "(318, 647, 277, 1)\n"
     ]
    }
   ],
   "source": [
    "print(x_test.shape)\n",
    "x_test = x_test.reshape(30,647,277,1)\n",
    "\n",
    "print(x_train.shape)\n",
    "x_train = x_train.reshape(318,647,277,1)"
   ]
  },
  {
   "cell_type": "markdown",
   "metadata": {},
   "source": [
    "## Run CNN"
   ]
  },
  {
   "cell_type": "code",
   "execution_count": 17,
   "metadata": {},
   "outputs": [],
   "source": [
    "# Set the CNN model \n",
    "def build_cnn_model(input_dim, output_dim):\n",
    "    model = Sequential()\n",
    "\n",
    "    model.add(Conv2D(filters = 8, kernel_size = (7,7), \n",
    "                     activation ='relu', input_shape=input_dim))\n",
    "    model.add(MaxPool2D(pool_size=(2,2)))\n",
    "    # model.add(Dropout(0.25))\n",
    "\n",
    "    model.add(Conv2D(filters = 16, kernel_size = (5,5), \n",
    "                     activation ='relu'))\n",
    "    model.add(MaxPool2D(pool_size=(2,2)))\n",
    "\n",
    "    model.add(Conv2D(filters = 32, kernel_size = (3,3), \n",
    "                     activation ='relu'))\n",
    "    model.add(MaxPool2D(pool_size=(2,2), strides=(2,2)))\n",
    "\n",
    "    model.add(Conv2D(filters = 64, kernel_size = (3,3), \n",
    "                     activation ='relu'))\n",
    "    model.add(MaxPool2D(pool_size=(2,2), strides=(2,2)))\n",
    "\n",
    "    # model.add(Dropout(0.25))\n",
    "\n",
    "    model.add(Flatten())\n",
    "    # model.add(Dense(16, activation = \"relu\"))\n",
    "    # model.add(Dropout(0.5))\n",
    "    model.add(Dense(output_dim, activation = \"softmax\"))\n",
    "    \n",
    "    return model"
   ]
  },
  {
   "cell_type": "code",
   "execution_count": 18,
   "metadata": {},
   "outputs": [
    {
     "name": "stdout",
     "output_type": "stream",
     "text": [
      "(647, 277, 1)\n"
     ]
    }
   ],
   "source": [
    "print(x_train.shape[1:])"
   ]
  },
  {
   "cell_type": "code",
   "execution_count": 19,
   "metadata": {},
   "outputs": [],
   "source": [
    "model = build_cnn_model(x_train.shape[1:], nb_classes)"
   ]
  },
  {
   "cell_type": "code",
   "execution_count": 20,
   "metadata": {},
   "outputs": [],
   "source": [
    "# Define the optimizer\n",
    "optimizer = RMSprop(lr=0.001, rho=0.9, epsilon=1e-08, decay=0.0)"
   ]
  },
  {
   "cell_type": "code",
   "execution_count": 21,
   "metadata": {},
   "outputs": [
    {
     "name": "stdout",
     "output_type": "stream",
     "text": [
      "_________________________________________________________________\n",
      "Layer (type)                 Output Shape              Param #   \n",
      "=================================================================\n",
      "conv2d_1 (Conv2D)            (None, 641, 271, 8)       400       \n",
      "_________________________________________________________________\n",
      "max_pooling2d_1 (MaxPooling2 (None, 320, 135, 8)       0         \n",
      "_________________________________________________________________\n",
      "conv2d_2 (Conv2D)            (None, 316, 131, 16)      3216      \n",
      "_________________________________________________________________\n",
      "max_pooling2d_2 (MaxPooling2 (None, 158, 65, 16)       0         \n",
      "_________________________________________________________________\n",
      "conv2d_3 (Conv2D)            (None, 156, 63, 32)       4640      \n",
      "_________________________________________________________________\n",
      "max_pooling2d_3 (MaxPooling2 (None, 78, 31, 32)        0         \n",
      "_________________________________________________________________\n",
      "conv2d_4 (Conv2D)            (None, 76, 29, 64)        18496     \n",
      "_________________________________________________________________\n",
      "max_pooling2d_4 (MaxPooling2 (None, 38, 14, 64)        0         \n",
      "_________________________________________________________________\n",
      "flatten_1 (Flatten)          (None, 34048)             0         \n",
      "_________________________________________________________________\n",
      "dense_1 (Dense)              (None, 3)                 102147    \n",
      "=================================================================\n",
      "Total params: 128,899\n",
      "Trainable params: 128,899\n",
      "Non-trainable params: 0\n",
      "_________________________________________________________________\n"
     ]
    }
   ],
   "source": [
    "model.summary()"
   ]
  },
  {
   "cell_type": "code",
   "execution_count": 22,
   "metadata": {},
   "outputs": [],
   "source": [
    "# Compile the model\n",
    "model.compile(optimizer = optimizer , loss = \"categorical_crossentropy\", metrics=[\"accuracy\"])"
   ]
  },
  {
   "cell_type": "code",
   "execution_count": 23,
   "metadata": {},
   "outputs": [],
   "source": [
    "# Set a learning rate annealer\n",
    "learning_rate_reduction = ReduceLROnPlateau(monitor='val_acc', \n",
    "                                            patience=3, \n",
    "                                            verbose=1, \n",
    "                                            factor=0.5, \n",
    "                                            min_lr=0.00001)"
   ]
  },
  {
   "cell_type": "code",
   "execution_count": 24,
   "metadata": {},
   "outputs": [],
   "source": [
    "epochs = 10 \n",
    "batch_size = 1"
   ]
  },
  {
   "cell_type": "code",
   "execution_count": 25,
   "metadata": {},
   "outputs": [
    {
     "name": "stdout",
     "output_type": "stream",
     "text": [
      "Train on 318 samples, validate on 30 samples\n",
      "Epoch 1/10\n",
      " - 7s - loss: 1.1038 - acc: 0.3208 - val_loss: 1.0987 - val_acc: 0.3333\n",
      "Epoch 2/10\n",
      " - 6s - loss: 1.0994 - acc: 0.3050 - val_loss: 1.0986 - val_acc: 0.3333\n",
      "Epoch 3/10\n",
      " - 6s - loss: 1.0994 - acc: 0.3082 - val_loss: 1.0986 - val_acc: 0.3333\n",
      "Epoch 4/10\n",
      " - 6s - loss: 1.0993 - acc: 0.3113 - val_loss: 1.0986 - val_acc: 0.3333\n",
      "Epoch 5/10\n",
      " - 6s - loss: 1.0993 - acc: 0.3082 - val_loss: 1.0986 - val_acc: 0.3333\n",
      "\n",
      "Epoch 00005: ReduceLROnPlateau reducing learning rate to 0.0005000000237487257.\n",
      "Epoch 6/10\n",
      " - 6s - loss: 1.0990 - acc: 0.2862 - val_loss: 1.0986 - val_acc: 0.3333\n",
      "Epoch 7/10\n",
      " - 6s - loss: 1.0990 - acc: 0.3270 - val_loss: 1.0986 - val_acc: 0.3333\n",
      "Epoch 8/10\n",
      " - 6s - loss: 1.0990 - acc: 0.2925 - val_loss: 1.0986 - val_acc: 0.3333\n",
      "\n",
      "Epoch 00008: ReduceLROnPlateau reducing learning rate to 0.0002500000118743628.\n",
      "Epoch 9/10\n",
      " - 6s - loss: 1.0988 - acc: 0.3302 - val_loss: 1.0986 - val_acc: 0.3333\n",
      "Epoch 10/10\n",
      " - 6s - loss: 1.0988 - acc: 0.3208 - val_loss: 1.0986 - val_acc: 0.3333\n"
     ]
    }
   ],
   "source": [
    "# Fit the model\n",
    "\"\"\"history = model.fit_generator(datagen.flow(X_train,Y_train, batch_size=batch_size),\n",
    "                              epochs = epochs, validation_data = (X_val,Y_val),\n",
    "                              verbose = 2, steps_per_epoch=X_train.shape[0] // batch_size\n",
    "                              , callbacks=[learning_rate_reduction])\"\"\"\n",
    "history = model.fit(x_train, y_train,\n",
    "                    batch_size=batch_size,\n",
    "                    epochs=epochs,\n",
    "                    verbose=2, \n",
    "                    validation_data=(x_test, y_test), \n",
    "                    callbacks=[learning_rate_reduction])\n",
    "score = model.evaluate(x_test, y_test, verbose=0)"
   ]
  },
  {
   "cell_type": "code",
   "execution_count": 26,
   "metadata": {},
   "outputs": [
    {
     "data": {
      "image/png": "[encoded data removed]",
      "text/plain": [
       "<Figure size 432x288 with 2 Axes>"
      ]
     },
     "metadata": {},
     "output_type": "display_data"
    }
   ],
   "source": [
    "# Plot the loss and accuracy curves for training and validation \n",
    "fig, ax = plt.subplots(2,1)\n",
    "ax[0].plot(history.history['loss'], color='b', label=\"Training loss\")\n",
    "ax[0].plot(history.history['val_loss'], color='r', label=\"validation loss\",axes =ax[0])\n",
    "legend = ax[0].legend(loc='best', shadow=True)\n",
    "\n",
    "ax[1].plot(history.history['acc'], color='b', label=\"Training accuracy\")\n",
    "ax[1].plot(history.history['val_acc'], color='r',label=\"Validation accuracy\")\n",
    "legend = ax[1].legend(loc='best', shadow=True)"
   ]
  },
  {
   "cell_type": "code",
   "execution_count": 27,
   "metadata": {},
   "outputs": [],
   "source": [
    "def plot_confusion_matrix(cm, classes,\n",
    "                          normalize=False,\n",
    "                          title='Confusion matrix',\n",
    "                          cmap=plt.cm.Blues):\n",
    "    \"\"\"\n",
    "    This function prints and plots the confusion matrix.\n",
    "    Normalization can be applied by setting `normalize=True`.\n",
    "    \"\"\"\n",
    "    plt.imshow(cm, interpolation='nearest', cmap=cmap)\n",
    "    plt.title(title)\n",
    "    plt.colorbar()\n",
    "    tick_marks = np.arange(len(classes))\n",
    "    plt.xticks(tick_marks, classes, rotation=45)\n",
    "    plt.yticks(tick_marks, classes)\n",
    "\n",
    "    if normalize:\n",
    "        cm = cm.astype('float') / cm.sum(axis=1)[:, np.newaxis]\n",
    "\n",
    "    thresh = cm.max() / 2.\n",
    "    for i, j in itertools.product(range(cm.shape[0]), range(cm.shape[1])):\n",
    "        plt.text(j, i, cm[i, j],\n",
    "                 horizontalalignment=\"center\",\n",
    "                 color=\"white\" if cm[i, j] > thresh else \"black\")\n",
    "\n",
    "    plt.tight_layout()\n",
    "    plt.ylabel('True label')\n",
    "    plt.xlabel('Predicted label')"
   ]
  },
  {
   "cell_type": "code",
   "execution_count": 28,
   "metadata": {},
   "outputs": [],
   "source": [
    "# Predict the values from the validation dataset\n",
    "Y_pred = model.predict(x_test)\n",
    "# Convert predictions classes to one hot vectors \n",
    "Y_pred_classes = np.argmax(Y_pred,axis = 1) \n",
    "# Convert validation observations to one hot vectors\n",
    "Y_true = np.argmax(y_test,axis = 1) "
   ]
  },
  {
   "cell_type": "code",
   "execution_count": 29,
   "metadata": {
    "scrolled": true
   },
   "outputs": [
    {
     "data": {
      "image/png": "[encoded data removed]",
      "text/plain": [
       "<Figure size 432x288 with 2 Axes>"
      ]
     },
     "metadata": {},
     "output_type": "display_data"
    }
   ],
   "source": [
    "# compute the confusion matrix\n",
    "confusion_mtx = confusion_matrix(np.array(Y_true), np.array(Y_pred_classes)) \n",
    "# plot the confusion matrix\n",
    "plot_confusion_matrix(confusion_mtx, classes = range(3)) "
   ]
  },
  {
   "cell_type": "markdown",
   "metadata": {},
   "source": [
    "## With Cross Validation:"
   ]
  },
  {
   "cell_type": "code",
   "execution_count": 30,
   "metadata": {},
   "outputs": [],
   "source": [
    "input_dim = x_train.shape[1:]"
   ]
  },
  {
   "cell_type": "code",
   "execution_count": 31,
   "metadata": {},
   "outputs": [],
   "source": [
    "model = None\n",
    "model = build_cnn_model(input_dim, nb_classes)"
   ]
  },
  {
   "cell_type": "code",
   "execution_count": 32,
   "metadata": {},
   "outputs": [],
   "source": [
    "def train_and_evaluate_model(model, x_train, y_train, x_test, y_test):\n",
    "    model.compile(optimizer = optimizer , loss = \"categorical_crossentropy\", metrics=[\"accuracy\"])\n",
    "\n",
    "    # Set a learning rate annealer\n",
    "    learning_rate_reduction = ReduceLROnPlateau(monitor='val_acc', \n",
    "                                                patience=3, \n",
    "                                                verbose=1, \n",
    "                                                factor=0.5, \n",
    "                                                min_lr=0.00001)\n",
    "\n",
    "    # Fit the model\n",
    "    \"\"\"history = model.fit_generator(datagen.flow(X_train,Y_train, batch_size=batch_size),\n",
    "                                  epochs = epochs, validation_data = (X_val,Y_val),\n",
    "                                  verbose = 2, steps_per_epoch=X_train.shape[0] // batch_size\n",
    "                                  , callbacks=[learning_rate_reduction])\"\"\"\n",
    "    history = model.fit(x_train, y_train,\n",
    "                        batch_size=batch_size,\n",
    "                        epochs=epochs,\n",
    "                        verbose=2, \n",
    "                        validation_data=(x_test, y_test), \n",
    "                        callbacks=[learning_rate_reduction])\n",
    "    score = model.evaluate(x_test, y_test, verbose=0)\n",
    "    \n",
    "    return score[1]"
   ]
  },
  {
   "cell_type": "code",
   "execution_count": 33,
   "metadata": {},
   "outputs": [
    {
     "name": "stdout",
     "output_type": "stream",
     "text": [
      "_________________________________________________________________\n",
      "Layer (type)                 Output Shape              Param #   \n",
      "=================================================================\n",
      "conv2d_5 (Conv2D)            (None, 641, 271, 8)       400       \n",
      "_________________________________________________________________\n",
      "max_pooling2d_5 (MaxPooling2 (None, 320, 135, 8)       0         \n",
      "_________________________________________________________________\n",
      "conv2d_6 (Conv2D)            (None, 316, 131, 16)      3216      \n",
      "_________________________________________________________________\n",
      "max_pooling2d_6 (MaxPooling2 (None, 158, 65, 16)       0         \n",
      "_________________________________________________________________\n",
      "conv2d_7 (Conv2D)            (None, 156, 63, 32)       4640      \n",
      "_________________________________________________________________\n",
      "max_pooling2d_7 (MaxPooling2 (None, 78, 31, 32)        0         \n",
      "_________________________________________________________________\n",
      "conv2d_8 (Conv2D)            (None, 76, 29, 64)        18496     \n",
      "_________________________________________________________________\n",
      "max_pooling2d_8 (MaxPooling2 (None, 38, 14, 64)        0         \n",
      "_________________________________________________________________\n",
      "flatten_2 (Flatten)          (None, 34048)             0         \n",
      "_________________________________________________________________\n",
      "dense_2 (Dense)              (None, 3)                 102147    \n",
      "=================================================================\n",
      "Total params: 128,899\n",
      "Trainable params: 128,899\n",
      "Non-trainable params: 0\n",
      "_________________________________________________________________\n"
     ]
    }
   ],
   "source": [
    "model.summary()"
   ]
  },
  {
   "cell_type": "code",
   "execution_count": null,
   "metadata": {},
   "outputs": [],
   "source": []
  },
  {
   "cell_type": "code",
   "execution_count": 34,
   "metadata": {},
   "outputs": [
    {
     "name": "stdout",
     "output_type": "stream",
     "text": [
      "(318, 647, 277, 1)\n"
     ]
    }
   ],
   "source": [
    "print(x_train.shape)"
   ]
  },
  {
   "cell_type": "code",
   "execution_count": 35,
   "metadata": {},
   "outputs": [
    {
     "name": "stdout",
     "output_type": "stream",
     "text": [
      "Running Fold 1 / 10\n"
     ]
    },
    {
     "name": "stderr",
     "output_type": "stream",
     "text": [
      "C:\\Users\\Duo\\Anaconda3\\envs\\fastai\\lib\\site-packages\\ipykernel_launcher.py:27: RuntimeWarning: invalid value encountered in true_divide\n",
      "C:\\Users\\Duo\\Anaconda3\\envs\\fastai\\lib\\site-packages\\ipykernel_launcher.py:29: RuntimeWarning: divide by zero encountered in true_divide\n",
      "C:\\Users\\Duo\\Anaconda3\\envs\\fastai\\lib\\site-packages\\ipykernel_launcher.py:29: RuntimeWarning: invalid value encountered in true_divide\n"
     ]
    },
    {
     "name": "stdout",
     "output_type": "stream",
     "text": [
      "Train on 312 samples, validate on 36 samples\n",
      "Epoch 1/10\n",
      " - 6s - loss: 1.0989 - acc: 0.2724 - val_loss: 1.0986 - val_acc: 0.3333\n",
      "Epoch 2/10\n",
      " - 6s - loss: 1.0988 - acc: 0.2949 - val_loss: 1.0986 - val_acc: 0.3333\n",
      "Epoch 3/10\n",
      " - 6s - loss: 1.0988 - acc: 0.3141 - val_loss: 1.0986 - val_acc: 0.3333\n",
      "Epoch 4/10\n",
      " - 6s - loss: 1.0988 - acc: 0.2788 - val_loss: 1.0986 - val_acc: 0.3333\n",
      "Epoch 5/10\n",
      " - 6s - loss: 1.0988 - acc: 0.3173 - val_loss: 1.0986 - val_acc: 0.3333\n",
      "\n",
      "Epoch 00005: ReduceLROnPlateau reducing learning rate to 0.0001250000059371814.\n",
      "Epoch 6/10\n",
      " - 6s - loss: 1.0987 - acc: 0.3141 - val_loss: 1.0986 - val_acc: 0.3333\n",
      "Epoch 7/10\n",
      " - 7s - loss: 1.0987 - acc: 0.3173 - val_loss: 1.0986 - val_acc: 0.3333\n",
      "Epoch 8/10\n",
      " - 7s - loss: 1.0987 - acc: 0.3141 - val_loss: 1.0986 - val_acc: 0.3333\n",
      "\n",
      "Epoch 00008: ReduceLROnPlateau reducing learning rate to 6.25000029685907e-05.\n",
      "Epoch 9/10\n",
      " - 6s - loss: 1.0987 - acc: 0.3045 - val_loss: 1.0986 - val_acc: 0.3333\n",
      "Epoch 10/10\n",
      " - 6s - loss: 1.0987 - acc: 0.3269 - val_loss: 1.0986 - val_acc: 0.3333\n",
      "Running Fold 2 / 10\n",
      "Train on 312 samples, validate on 36 samples\n",
      "Epoch 1/10\n",
      " - 6s - loss: 1.0998 - acc: 0.2949 - val_loss: 1.0986 - val_acc: 0.3333\n",
      "Epoch 2/10\n",
      " - 6s - loss: 1.0987 - acc: 0.3013 - val_loss: 1.0986 - val_acc: 0.3333\n",
      "Epoch 3/10\n",
      " - 6s - loss: 1.0987 - acc: 0.2885 - val_loss: 1.0986 - val_acc: 0.3333\n",
      "Epoch 4/10\n",
      " - 6s - loss: 1.0987 - acc: 0.2821 - val_loss: 1.0986 - val_acc: 0.3333\n",
      "Epoch 5/10\n",
      " - 6s - loss: 1.0987 - acc: 0.2853 - val_loss: 1.0986 - val_acc: 0.3333\n",
      "\n",
      "Epoch 00005: ReduceLROnPlateau reducing learning rate to 3.125000148429535e-05.\n",
      "Epoch 6/10\n",
      " - 6s - loss: 1.0986 - acc: 0.3109 - val_loss: 1.0986 - val_acc: 0.3333\n",
      "Epoch 7/10\n",
      " - 6s - loss: 1.0986 - acc: 0.3141 - val_loss: 1.0986 - val_acc: 0.3333\n",
      "Epoch 8/10\n",
      " - 6s - loss: 1.0986 - acc: 0.3173 - val_loss: 1.0986 - val_acc: 0.3333\n",
      "\n",
      "Epoch 00008: ReduceLROnPlateau reducing learning rate to 1.5625000742147677e-05.\n",
      "Epoch 9/10\n",
      " - 6s - loss: 1.0986 - acc: 0.3173 - val_loss: 1.0986 - val_acc: 0.3333\n",
      "Epoch 10/10\n",
      " - 6s - loss: 1.0986 - acc: 0.3333 - val_loss: 1.0986 - val_acc: 0.3333\n",
      "Running Fold 3 / 10\n",
      "Train on 312 samples, validate on 36 samples\n",
      "Epoch 1/10\n",
      " - 6s - loss: 1.0986 - acc: 0.3109 - val_loss: 1.0986 - val_acc: 0.3333\n",
      "Epoch 2/10\n",
      " - 6s - loss: 1.0986 - acc: 0.3077 - val_loss: 1.0986 - val_acc: 0.3333\n",
      "Epoch 3/10\n",
      " - 6s - loss: 1.0986 - acc: 0.3205 - val_loss: 1.0986 - val_acc: 0.3333\n",
      "Epoch 4/10\n",
      " - 6s - loss: 1.0986 - acc: 0.2885 - val_loss: 1.0986 - val_acc: 0.3333\n",
      "Epoch 5/10\n",
      " - 6s - loss: 1.0986 - acc: 0.3077 - val_loss: 1.0986 - val_acc: 0.3333\n",
      "\n",
      "Epoch 00005: ReduceLROnPlateau reducing learning rate to 1e-05.\n",
      "Epoch 6/10\n",
      " - 6s - loss: 1.0986 - acc: 0.2949 - val_loss: 1.0986 - val_acc: 0.3333\n",
      "Epoch 7/10\n",
      " - 6s - loss: 1.0986 - acc: 0.3237 - val_loss: 1.0986 - val_acc: 0.3333\n",
      "Epoch 8/10\n",
      " - 6s - loss: 1.0986 - acc: 0.2949 - val_loss: 1.0986 - val_acc: 0.3333\n",
      "Epoch 9/10\n",
      " - 6s - loss: 1.0986 - acc: 0.2917 - val_loss: 1.0986 - val_acc: 0.3333\n",
      "Epoch 10/10\n",
      " - 6s - loss: 1.0986 - acc: 0.3013 - val_loss: 1.0986 - val_acc: 0.3333\n",
      "Running Fold 4 / 10\n",
      "Train on 312 samples, validate on 36 samples\n",
      "Epoch 1/10\n",
      " - 7s - loss: 1.0986 - acc: 0.3141 - val_loss: 1.0986 - val_acc: 0.3333\n",
      "Epoch 2/10\n",
      " - 6s - loss: 1.0986 - acc: 0.2917 - val_loss: 1.0986 - val_acc: 0.3333\n",
      "Epoch 3/10\n",
      " - 6s - loss: 1.0986 - acc: 0.3397 - val_loss: 1.0986 - val_acc: 0.3333\n",
      "Epoch 4/10\n",
      " - 6s - loss: 1.0986 - acc: 0.3333 - val_loss: 1.0986 - val_acc: 0.3333\n",
      "Epoch 5/10\n",
      " - 7s - loss: 1.0986 - acc: 0.2724 - val_loss: 1.0986 - val_acc: 0.3333\n",
      "Epoch 6/10\n",
      " - 7s - loss: 1.0986 - acc: 0.2917 - val_loss: 1.0986 - val_acc: 0.3333\n",
      "Epoch 7/10\n",
      " - 7s - loss: 1.0986 - acc: 0.2821 - val_loss: 1.0986 - val_acc: 0.3333\n",
      "Epoch 8/10\n",
      " - 7s - loss: 1.0986 - acc: 0.3045 - val_loss: 1.0986 - val_acc: 0.3333\n",
      "Epoch 9/10\n",
      " - 6s - loss: 1.0986 - acc: 0.2981 - val_loss: 1.0986 - val_acc: 0.3333\n",
      "Epoch 10/10\n",
      " - 6s - loss: 1.0986 - acc: 0.3173 - val_loss: 1.0986 - val_acc: 0.3333\n",
      "Running Fold 5 / 10\n",
      "Train on 312 samples, validate on 36 samples\n",
      "Epoch 1/10\n",
      " - 6s - loss: 1.0986 - acc: 0.2788 - val_loss: 1.0986 - val_acc: 0.3333\n",
      "Epoch 2/10\n",
      " - 6s - loss: 1.0986 - acc: 0.3013 - val_loss: 1.0986 - val_acc: 0.3333\n",
      "Epoch 3/10\n",
      " - 6s - loss: 1.0986 - acc: 0.3141 - val_loss: 1.0986 - val_acc: 0.3333\n",
      "Epoch 4/10\n",
      " - 6s - loss: 1.0986 - acc: 0.3045 - val_loss: 1.0986 - val_acc: 0.3333\n",
      "Epoch 5/10\n",
      " - 6s - loss: 1.0986 - acc: 0.3141 - val_loss: 1.0986 - val_acc: 0.3333\n",
      "Epoch 6/10\n",
      " - 6s - loss: 1.0986 - acc: 0.3301 - val_loss: 1.0986 - val_acc: 0.3333\n",
      "Epoch 7/10\n",
      " - 6s - loss: 1.0986 - acc: 0.3013 - val_loss: 1.0986 - val_acc: 0.3333\n",
      "Epoch 8/10\n",
      " - 6s - loss: 1.0986 - acc: 0.2981 - val_loss: 1.0986 - val_acc: 0.3333\n",
      "Epoch 9/10\n",
      " - 6s - loss: 1.0986 - acc: 0.3301 - val_loss: 1.0986 - val_acc: 0.3333\n",
      "Epoch 10/10\n",
      " - 6s - loss: 1.0986 - acc: 0.3333 - val_loss: 1.0986 - val_acc: 0.3333\n",
      "Running Fold 6 / 10\n",
      "Train on 312 samples, validate on 36 samples\n",
      "Epoch 1/10\n",
      " - 6s - loss: 1.0987 - acc: 0.2949 - val_loss: 1.0986 - val_acc: 0.3333\n",
      "Epoch 2/10\n",
      " - 6s - loss: 1.0986 - acc: 0.3173 - val_loss: 1.0986 - val_acc: 0.3333\n",
      "Epoch 3/10\n",
      " - 6s - loss: 1.0986 - acc: 0.3237 - val_loss: 1.0986 - val_acc: 0.3333\n",
      "Epoch 4/10\n",
      " - 6s - loss: 1.0986 - acc: 0.3301 - val_loss: 1.0986 - val_acc: 0.3333\n",
      "Epoch 5/10\n",
      " - 6s - loss: 1.0986 - acc: 0.3141 - val_loss: 1.0986 - val_acc: 0.3333\n",
      "Epoch 6/10\n",
      " - 6s - loss: 1.0986 - acc: 0.3205 - val_loss: 1.0986 - val_acc: 0.3333\n",
      "Epoch 7/10\n",
      " - 6s - loss: 1.0986 - acc: 0.2917 - val_loss: 1.0986 - val_acc: 0.3333\n",
      "Epoch 8/10\n",
      " - 6s - loss: 1.0986 - acc: 0.3333 - val_loss: 1.0986 - val_acc: 0.3333\n",
      "Epoch 9/10\n",
      " - 6s - loss: 1.0986 - acc: 0.3077 - val_loss: 1.0986 - val_acc: 0.3333\n",
      "Epoch 10/10\n",
      " - 7s - loss: 1.0986 - acc: 0.3333 - val_loss: 1.0986 - val_acc: 0.3333\n",
      "Running Fold 7 / 10\n",
      "Train on 315 samples, validate on 33 samples\n",
      "Epoch 1/10\n",
      " - 7s - loss: 1.0987 - acc: 0.2762 - val_loss: 1.0986 - val_acc: 0.3333\n",
      "Epoch 2/10\n",
      " - 6s - loss: 1.0986 - acc: 0.2952 - val_loss: 1.0986 - val_acc: 0.3333\n",
      "Epoch 3/10\n",
      " - 6s - loss: 1.0986 - acc: 0.3270 - val_loss: 1.0986 - val_acc: 0.3333\n",
      "Epoch 4/10\n",
      " - 6s - loss: 1.0986 - acc: 0.3143 - val_loss: 1.0986 - val_acc: 0.3333\n",
      "Epoch 5/10\n",
      " - 6s - loss: 1.0986 - acc: 0.2889 - val_loss: 1.0986 - val_acc: 0.3333\n",
      "Epoch 6/10\n",
      " - 6s - loss: 1.0986 - acc: 0.3016 - val_loss: 1.0986 - val_acc: 0.3333\n",
      "Epoch 7/10\n",
      " - 6s - loss: 1.0986 - acc: 0.3016 - val_loss: 1.0986 - val_acc: 0.3333\n",
      "Epoch 8/10\n",
      " - 6s - loss: 1.0986 - acc: 0.2952 - val_loss: 1.0986 - val_acc: 0.3333\n",
      "Epoch 9/10\n",
      " - 6s - loss: 1.0986 - acc: 0.3111 - val_loss: 1.0986 - val_acc: 0.3333\n",
      "Epoch 10/10\n",
      " - 6s - loss: 1.0986 - acc: 0.3111 - val_loss: 1.0986 - val_acc: 0.3333\n",
      "Running Fold 8 / 10\n",
      "Train on 315 samples, validate on 33 samples\n",
      "Epoch 1/10\n",
      " - 7s - loss: 1.0986 - acc: 0.3016 - val_loss: 1.0986 - val_acc: 0.3333\n",
      "Epoch 2/10\n",
      " - 7s - loss: 1.0986 - acc: 0.2921 - val_loss: 1.0986 - val_acc: 0.3333\n",
      "Epoch 3/10\n",
      " - 7s - loss: 1.0986 - acc: 0.3333 - val_loss: 1.0986 - val_acc: 0.3333\n",
      "Epoch 4/10\n",
      " - 7s - loss: 1.0986 - acc: 0.3333 - val_loss: 1.0986 - val_acc: 0.3333\n",
      "Epoch 5/10\n",
      " - 7s - loss: 1.0986 - acc: 0.2889 - val_loss: 1.0986 - val_acc: 0.3333\n",
      "Epoch 6/10\n",
      " - 6s - loss: 1.0986 - acc: 0.3270 - val_loss: 1.0986 - val_acc: 0.3333\n",
      "Epoch 7/10\n",
      " - 6s - loss: 1.0986 - acc: 0.3175 - val_loss: 1.0986 - val_acc: 0.3333\n",
      "Epoch 8/10\n",
      " - 6s - loss: 1.0986 - acc: 0.3333 - val_loss: 1.0986 - val_acc: 0.3333\n",
      "Epoch 9/10\n",
      " - 6s - loss: 1.0986 - acc: 0.3238 - val_loss: 1.0986 - val_acc: 0.3333\n",
      "Epoch 10/10\n",
      " - 6s - loss: 1.0986 - acc: 0.3111 - val_loss: 1.0986 - val_acc: 0.3333\n",
      "Running Fold 9 / 10\n",
      "Train on 315 samples, validate on 33 samples\n",
      "Epoch 1/10\n",
      " - 6s - loss: 1.0986 - acc: 0.2730 - val_loss: 1.0986 - val_acc: 0.3333\n",
      "Epoch 2/10\n",
      " - 6s - loss: 1.0986 - acc: 0.3048 - val_loss: 1.0986 - val_acc: 0.3333\n",
      "Epoch 3/10\n",
      " - 6s - loss: 1.0986 - acc: 0.3238 - val_loss: 1.0986 - val_acc: 0.3333\n",
      "Epoch 4/10\n",
      " - 6s - loss: 1.0986 - acc: 0.3333 - val_loss: 1.0986 - val_acc: 0.3333\n",
      "Epoch 5/10\n",
      " - 6s - loss: 1.0986 - acc: 0.3175 - val_loss: 1.0986 - val_acc: 0.3333\n",
      "Epoch 6/10\n",
      " - 6s - loss: 1.0986 - acc: 0.3238 - val_loss: 1.0986 - val_acc: 0.3333\n",
      "Epoch 7/10\n",
      " - 6s - loss: 1.0986 - acc: 0.3143 - val_loss: 1.0986 - val_acc: 0.3333\n",
      "Epoch 8/10\n"
     ]
    },
    {
     "name": "stdout",
     "output_type": "stream",
     "text": [
      " - 6s - loss: 1.0986 - acc: 0.2921 - val_loss: 1.0986 - val_acc: 0.3333\n",
      "Epoch 9/10\n",
      " - 6s - loss: 1.0986 - acc: 0.3333 - val_loss: 1.0986 - val_acc: 0.3333\n",
      "Epoch 10/10\n",
      " - 6s - loss: 1.0986 - acc: 0.3333 - val_loss: 1.0986 - val_acc: 0.3333\n",
      "Running Fold 10 / 10\n",
      "Train on 315 samples, validate on 33 samples\n",
      "Epoch 1/10\n",
      " - 6s - loss: 1.0986 - acc: 0.2952 - val_loss: 1.0986 - val_acc: 0.3333\n",
      "Epoch 2/10\n",
      " - 6s - loss: 1.0986 - acc: 0.2762 - val_loss: 1.0986 - val_acc: 0.3333\n",
      "Epoch 3/10\n",
      " - 6s - loss: 1.0986 - acc: 0.3143 - val_loss: 1.0986 - val_acc: 0.3333\n",
      "Epoch 4/10\n",
      " - 6s - loss: 1.0986 - acc: 0.2952 - val_loss: 1.0986 - val_acc: 0.3333\n",
      "Epoch 5/10\n",
      " - 6s - loss: 1.0986 - acc: 0.3270 - val_loss: 1.0986 - val_acc: 0.3333\n",
      "Epoch 6/10\n",
      " - 6s - loss: 1.0986 - acc: 0.3333 - val_loss: 1.0986 - val_acc: 0.3333\n",
      "Epoch 7/10\n",
      " - 6s - loss: 1.0986 - acc: 0.2825 - val_loss: 1.0986 - val_acc: 0.3333\n",
      "Epoch 8/10\n",
      " - 6s - loss: 1.0986 - acc: 0.2952 - val_loss: 1.0986 - val_acc: 0.3333\n",
      "Epoch 9/10\n",
      " - 6s - loss: 1.0986 - acc: 0.3302 - val_loss: 1.0986 - val_acc: 0.3333\n",
      "Epoch 10/10\n",
      " - 6s - loss: 1.0986 - acc: 0.2952 - val_loss: 1.0986 - val_acc: 0.3333\n"
     ]
    }
   ],
   "source": [
    "n_folds = 10\n",
    "\n",
    "labels = df['flow_rate'].values\n",
    "data = x\n",
    "\n",
    "labels[labels == 1800] = 0\n",
    "labels[labels == 3600] = 1\n",
    "labels[labels == 7200] = 2\n",
    "\n",
    "one_hot = np_utils.to_categorical(labels, nb_classes) \n",
    "\n",
    "skf = StratifiedKFold(n_splits=n_folds, shuffle=True)\n",
    "avg_acc = 0\n",
    "\n",
    "y_true = []\n",
    "y_pred = []\n",
    "\n",
    "i = 0\n",
    "\n",
    "for train, test in skf.split(x,y):\n",
    "    print(\"Running Fold\", i+1, \"/\", n_folds)\n",
    "    i+=1\n",
    "    \n",
    "    std = np.std(data[train],0)\n",
    "    mean = np.mean(data[train],0)\n",
    "            \n",
    "    x_train = (data[train] - mean)/std\n",
    "    x_train = np.reshape(x_train, (len(train), 647, 277, 1))\n",
    "    x_test = (data[test] - mean)/std \n",
    "    x_test = np.reshape(x_test, (len(test), 647, 277, 1))\n",
    "    \n",
    "    input_dim = x_train.shape[1:]\n",
    "    \n",
    "    model = None # Clearing the NN.\n",
    "    model = build_cnn_model(input_dim, nb_classes)\n",
    "        \n",
    "    avg_acc += train_and_evaluate_model(model, x_train, one_hot[train], x_test, one_hot[test])\n",
    "    \n",
    "    # Predict the values from the validation dataset\n",
    "    Y_pred = model.predict(x_test)\n",
    "    # Convert predictions classes to one hot vectors \n",
    "    Y_pred_classes = np.argmax(Y_pred,axis = 1) \n",
    "    # Convert validation observations to one hot vectors\n",
    "    Y_true = np.argmax(one_hot[test],axis = 1) \n",
    "    \n",
    "    y_true.extend(Y_true)\n",
    "    y_pred.extend(Y_pred_classes)"
   ]
  },
  {
   "cell_type": "code",
   "execution_count": 36,
   "metadata": {},
   "outputs": [
    {
     "name": "stdout",
     "output_type": "stream",
     "text": [
      "Average Accuracy:  0.33333333333333337\n"
     ]
    }
   ],
   "source": [
    "print(\"Average Accuracy: \", avg_acc/n_folds)"
   ]
  },
  {
   "cell_type": "code",
   "execution_count": 37,
   "metadata": {},
   "outputs": [
    {
     "data": {
      "image/png": "[encoded data removed]",
      "text/plain": [
       "<Figure size 432x288 with 2 Axes>"
      ]
     },
     "metadata": {},
     "output_type": "display_data"
    }
   ],
   "source": [
    "# compute the confusion matrix\n",
    "confusion_mtx = confusion_matrix(np.array(y_true), np.array(y_pred)) \n",
    "# plot the confusion matrix\n",
    "plot_confusion_matrix(confusion_mtx, classes = range(3)) "
   ]
  }
 ],
 "metadata": {
  "kernelspec": {
   "display_name": "Python 3",
   "language": "python",
   "name": "python3"
  },
  "language_info": {
   "codemirror_mode": {
    "name": "ipython",
    "version": 3
   },
   "file_extension": ".py",
   "mimetype": "text/x-python",
   "name": "python",
   "nbconvert_exporter": "python",
   "pygments_lexer": "ipython3",
   "version": "3.6.6"
  }
 },
 "nbformat": 4,
 "nbformat_minor": 2
}
