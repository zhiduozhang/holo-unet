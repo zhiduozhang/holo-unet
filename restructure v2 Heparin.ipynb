{
 "cells": [
  {
   "cell_type": "markdown",
   "metadata": {},
   "source": [
    "## Code to move heightmaps to single folder for easier testing. Also storing ids for future backtracking"
   ]
  },
  {
   "cell_type": "code",
   "execution_count": 1,
   "metadata": {},
   "outputs": [],
   "source": [
    "import fnmatch\n",
    "import scipy.io as sio\n",
    "import os\n",
    "import numpy as np\n",
    "import pandas as pd\n",
    "\n",
    "from shutil import copyfile\n",
    "from random import shuffle\n",
    "\n",
    "import matplotlib.pyplot as plt\n",
    "\n",
    "from PIL import Image\n",
    "\n",
    "from collections import Counter\n"
   ]
  },
  {
   "cell_type": "code",
   "execution_count": 2,
   "metadata": {},
   "outputs": [],
   "source": [
    "dest_path = \"data\\\\heparin\\\\agg\"\n",
    "id_file_name = 'ids.csv'\n",
    "id_file_name2 = 'ids2.csv'\n",
    "\n",
    "source_folders = []\n",
    "\n",
    "source_folders.append((\"data\\\\heparin\\\\2018.5.15\\\\prp1\\\\data\", \"2018.5.15\", 1800))\n",
    "source_folders.append((\"data\\\\heparin\\\\2018.5.15\\\\prp2\\\\data\", \"2018.5.15\", 3600))\n",
    "source_folders.append((\"data\\\\heparin\\\\2018.5.15\\\\prp3\\\\data\", \"2018.5.15\", 7200))\n",
    "source_folders.append((\"data\\\\heparin\\\\2018.6.1\\\\prp1\\\\data\", \"2018.6.1\", 1800))\n",
    "source_folders.append((\"data\\\\heparin\\\\2018.6.1\\\\prp2\\\\data\", \"2018.6.1\", 3600))\n",
    "source_folders.append((\"data\\\\heparin\\\\2018.6.1\\\\prp3\\\\data\", \"2018.6.1\", 7200))\n",
    "source_folders.append((\"data\\\\heparin\\\\2018.6.5\\\\prp1\\\\data\", \"2018.6.5\", 1800))\n",
    "source_folders.append((\"data\\\\heparin\\\\2018.6.5\\\\prp2\\\\data\", \"2018.6.5\", 3600))\n",
    "source_folders.append((\"data\\\\heparin\\\\2018.6.5\\\\prp3\\\\data\", \"2018.6.5\", 7200))\n",
    "source_folders.append((\"data\\\\heparin\\\\2018.6.6\\\\prp1\\\\data\", \"2018.6.6\", 1800))\n",
    "source_folders.append((\"data\\\\heparin\\\\2018.6.6\\\\prp2\\\\data\", \"2018.6.6\", 3600))\n",
    "source_folders.append((\"data\\\\heparin\\\\2018.6.6\\\\prp3\\\\data\", \"2018.6.6\", 7200))"
   ]
  },
  {
   "cell_type": "code",
   "execution_count": 3,
   "metadata": {},
   "outputs": [],
   "source": [
    "write_files = True"
   ]
  },
  {
   "cell_type": "markdown",
   "metadata": {},
   "source": [
    "Load previous database of ids if available"
   ]
  },
  {
   "cell_type": "code",
   "execution_count": 4,
   "metadata": {},
   "outputs": [],
   "source": [
    "df = None\n",
    "\n",
    "for file in os.listdir(dest_path):\n",
    "    if fnmatch.fnmatch(file, id_file_name):\n",
    "        df = pd.read_csv(f'{dest_path}\\\\{file}')\n",
    "\n",
    "if df is None:\n",
    "    df = pd.DataFrame(columns=['name', 'date', 'flow_rate', 'source'])"
   ]
  },
  {
   "cell_type": "code",
   "execution_count": 5,
   "metadata": {},
   "outputs": [
    {
     "name": "stdout",
     "output_type": "stream",
     "text": [
      "(0, 4)\n"
     ]
    }
   ],
   "source": [
    "print(df.shape)"
   ]
  },
  {
   "cell_type": "code",
   "execution_count": 6,
   "metadata": {},
   "outputs": [],
   "source": [
    "files = []\n",
    "\n",
    "count = df.shape[0]\n",
    "\n",
    "for source_path, date, flow in source_folders:\n",
    "    for file in os.listdir(source_path):\n",
    "        if fnmatch.fnmatch(file, '*.mat'):            \n",
    "            hm = sio.loadmat(f'{source_path}\\\\{file}')['height_r']\n",
    "        \n",
    "            if np.max(hm) == 0:\n",
    "                continue\n",
    "                \n",
    "            files.append([str(count), date, flow, file])\n",
    "            \n",
    "            if write_files:\n",
    "                copyfile(f'{source_path}\\\\{file}', f'{dest_path}\\\\{count}.mat')\n",
    "            count += 1\n",
    "        \n",
    "df2 = pd.DataFrame(files, columns=['name', 'date', 'flow_rate', 'source'])\n",
    "df = df.append(df2, ignore_index=True)"
   ]
  },
  {
   "cell_type": "code",
   "execution_count": 7,
   "metadata": {},
   "outputs": [],
   "source": [
    "df.to_csv(os.path.join(dest_path, id_file_name))"
   ]
  },
  {
   "cell_type": "markdown",
   "metadata": {},
   "source": [
    "## Find max image size"
   ]
  },
  {
   "cell_type": "code",
   "execution_count": 8,
   "metadata": {},
   "outputs": [
    {
     "name": "stdout",
     "output_type": "stream",
     "text": [
      "685\n",
      "377\n",
      "138\n"
     ]
    }
   ],
   "source": [
    "files = []\n",
    "\n",
    "max_x = 0\n",
    "max_y = 0\n",
    "\n",
    "filenames = []\n",
    "images = []\n",
    "\n",
    "for file in os.listdir(dest_path):\n",
    "    if fnmatch.fnmatch(file, '*.mat'):\n",
    "        files.append(file)\n",
    "        \n",
    "        hm = sio.loadmat(f'{dest_path}\\\\{file}')['height_r']\n",
    "        \n",
    "        if np.max(hm) == 0:\n",
    "            continue\n",
    "        \n",
    "        images.append((hm, file))\n",
    "        filenames.append(file)\n",
    "        \n",
    "        max_x=max(hm.shape[0],max_x)\n",
    "        max_y=max(hm.shape[1],max_y)\n",
    "                \n",
    "print(max_x)\n",
    "print(max_y)\n",
    "print(len(images))"
   ]
  },
  {
   "cell_type": "markdown",
   "metadata": {},
   "source": [
    "## Pad all images to max size"
   ]
  },
  {
   "cell_type": "code",
   "execution_count": 9,
   "metadata": {},
   "outputs": [],
   "source": [
    "padded_images = []\n",
    "\n",
    "for m, filename in images:\n",
    "    filename = filename[:-4]\n",
    "    padded_images.append((np.pad(np.copy(m), ((0,max_x-m.shape[0]),(0,max_y-m.shape[1])), 'constant', constant_values=(0)), filename))"
   ]
  },
  {
   "cell_type": "markdown",
   "metadata": {},
   "source": [
    "## Save Padded images as numpy array"
   ]
  },
  {
   "cell_type": "code",
   "execution_count": 10,
   "metadata": {},
   "outputs": [],
   "source": [
    "for image, filename in padded_images:\n",
    "    if write_files:\n",
    "        np.save(f'{dest_path}\\\\{filename}', np.array(image))\n"
   ]
  },
  {
   "cell_type": "markdown",
   "metadata": {},
   "source": [
    "## Data Augmentation"
   ]
  },
  {
   "cell_type": "markdown",
   "metadata": {},
   "source": [
    "### Flip images along x-axis "
   ]
  },
  {
   "cell_type": "code",
   "execution_count": 11,
   "metadata": {},
   "outputs": [],
   "source": [
    "all_imgs = padded_images.copy()\n",
    "files = []\n",
    "\n",
    "for image, filename in padded_images:\n",
    "    new_name = filename+\"_flipped\"\n",
    "    flipped_img = np.fliplr(image)\n",
    "    \n",
    "    old_image = df.loc[df['name'] == filename].copy()\n",
    "    date = old_image['date'].values[0]\n",
    "    flow = old_image['flow_rate'].values[0]\n",
    "    source = old_image['source'].values[0]\n",
    "        \n",
    "    if write_files:\n",
    "        np.save(f'{dest_path}\\\\{new_name}', flipped_img)\n",
    "        \n",
    "    all_imgs.append((flipped_img, new_name))\n",
    "    \n",
    "    files.append([new_name, date, flow, source])\n",
    "\n",
    "df2 = pd.DataFrame(files, columns=['name', 'date', 'flow_rate', 'source'])\n",
    "df = df.append(df2, ignore_index=True)\n",
    "    \n",
    "df.to_csv(os.path.join(dest_path, id_file_name))"
   ]
  },
  {
   "cell_type": "code",
   "execution_count": 12,
   "metadata": {},
   "outputs": [
    {
     "name": "stdout",
     "output_type": "stream",
     "text": [
      "276\n"
     ]
    }
   ],
   "source": [
    "print(len(all_imgs))"
   ]
  },
  {
   "cell_type": "markdown",
   "metadata": {},
   "source": [
    "## Data Analysis"
   ]
  },
  {
   "cell_type": "code",
   "execution_count": 13,
   "metadata": {
    "scrolled": true
   },
   "outputs": [
    {
     "data": {
      "text/plain": [
       "3600    122\n",
       "1800     78\n",
       "7200     76\n",
       "Name: flow_rate, dtype: int64"
      ]
     },
     "execution_count": 13,
     "metadata": {},
     "output_type": "execute_result"
    }
   ],
   "source": [
    "df['flow_rate'].value_counts()"
   ]
  },
  {
   "cell_type": "code",
   "execution_count": 14,
   "metadata": {},
   "outputs": [],
   "source": [
    "def plot_images_for_filenames(filenames, labels, rows=4):\n",
    "    imgs = [np.load(f'{train_path}{filename}.npy') for filename in filenames]\n",
    "    \n",
    "    return plot_images(imgs, labels, rows)\n",
    "    \n",
    "        \n",
    "def plot_images(imgs, labels, rows=4):\n",
    "    # Set figure to 13 inches x 8 inches\n",
    "    figure = plt.figure(figsize=(20, 20))\n",
    "\n",
    "    cols = len(imgs) // rows + 1\n",
    "\n",
    "    for i in range(min(len(imgs), 1000)):\n",
    "        subplot = figure.add_subplot(rows, cols, i + 1)\n",
    "        subplot.axis('Off')\n",
    "        if labels:\n",
    "            subplot.set_title(labels[i], fontsize=16)\n",
    "        plt.imshow(imgs[i], cmap='gray')"
   ]
  },
  {
   "cell_type": "code",
   "execution_count": 15,
   "metadata": {
    "scrolled": true
   },
   "outputs": [
    {
     "ename": "NameError",
     "evalue": "name 'train_path' is not defined",
     "output_type": "error",
     "traceback": [
      "\u001b[1;31m---------------------------------------------------------------------------\u001b[0m",
      "\u001b[1;31mNameError\u001b[0m                                 Traceback (most recent call last)",
      "\u001b[1;32m<ipython-input-15-4eda37e9ce2f>\u001b[0m in \u001b[0;36m<module>\u001b[1;34m()\u001b[0m\n\u001b[0;32m      1\u001b[0m \u001b[0mslow\u001b[0m \u001b[1;33m=\u001b[0m \u001b[0mdf\u001b[0m\u001b[1;33m[\u001b[0m\u001b[0mdf\u001b[0m\u001b[1;33m[\u001b[0m\u001b[1;34m'flow_rate'\u001b[0m\u001b[1;33m]\u001b[0m \u001b[1;33m==\u001b[0m \u001b[1;36m1800\u001b[0m\u001b[1;33m]\u001b[0m\u001b[1;33m\u001b[0m\u001b[0m\n\u001b[1;32m----> 2\u001b[1;33m \u001b[0mplot_images_for_filenames\u001b[0m\u001b[1;33m(\u001b[0m\u001b[0mlist\u001b[0m\u001b[1;33m(\u001b[0m\u001b[0mslow\u001b[0m\u001b[1;33m[\u001b[0m\u001b[1;34m'name'\u001b[0m\u001b[1;33m]\u001b[0m\u001b[1;33m)\u001b[0m\u001b[1;33m,\u001b[0m \u001b[1;32mNone\u001b[0m\u001b[1;33m,\u001b[0m \u001b[0mrows\u001b[0m\u001b[1;33m=\u001b[0m\u001b[1;36m9\u001b[0m\u001b[1;33m)\u001b[0m\u001b[1;33m\u001b[0m\u001b[0m\n\u001b[0m",
      "\u001b[1;32m<ipython-input-14-359e3daa2e32>\u001b[0m in \u001b[0;36mplot_images_for_filenames\u001b[1;34m(filenames, labels, rows)\u001b[0m\n\u001b[0;32m      1\u001b[0m \u001b[1;32mdef\u001b[0m \u001b[0mplot_images_for_filenames\u001b[0m\u001b[1;33m(\u001b[0m\u001b[0mfilenames\u001b[0m\u001b[1;33m,\u001b[0m \u001b[0mlabels\u001b[0m\u001b[1;33m,\u001b[0m \u001b[0mrows\u001b[0m\u001b[1;33m=\u001b[0m\u001b[1;36m4\u001b[0m\u001b[1;33m)\u001b[0m\u001b[1;33m:\u001b[0m\u001b[1;33m\u001b[0m\u001b[0m\n\u001b[1;32m----> 2\u001b[1;33m     \u001b[0mimgs\u001b[0m \u001b[1;33m=\u001b[0m \u001b[1;33m[\u001b[0m\u001b[0mnp\u001b[0m\u001b[1;33m.\u001b[0m\u001b[0mload\u001b[0m\u001b[1;33m(\u001b[0m\u001b[1;34mf'{train_path}{filename}.npy'\u001b[0m\u001b[1;33m)\u001b[0m \u001b[1;32mfor\u001b[0m \u001b[0mfilename\u001b[0m \u001b[1;32min\u001b[0m \u001b[0mfilenames\u001b[0m\u001b[1;33m]\u001b[0m\u001b[1;33m\u001b[0m\u001b[0m\n\u001b[0m\u001b[0;32m      3\u001b[0m \u001b[1;33m\u001b[0m\u001b[0m\n\u001b[0;32m      4\u001b[0m     \u001b[1;32mreturn\u001b[0m \u001b[0mplot_images\u001b[0m\u001b[1;33m(\u001b[0m\u001b[0mimgs\u001b[0m\u001b[1;33m,\u001b[0m \u001b[0mlabels\u001b[0m\u001b[1;33m,\u001b[0m \u001b[0mrows\u001b[0m\u001b[1;33m)\u001b[0m\u001b[1;33m\u001b[0m\u001b[0m\n\u001b[0;32m      5\u001b[0m \u001b[1;33m\u001b[0m\u001b[0m\n",
      "\u001b[1;32m<ipython-input-14-359e3daa2e32>\u001b[0m in \u001b[0;36m<listcomp>\u001b[1;34m(.0)\u001b[0m\n\u001b[0;32m      1\u001b[0m \u001b[1;32mdef\u001b[0m \u001b[0mplot_images_for_filenames\u001b[0m\u001b[1;33m(\u001b[0m\u001b[0mfilenames\u001b[0m\u001b[1;33m,\u001b[0m \u001b[0mlabels\u001b[0m\u001b[1;33m,\u001b[0m \u001b[0mrows\u001b[0m\u001b[1;33m=\u001b[0m\u001b[1;36m4\u001b[0m\u001b[1;33m)\u001b[0m\u001b[1;33m:\u001b[0m\u001b[1;33m\u001b[0m\u001b[0m\n\u001b[1;32m----> 2\u001b[1;33m     \u001b[0mimgs\u001b[0m \u001b[1;33m=\u001b[0m \u001b[1;33m[\u001b[0m\u001b[0mnp\u001b[0m\u001b[1;33m.\u001b[0m\u001b[0mload\u001b[0m\u001b[1;33m(\u001b[0m\u001b[1;34mf'{train_path}{filename}.npy'\u001b[0m\u001b[1;33m)\u001b[0m \u001b[1;32mfor\u001b[0m \u001b[0mfilename\u001b[0m \u001b[1;32min\u001b[0m \u001b[0mfilenames\u001b[0m\u001b[1;33m]\u001b[0m\u001b[1;33m\u001b[0m\u001b[0m\n\u001b[0m\u001b[0;32m      3\u001b[0m \u001b[1;33m\u001b[0m\u001b[0m\n\u001b[0;32m      4\u001b[0m     \u001b[1;32mreturn\u001b[0m \u001b[0mplot_images\u001b[0m\u001b[1;33m(\u001b[0m\u001b[0mimgs\u001b[0m\u001b[1;33m,\u001b[0m \u001b[0mlabels\u001b[0m\u001b[1;33m,\u001b[0m \u001b[0mrows\u001b[0m\u001b[1;33m)\u001b[0m\u001b[1;33m\u001b[0m\u001b[0m\n\u001b[0;32m      5\u001b[0m \u001b[1;33m\u001b[0m\u001b[0m\n",
      "\u001b[1;31mNameError\u001b[0m: name 'train_path' is not defined"
     ]
    }
   ],
   "source": [
    "slow = df[df['flow_rate'] == 1800]\n",
    "plot_images_for_filenames(list(slow['name']), None, rows=9)"
   ]
  },
  {
   "cell_type": "code",
   "execution_count": null,
   "metadata": {
    "scrolled": true
   },
   "outputs": [],
   "source": [
    "medium = df[df['flow_rate'] == 3600]\n",
    "plot_images_for_filenames(list(medium['name']), None, rows=9)"
   ]
  },
  {
   "cell_type": "code",
   "execution_count": null,
   "metadata": {
    "scrolled": true
   },
   "outputs": [],
   "source": [
    "fast = df[df['flow_rate'] == 7200]\n",
    "plot_images_for_filenames(list(fast['name']), None, rows=9)"
   ]
  },
  {
   "cell_type": "code",
   "execution_count": null,
   "metadata": {},
   "outputs": [],
   "source": [
    "df = []\n",
    "\n",
    "for file in os.listdir(dest_path):\n",
    "    if fnmatch.fnmatch(file, '*.mat'):\n",
    "        hm = sio.loadmat(f'{dest_path}\\\\{file}')['height_r']\n",
    "        df.append(hm)\n",
    "        \n",
    "img_sizes = Counter([i.shape for i in df])\n",
    "\n",
    "size, freq = zip(*Counter({i: v for i, v in img_sizes.items()}).most_common(20))\n",
    "\n",
    "plt.figure(figsize=(10, 6))\n",
    "\n",
    "plt.bar(range(len(freq)), list(freq), align='center')\n",
    "plt.xticks(range(len(size)), list(size), rotation=70)\n",
    "plt.title(\"Image size frequencies (where freq > 1)\")\n",
    "\n",
    "plt.show()"
   ]
  },
  {
   "cell_type": "code",
   "execution_count": null,
   "metadata": {},
   "outputs": [],
   "source": []
  }
 ],
 "metadata": {
  "kernelspec": {
   "display_name": "Python 3",
   "language": "python",
   "name": "python3"
  },
  "language_info": {
   "codemirror_mode": {
    "name": "ipython",
    "version": 3
   },
   "file_extension": ".py",
   "mimetype": "text/x-python",
   "name": "python",
   "nbconvert_exporter": "python",
   "pygments_lexer": "ipython3",
   "version": "3.6.4"
  }
 },
 "nbformat": 4,
 "nbformat_minor": 2
}
