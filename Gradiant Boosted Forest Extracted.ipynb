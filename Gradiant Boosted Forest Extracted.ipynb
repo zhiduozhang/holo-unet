{
 "cells": [
  {
   "cell_type": "code",
   "execution_count": 1,
   "metadata": {},
   "outputs": [
    {
     "name": "stderr",
     "output_type": "stream",
     "text": [
      "C:\\Users\\Duo\\Anaconda3\\envs\\fastai\\lib\\site-packages\\h5py\\__init__.py:36: FutureWarning: Conversion of the second argument of issubdtype from `float` to `np.floating` is deprecated. In future, it will be treated as `np.float64 == np.dtype(float).type`.\n",
      "  from ._conv import register_converters as _register_converters\n",
      "Using TensorFlow backend.\n"
     ]
    }
   ],
   "source": [
    "from sklearn.model_selection import train_test_split\n",
    "from sklearn.model_selection import StratifiedKFold\n",
    "\n",
    "import sklearn.preprocessing as preprocessing\n",
    "\n",
    "import pandas as pd\n",
    "import numpy as np\n",
    "from scipy import stats\n",
    "import matplotlib.pylab as plt\n",
    "from keras.utils import np_utils \n",
    "import tensorflow as tf\n",
    "from sklearn.ensemble import RandomForestClassifier\n",
    "from sklearn.ensemble import GradientBoostingClassifier\n",
    "\n",
    "from sklearn.metrics import confusion_matrix\n",
    "import itertools\n"
   ]
  },
  {
   "cell_type": "code",
   "execution_count": 2,
   "metadata": {},
   "outputs": [],
   "source": [
    "dest_path = \"I:\\\\Honours-Project\\\\data\\\\sorted\\\\agg\\\\\"\n",
    "source_path = \"I:\\\\Honours-Project\\\\data\\\\sorted\\\\agg\\\\cropped\\\\\"\n",
    "csv = \"I:\\\\Honours-Project\\\\data\\\\sorted\\\\agg\\\\ids.csv\""
   ]
  },
  {
   "cell_type": "code",
   "execution_count": 3,
   "metadata": {},
   "outputs": [],
   "source": [
    "df = pd.read_csv(csv,index_col=0).sample(frac=1)"
   ]
  },
  {
   "cell_type": "code",
   "execution_count": 4,
   "metadata": {},
   "outputs": [],
   "source": [
    "df = df[df['name'].str.contains(\"_flipped\")]"
   ]
  },
  {
   "cell_type": "code",
   "execution_count": 5,
   "metadata": {
    "scrolled": true
   },
   "outputs": [
    {
     "name": "stdout",
     "output_type": "stream",
     "text": [
      "flow_rate\n",
      "1800    58\n",
      "3600    58\n",
      "7200    58\n",
      "dtype: int64\n"
     ]
    }
   ],
   "source": [
    "ds_count = min(df.groupby('flow_rate').size())\n",
    "ds_flow = df.groupby('flow_rate').size().idxmin()\n",
    "\n",
    "samples = pd.concat([df[df['flow_rate']==i].sample(n=ds_count) for i in (1800,3600,7200)],ignore_index=True)\n",
    "\n",
    "df = samples.sample(frac=1)\n",
    "\n",
    "print(df.groupby('flow_rate').size())"
   ]
  },
  {
   "cell_type": "code",
   "execution_count": 17,
   "metadata": {
    "scrolled": true
   },
   "outputs": [
    {
     "data": {
      "text/html": [
       "<div>\n",
       "<style scoped>\n",
       "    .dataframe tbody tr th:only-of-type {\n",
       "        vertical-align: middle;\n",
       "    }\n",
       "\n",
       "    .dataframe tbody tr th {\n",
       "        vertical-align: top;\n",
       "    }\n",
       "\n",
       "    .dataframe thead th {\n",
       "        text-align: right;\n",
       "    }\n",
       "</style>\n",
       "<table border=\"1\" class=\"dataframe\">\n",
       "  <thead>\n",
       "    <tr style=\"text-align: right;\">\n",
       "      <th></th>\n",
       "      <th>name</th>\n",
       "      <th>date</th>\n",
       "      <th>flow_rate</th>\n",
       "      <th>source</th>\n",
       "      <th>peak_val</th>\n",
       "      <th>area</th>\n",
       "      <th>volume</th>\n",
       "      <th>eccentricity</th>\n",
       "      <th>euler_number</th>\n",
       "      <th>extent</th>\n",
       "      <th>mean_intensity</th>\n",
       "      <th>moments</th>\n",
       "      <th>orientation</th>\n",
       "      <th>perimeter</th>\n",
       "      <th>inertia_tensor</th>\n",
       "      <th>cluster</th>\n",
       "      <th>num_peaks</th>\n",
       "      <th>log_volume</th>\n",
       "    </tr>\n",
       "  </thead>\n",
       "  <tbody>\n",
       "    <tr>\n",
       "      <th>116</th>\n",
       "      <td>122_flipped</td>\n",
       "      <td>2017.11.22</td>\n",
       "      <td>2</td>\n",
       "      <td>37.40 s.tifheightmap.mat</td>\n",
       "      <td>4.319409</td>\n",
       "      <td>2349</td>\n",
       "      <td>5376.535741</td>\n",
       "      <td>0.912341</td>\n",
       "      <td>1</td>\n",
       "      <td>0.406753</td>\n",
       "      <td>2.288862</td>\n",
       "      <td>[[2.34900000e+03 8.65810000e+04 3.99522700e+06...</td>\n",
       "      <td>-0.840337</td>\n",
       "      <td>244.350288</td>\n",
       "      <td>[[ 292.62940001 -224.93021006]\\r\\n [-224.93021...</td>\n",
       "      <td>2</td>\n",
       "      <td>1</td>\n",
       "      <td>8.589800</td>\n",
       "    </tr>\n",
       "    <tr>\n",
       "      <th>143</th>\n",
       "      <td>197_flipped</td>\n",
       "      <td>2017.11.23</td>\n",
       "      <td>2</td>\n",
       "      <td>36.00 s.tifheightmap.mat</td>\n",
       "      <td>19.083013</td>\n",
       "      <td>3122</td>\n",
       "      <td>29222.399419</td>\n",
       "      <td>0.957761</td>\n",
       "      <td>1</td>\n",
       "      <td>0.315992</td>\n",
       "      <td>9.360154</td>\n",
       "      <td>[[3.12200000e+03 1.79358000e+05 1.46038540e+07...</td>\n",
       "      <td>1.295739</td>\n",
       "      <td>306.835570</td>\n",
       "      <td>[[ 222.11597891  354.20156308]\\r\\n [ 354.20156...</td>\n",
       "      <td>0</td>\n",
       "      <td>2</td>\n",
       "      <td>10.282691</td>\n",
       "    </tr>\n",
       "    <tr>\n",
       "      <th>64</th>\n",
       "      <td>13_flipped</td>\n",
       "      <td>2017.11.09</td>\n",
       "      <td>1</td>\n",
       "      <td>chip3_04heightmap.mat</td>\n",
       "      <td>8.268838</td>\n",
       "      <td>1136</td>\n",
       "      <td>4832.504854</td>\n",
       "      <td>0.896216</td>\n",
       "      <td>1</td>\n",
       "      <td>0.780220</td>\n",
       "      <td>4.253966</td>\n",
       "      <td>[[1.13600000e+03 3.06810000e+04 1.06870300e+06...</td>\n",
       "      <td>-1.450708</td>\n",
       "      <td>149.597980</td>\n",
       "      <td>[[ 44.53901756 -20.42403231]\\r\\n [-20.42403231...</td>\n",
       "      <td>0</td>\n",
       "      <td>1</td>\n",
       "      <td>8.483120</td>\n",
       "    </tr>\n",
       "    <tr>\n",
       "      <th>55</th>\n",
       "      <td>0_flipped</td>\n",
       "      <td>2017.11.09</td>\n",
       "      <td>0</td>\n",
       "      <td>chip2_02heightmap.mat</td>\n",
       "      <td>58.496427</td>\n",
       "      <td>4489</td>\n",
       "      <td>152983.389556</td>\n",
       "      <td>0.866207</td>\n",
       "      <td>0</td>\n",
       "      <td>0.673316</td>\n",
       "      <td>34.079615</td>\n",
       "      <td>[[4.48900000e+03 2.35521000e+05 1.56682350e+07...</td>\n",
       "      <td>-1.309976</td>\n",
       "      <td>365.220346</td>\n",
       "      <td>[[ 232.59219643 -145.14005797]\\r\\n [-145.14005...</td>\n",
       "      <td>0</td>\n",
       "      <td>1</td>\n",
       "      <td>11.938085</td>\n",
       "    </tr>\n",
       "    <tr>\n",
       "      <th>144</th>\n",
       "      <td>52_flipped</td>\n",
       "      <td>2017.11.17</td>\n",
       "      <td>2</td>\n",
       "      <td>1.90 s.tifheightmap.mat</td>\n",
       "      <td>7.665951</td>\n",
       "      <td>1655</td>\n",
       "      <td>6732.873700</td>\n",
       "      <td>0.948445</td>\n",
       "      <td>1</td>\n",
       "      <td>0.757055</td>\n",
       "      <td>3.921301</td>\n",
       "      <td>[[1.71700000e+03 7.67380000e+04 4.19110800e+06...</td>\n",
       "      <td>-1.495170</td>\n",
       "      <td>197.396970</td>\n",
       "      <td>[[ 47.06751865 -30.20988715]\\r\\n [-30.20988715...</td>\n",
       "      <td>2</td>\n",
       "      <td>1</td>\n",
       "      <td>8.814757</td>\n",
       "    </tr>\n",
       "  </tbody>\n",
       "</table>\n",
       "</div>"
      ],
      "text/plain": [
       "            name        date  flow_rate                    source   peak_val  \\\n",
       "116  122_flipped  2017.11.22          2  37.40 s.tifheightmap.mat   4.319409   \n",
       "143  197_flipped  2017.11.23          2  36.00 s.tifheightmap.mat  19.083013   \n",
       "64    13_flipped  2017.11.09          1     chip3_04heightmap.mat   8.268838   \n",
       "55     0_flipped  2017.11.09          0     chip2_02heightmap.mat  58.496427   \n",
       "144   52_flipped  2017.11.17          2   1.90 s.tifheightmap.mat   7.665951   \n",
       "\n",
       "     area         volume  eccentricity  euler_number    extent  \\\n",
       "116  2349    5376.535741      0.912341             1  0.406753   \n",
       "143  3122   29222.399419      0.957761             1  0.315992   \n",
       "64   1136    4832.504854      0.896216             1  0.780220   \n",
       "55   4489  152983.389556      0.866207             0  0.673316   \n",
       "144  1655    6732.873700      0.948445             1  0.757055   \n",
       "\n",
       "     mean_intensity                                            moments  \\\n",
       "116        2.288862  [[2.34900000e+03 8.65810000e+04 3.99522700e+06...   \n",
       "143        9.360154  [[3.12200000e+03 1.79358000e+05 1.46038540e+07...   \n",
       "64         4.253966  [[1.13600000e+03 3.06810000e+04 1.06870300e+06...   \n",
       "55        34.079615  [[4.48900000e+03 2.35521000e+05 1.56682350e+07...   \n",
       "144        3.921301  [[1.71700000e+03 7.67380000e+04 4.19110800e+06...   \n",
       "\n",
       "     orientation   perimeter  \\\n",
       "116    -0.840337  244.350288   \n",
       "143     1.295739  306.835570   \n",
       "64     -1.450708  149.597980   \n",
       "55     -1.309976  365.220346   \n",
       "144    -1.495170  197.396970   \n",
       "\n",
       "                                        inertia_tensor  cluster  num_peaks  \\\n",
       "116  [[ 292.62940001 -224.93021006]\\r\\n [-224.93021...        2          1   \n",
       "143  [[ 222.11597891  354.20156308]\\r\\n [ 354.20156...        0          2   \n",
       "64   [[ 44.53901756 -20.42403231]\\r\\n [-20.42403231...        0          1   \n",
       "55   [[ 232.59219643 -145.14005797]\\r\\n [-145.14005...        0          1   \n",
       "144  [[ 47.06751865 -30.20988715]\\r\\n [-30.20988715...        2          1   \n",
       "\n",
       "     log_volume  \n",
       "116    8.589800  \n",
       "143   10.282691  \n",
       "64     8.483120  \n",
       "55    11.938085  \n",
       "144    8.814757  "
      ]
     },
     "execution_count": 17,
     "metadata": {},
     "output_type": "execute_result"
    }
   ],
   "source": [
    "df.head()"
   ]
  },
  {
   "cell_type": "code",
   "execution_count": 7,
   "metadata": {},
   "outputs": [],
   "source": [
    "nb_classes = 3"
   ]
  },
  {
   "cell_type": "code",
   "execution_count": 8,
   "metadata": {},
   "outputs": [],
   "source": [
    "x = []\n",
    "y = []\n",
    "\n",
    "df['log_volume'] = df['volume'].apply(np.log)\n",
    "\n",
    "mat = df.drop(columns=['name','date','flow_rate','source','moments','inertia_tensor'])\n",
    "\n",
    "# Drop catagorical features\n",
    "mat = mat.drop(columns=['cluster'])\n",
    "\n",
    "X = mat.as_matrix()\n",
    "# x = standardize = preprocessing.scale(x)\n",
    "\n",
    "y = df[\"flow_rate\"].values\n",
    "\n",
    "y[y == 1800] = 0\n",
    "y[y == 3600] = 1\n",
    "y[y == 7200] = 2\n",
    "\n",
    "one_hot = np_utils.to_categorical(df[\"flow_rate\"].values, nb_classes)"
   ]
  },
  {
   "cell_type": "code",
   "execution_count": 53,
   "metadata": {
    "scrolled": true
   },
   "outputs": [],
   "source": [
    "X_train, X_test, y_train, y_test = train_test_split(X, one_hot, test_size=36, stratify=y)"
   ]
  },
  {
   "cell_type": "markdown",
   "metadata": {},
   "source": [
    "We add the flip of each image to the split dataset. Therefore, there is no information transfer between test and training sets. To Do."
   ]
  },
  {
   "cell_type": "code",
   "execution_count": 54,
   "metadata": {},
   "outputs": [
    {
     "name": "stdout",
     "output_type": "stream",
     "text": [
      "(138, 11)\n"
     ]
    }
   ],
   "source": [
    "num_samples = X_train.shape[0]\n",
    "num_features = X_train.shape[1]\n",
    "\n",
    "num_classes = y_train.shape[1]\n",
    "#Orientation column\n",
    "oc = 5\n",
    "\n",
    "print(X_train.shape)\n",
    "\n",
    "for i in range(X_train.shape[0]):\n",
    "    sample = X_train[i]\n",
    "    flipped_sample = sample.copy()\n",
    "    flipped_sample[oc] = 0 - sample[oc]\n",
    "    flipped_sample = flipped_sample.reshape((1,num_features))\n",
    "    X_train = np.concatenate((X_train, flipped_sample))\n",
    "    y_train = np.concatenate((y_train, y_train[i].copy().reshape(1, num_classes)))\n",
    "    \n",
    "for i in range(X_test.shape[0]):\n",
    "    sample = X_test[i]\n",
    "    flipped_sample = sample.copy()\n",
    "    flipped_sample[oc] = 0 - sample[oc]\n",
    "    flipped_sample = flipped_sample.reshape((1,num_features))\n",
    "    X_test = np.concatenate((X_test, flipped_sample))\n",
    "    y_test = np.concatenate((y_test, y_test[i].copy().reshape(1, num_classes)))"
   ]
  },
  {
   "cell_type": "markdown",
   "metadata": {},
   "source": [
    "## sklearn Gradiant Boosted Forest"
   ]
  },
  {
   "cell_type": "code",
   "execution_count": 55,
   "metadata": {
    "scrolled": true
   },
   "outputs": [],
   "source": [
    "rfc = RandomForestClassifier(bootstrap=True, criterion=\"entropy\", max_features=0.1, \n",
    "                       min_samples_leaf=4, min_samples_split=9, n_estimators=100)"
   ]
  },
  {
   "cell_type": "code",
   "execution_count": 56,
   "metadata": {},
   "outputs": [
    {
     "name": "stdout",
     "output_type": "stream",
     "text": [
      "Running Fold 1 / 10\n",
      "Accuracy:  0.3333333333333333\n",
      "Running Fold 2 / 10\n",
      "Accuracy:  0.3333333333333333\n",
      "Running Fold 3 / 10\n",
      "Accuracy:  0.2222222222222222\n",
      "Running Fold 4 / 10\n",
      "Accuracy:  0.4444444444444444\n",
      "Running Fold 5 / 10\n",
      "Accuracy:  0.4444444444444444\n",
      "Running Fold 6 / 10\n",
      "Accuracy:  0.2777777777777778\n",
      "Running Fold 7 / 10\n",
      "Accuracy:  0.2777777777777778\n",
      "Running Fold 8 / 10\n",
      "Accuracy:  0.4444444444444444\n",
      "Running Fold 9 / 10\n",
      "Accuracy:  0.26666666666666666\n",
      "Running Fold 10 / 10\n",
      "Accuracy:  0.4666666666666667\n"
     ]
    }
   ],
   "source": [
    "n_folds = 10\n",
    "\n",
    "skf = StratifiedKFold(n_splits=n_folds, shuffle=True)\n",
    "avg_acc = 0\n",
    "\n",
    "y_true = []\n",
    "y_pred = []\n",
    "\n",
    "i = 0\n",
    "\n",
    "for train, test in skf.split(X,y):\n",
    "    print(\"Running Fold\", i+1, \"/\", n_folds)\n",
    "    i+=1\n",
    "    \n",
    "    std = np.std(X[train],0)\n",
    "    mean = np.mean(X[train],0)\n",
    "            \n",
    "    X_train = (X[train] - mean)/std\n",
    "    X_test = (X[test] - mean)/std \n",
    "        \n",
    "    y_train = y[train]\n",
    "            \n",
    "    model = None # Clearing the NN.\n",
    "    \n",
    "    # Hyperparameters found by TPOT\n",
    "    model = GradientBoostingClassifier(learning_rate=0.5, max_depth=5, \n",
    "                                       max_features=0.1, min_samples_leaf=8, min_samples_split=12, \n",
    "                                       n_estimators=100, subsample=0.9500000000000001)\n",
    "\n",
    "    # Hyperparameters copied from Random Forest\n",
    "    # model = GradientBoostingClassifier(max_features=0.1, \n",
    "                # min_samples_leaf=4, min_samples_split=9, n_estimators=100, verbose=1)\n",
    "    \n",
    "    model.fit(X_train, y_train)\n",
    "            \n",
    "    # Predict the values from the validation dataset\n",
    "    Y_pred = model.predict(X_test)\n",
    "    # Convert predictions classes to one hot vectors \n",
    "    # Y_pred_classes = np.argmax(Y_pred,axis = 1) \n",
    "    # Convert validation observations to one hot vectors\n",
    "    Y_true = y[test]\n",
    "    \n",
    "    y_true.extend(Y_true)\n",
    "    y_pred.extend(Y_pred)\n",
    "    \n",
    "    print(\"Accuracy: \", sum(Y_pred == Y_true)/len(Y_true))"
   ]
  },
  {
   "cell_type": "code",
   "execution_count": 57,
   "metadata": {},
   "outputs": [],
   "source": [
    "def plot_confusion_matrix(cm, classes,\n",
    "                          normalize=False,\n",
    "                          title='Confusion matrix',\n",
    "                          cmap=plt.cm.Blues):\n",
    "    \"\"\"\n",
    "    This function prints and plots the confusion matrix.\n",
    "    Normalization can be applied by setting `normalize=True`.\n",
    "    \"\"\"\n",
    "    plt.imshow(cm, interpolation='nearest', cmap=cmap)\n",
    "    plt.title(title)\n",
    "    plt.colorbar()\n",
    "    tick_marks = np.arange(len(classes))\n",
    "    plt.xticks(tick_marks, classes, rotation=45)\n",
    "    plt.yticks(tick_marks, classes)\n",
    "\n",
    "    if normalize:\n",
    "        cm = cm.astype('float') / cm.sum(axis=1)[:, np.newaxis]\n",
    "\n",
    "    thresh = cm.max() / 2.\n",
    "    for i, j in itertools.product(range(cm.shape[0]), range(cm.shape[1])):\n",
    "        plt.text(j, i, cm[i, j],\n",
    "                 horizontalalignment=\"center\",\n",
    "                 color=\"white\" if cm[i, j] > thresh else \"black\")\n",
    "\n",
    "    plt.tight_layout()\n",
    "    plt.ylabel('True label')\n",
    "    plt.xlabel('Predicted label')"
   ]
  },
  {
   "cell_type": "code",
   "execution_count": 58,
   "metadata": {
    "scrolled": false
   },
   "outputs": [
    {
     "data": {
      "image/png": "[encoded data removed]",
      "text/plain": [
       "<Figure size 432x288 with 2 Axes>"
      ]
     },
     "metadata": {},
     "output_type": "display_data"
    }
   ],
   "source": [
    "# compute the confusion matrix\n",
    "confusion_mtx = confusion_matrix(np.array(y_true), np.array(y_pred)) \n",
    "# plot the confusion matrix\n",
    "plot_confusion_matrix(confusion_mtx, classes = range(3)) "
   ]
  },
  {
   "cell_type": "code",
   "execution_count": null,
   "metadata": {},
   "outputs": [],
   "source": []
  }
 ],
 "metadata": {
  "kernelspec": {
   "display_name": "Python 3",
   "language": "python",
   "name": "python3"
  },
  "language_info": {
   "codemirror_mode": {
    "name": "ipython",
    "version": 3
   },
   "file_extension": ".py",
   "mimetype": "text/x-python",
   "name": "python",
   "nbconvert_exporter": "python",
   "pygments_lexer": "ipython3",
   "version": "3.6.6"
  }
 },
 "nbformat": 4,
 "nbformat_minor": 2
}
