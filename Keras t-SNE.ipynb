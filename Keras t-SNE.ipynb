{
 "cells": [
  {
   "cell_type": "markdown",
   "metadata": {},
   "source": [
    "Source: https://www.kaggle.com/giuseppemerendino/deep-mushroom-keras-t-sne"
   ]
  },
  {
   "cell_type": "code",
   "execution_count": 1,
   "metadata": {},
   "outputs": [],
   "source": [
    "%matplotlib inline\n",
    "%config InlineBackend.figure_format = 'retina'\n",
    "\n",
    "import matplotlib.pyplot as plt\n",
    "import seaborn as sns\n",
    "import pandas as pd\n",
    "import numpy as np\n",
    "import math"
   ]
  },
  {
   "cell_type": "code",
   "execution_count": 18,
   "metadata": {},
   "outputs": [
    {
     "name": "stderr",
     "output_type": "stream",
     "text": [
      "C:\\Users\\Duo\\Anaconda3\\envs\\fastai\\lib\\site-packages\\h5py\\__init__.py:36: FutureWarning: Conversion of the second argument of issubdtype from `float` to `np.floating` is deprecated. In future, it will be treated as `np.float64 == np.dtype(float).type`.\n",
      "  from ._conv import register_converters as _register_converters\n",
      "Using TensorFlow backend.\n"
     ]
    }
   ],
   "source": [
    "from keras.models import Sequential\n",
    "from keras.layers import Dense\n",
    "from keras.layers import Dropout\n",
    "from keras.optimizers import SGD\n",
    "from keras.callbacks import EarlyStopping\n",
    "from sklearn.model_selection import cross_val_score\n",
    "from keras import backend as K\n",
    "from keras.layers import BatchNormalization"
   ]
  },
  {
   "cell_type": "code",
   "execution_count": 19,
   "metadata": {},
   "outputs": [],
   "source": [
    "seed = 123456"
   ]
  },
  {
   "cell_type": "code",
   "execution_count": 4,
   "metadata": {},
   "outputs": [],
   "source": [
    "path = \"data\\\\sorted\\\\agg\\\\ids.csv\"\n",
    "\n",
    "data = pd.read_csv(path)"
   ]
  },
  {
   "cell_type": "code",
   "execution_count": 11,
   "metadata": {
    "scrolled": true
   },
   "outputs": [
    {
     "data": {
      "text/html": [
       "<div>\n",
       "<style scoped>\n",
       "    .dataframe tbody tr th:only-of-type {\n",
       "        vertical-align: middle;\n",
       "    }\n",
       "\n",
       "    .dataframe tbody tr th {\n",
       "        vertical-align: top;\n",
       "    }\n",
       "\n",
       "    .dataframe thead th {\n",
       "        text-align: right;\n",
       "    }\n",
       "</style>\n",
       "<table border=\"1\" class=\"dataframe\">\n",
       "  <thead>\n",
       "    <tr style=\"text-align: right;\">\n",
       "      <th></th>\n",
       "      <th>name</th>\n",
       "      <th>date</th>\n",
       "      <th>flow_rate</th>\n",
       "      <th>source</th>\n",
       "      <th>peak_val</th>\n",
       "      <th>area</th>\n",
       "      <th>volume</th>\n",
       "      <th>eccentricity</th>\n",
       "      <th>euler_number</th>\n",
       "      <th>extent</th>\n",
       "      <th>mean_intensity</th>\n",
       "      <th>moments</th>\n",
       "      <th>orientation</th>\n",
       "      <th>perimeter</th>\n",
       "      <th>inertia_tensor</th>\n",
       "    </tr>\n",
       "  </thead>\n",
       "  <tbody>\n",
       "    <tr>\n",
       "      <th>0</th>\n",
       "      <td>0</td>\n",
       "      <td>2017.11.09</td>\n",
       "      <td>1800</td>\n",
       "      <td>chip2_02heightmap.mat</td>\n",
       "      <td>58.496427</td>\n",
       "      <td>4489</td>\n",
       "      <td>152983.389556</td>\n",
       "      <td>0.866207</td>\n",
       "      <td>0</td>\n",
       "      <td>0.673316</td>\n",
       "      <td>34.079615</td>\n",
       "      <td>[[4.48900000e+03 2.35521000e+05 1.56682350e+07...</td>\n",
       "      <td>1.309976</td>\n",
       "      <td>365.220346</td>\n",
       "      <td>[[232.59219643 145.14005797]\\r\\n [145.14005797...</td>\n",
       "    </tr>\n",
       "    <tr>\n",
       "      <th>1</th>\n",
       "      <td>1</td>\n",
       "      <td>2017.11.09</td>\n",
       "      <td>1800</td>\n",
       "      <td>chip2_03heightmap.mat</td>\n",
       "      <td>5.237538</td>\n",
       "      <td>6320</td>\n",
       "      <td>10642.551390</td>\n",
       "      <td>0.871961</td>\n",
       "      <td>-1</td>\n",
       "      <td>0.383273</td>\n",
       "      <td>1.682883</td>\n",
       "      <td>[[6.32400000e+03 6.59633000e+05 7.81561010e+07...</td>\n",
       "      <td>-1.266807</td>\n",
       "      <td>732.523953</td>\n",
       "      <td>[[ 488.4762157  -344.60676222]\\r\\n [-344.60676...</td>\n",
       "    </tr>\n",
       "    <tr>\n",
       "      <th>2</th>\n",
       "      <td>2</td>\n",
       "      <td>2017.11.09</td>\n",
       "      <td>1800</td>\n",
       "      <td>chip2_04heightmap.mat</td>\n",
       "      <td>16.623206</td>\n",
       "      <td>443</td>\n",
       "      <td>3682.088758</td>\n",
       "      <td>0.902466</td>\n",
       "      <td>1</td>\n",
       "      <td>0.692187</td>\n",
       "      <td>8.311713</td>\n",
       "      <td>[[4.43000000e+02 7.34200000e+03 1.61000000e+05...</td>\n",
       "      <td>1.470180</td>\n",
       "      <td>94.526912</td>\n",
       "      <td>[[17.34078645  7.28397087]\\r\\n [ 7.28397087 88...</td>\n",
       "    </tr>\n",
       "    <tr>\n",
       "      <th>3</th>\n",
       "      <td>3</td>\n",
       "      <td>2017.11.09</td>\n",
       "      <td>1800</td>\n",
       "      <td>chip2_05heightmap.mat</td>\n",
       "      <td>12.465707</td>\n",
       "      <td>1054</td>\n",
       "      <td>6977.762945</td>\n",
       "      <td>0.615661</td>\n",
       "      <td>1</td>\n",
       "      <td>0.552411</td>\n",
       "      <td>6.620268</td>\n",
       "      <td>[[1.05400000e+03 2.80700000e+04 8.86760000e+05...</td>\n",
       "      <td>-1.477930</td>\n",
       "      <td>148.225397</td>\n",
       "      <td>[[ 82.71136252  -4.63732992]\\r\\n [ -4.63732992...</td>\n",
       "    </tr>\n",
       "    <tr>\n",
       "      <th>4</th>\n",
       "      <td>4</td>\n",
       "      <td>2017.11.09</td>\n",
       "      <td>1800</td>\n",
       "      <td>chip2_06heightmap.mat</td>\n",
       "      <td>4.629928</td>\n",
       "      <td>1929</td>\n",
       "      <td>3566.980825</td>\n",
       "      <td>0.871295</td>\n",
       "      <td>1</td>\n",
       "      <td>0.562063</td>\n",
       "      <td>1.849135</td>\n",
       "      <td>[[1.92900000e+03 6.37560000e+04 2.84693000e+06...</td>\n",
       "      <td>-1.543902</td>\n",
       "      <td>209.095454</td>\n",
       "      <td>[[ 92.6177739   -7.82965009]\\r\\n [ -7.82965009...</td>\n",
       "    </tr>\n",
       "  </tbody>\n",
       "</table>\n",
       "</div>"
      ],
      "text/plain": [
       "  name        date  flow_rate                 source   peak_val  area  \\\n",
       "0    0  2017.11.09       1800  chip2_02heightmap.mat  58.496427  4489   \n",
       "1    1  2017.11.09       1800  chip2_03heightmap.mat   5.237538  6320   \n",
       "2    2  2017.11.09       1800  chip2_04heightmap.mat  16.623206   443   \n",
       "3    3  2017.11.09       1800  chip2_05heightmap.mat  12.465707  1054   \n",
       "4    4  2017.11.09       1800  chip2_06heightmap.mat   4.629928  1929   \n",
       "\n",
       "          volume  eccentricity  euler_number    extent  mean_intensity  \\\n",
       "0  152983.389556      0.866207             0  0.673316       34.079615   \n",
       "1   10642.551390      0.871961            -1  0.383273        1.682883   \n",
       "2    3682.088758      0.902466             1  0.692187        8.311713   \n",
       "3    6977.762945      0.615661             1  0.552411        6.620268   \n",
       "4    3566.980825      0.871295             1  0.562063        1.849135   \n",
       "\n",
       "                                             moments  orientation   perimeter  \\\n",
       "0  [[4.48900000e+03 2.35521000e+05 1.56682350e+07...     1.309976  365.220346   \n",
       "1  [[6.32400000e+03 6.59633000e+05 7.81561010e+07...    -1.266807  732.523953   \n",
       "2  [[4.43000000e+02 7.34200000e+03 1.61000000e+05...     1.470180   94.526912   \n",
       "3  [[1.05400000e+03 2.80700000e+04 8.86760000e+05...    -1.477930  148.225397   \n",
       "4  [[1.92900000e+03 6.37560000e+04 2.84693000e+06...    -1.543902  209.095454   \n",
       "\n",
       "                                      inertia_tensor  \n",
       "0  [[232.59219643 145.14005797]\\r\\n [145.14005797...  \n",
       "1  [[ 488.4762157  -344.60676222]\\r\\n [-344.60676...  \n",
       "2  [[17.34078645  7.28397087]\\r\\n [ 7.28397087 88...  \n",
       "3  [[ 82.71136252  -4.63732992]\\r\\n [ -4.63732992...  \n",
       "4  [[ 92.6177739   -7.82965009]\\r\\n [ -7.82965009...  "
      ]
     },
     "execution_count": 11,
     "metadata": {},
     "output_type": "execute_result"
    }
   ],
   "source": [
    "data.head()"
   ]
  },
  {
   "cell_type": "code",
   "execution_count": 12,
   "metadata": {},
   "outputs": [
    {
     "data": {
      "text/plain": [
       "(402, 15)"
      ]
     },
     "execution_count": 12,
     "metadata": {},
     "output_type": "execute_result"
    }
   ],
   "source": [
    "data.shape"
   ]
  },
  {
   "cell_type": "code",
   "execution_count": 13,
   "metadata": {},
   "outputs": [
    {
     "name": "stdout",
     "output_type": "stream",
     "text": [
      "<class 'pandas.core.frame.DataFrame'>\n",
      "RangeIndex: 402 entries, 0 to 401\n",
      "Data columns (total 15 columns):\n",
      "name              402 non-null object\n",
      "date              402 non-null object\n",
      "flow_rate         402 non-null int64\n",
      "source            402 non-null object\n",
      "peak_val          402 non-null float64\n",
      "area              402 non-null int64\n",
      "volume            402 non-null float64\n",
      "eccentricity      402 non-null float64\n",
      "euler_number      402 non-null int64\n",
      "extent            402 non-null float64\n",
      "mean_intensity    402 non-null float64\n",
      "moments           402 non-null object\n",
      "orientation       402 non-null float64\n",
      "perimeter         402 non-null float64\n",
      "inertia_tensor    402 non-null object\n",
      "dtypes: float64(7), int64(3), object(5)\n",
      "memory usage: 47.2+ KB\n"
     ]
    }
   ],
   "source": [
    "data.info()"
   ]
  },
  {
   "cell_type": "code",
   "execution_count": 15,
   "metadata": {},
   "outputs": [],
   "source": [
    "predictors = data.drop(columns=['name','date','flow_rate','source','moments','inertia_tensor'])"
   ]
  },
  {
   "cell_type": "code",
   "execution_count": 16,
   "metadata": {
    "scrolled": true
   },
   "outputs": [
    {
     "data": {
      "text/html": [
       "<div>\n",
       "<style scoped>\n",
       "    .dataframe tbody tr th:only-of-type {\n",
       "        vertical-align: middle;\n",
       "    }\n",
       "\n",
       "    .dataframe tbody tr th {\n",
       "        vertical-align: top;\n",
       "    }\n",
       "\n",
       "    .dataframe thead th {\n",
       "        text-align: right;\n",
       "    }\n",
       "</style>\n",
       "<table border=\"1\" class=\"dataframe\">\n",
       "  <thead>\n",
       "    <tr style=\"text-align: right;\">\n",
       "      <th></th>\n",
       "      <th>peak_val</th>\n",
       "      <th>area</th>\n",
       "      <th>volume</th>\n",
       "      <th>eccentricity</th>\n",
       "      <th>euler_number</th>\n",
       "      <th>extent</th>\n",
       "      <th>mean_intensity</th>\n",
       "      <th>orientation</th>\n",
       "      <th>perimeter</th>\n",
       "    </tr>\n",
       "  </thead>\n",
       "  <tbody>\n",
       "    <tr>\n",
       "      <th>0</th>\n",
       "      <td>58.496427</td>\n",
       "      <td>4489</td>\n",
       "      <td>152983.389556</td>\n",
       "      <td>0.866207</td>\n",
       "      <td>0</td>\n",
       "      <td>0.673316</td>\n",
       "      <td>34.079615</td>\n",
       "      <td>1.309976</td>\n",
       "      <td>365.220346</td>\n",
       "    </tr>\n",
       "    <tr>\n",
       "      <th>1</th>\n",
       "      <td>5.237538</td>\n",
       "      <td>6320</td>\n",
       "      <td>10642.551390</td>\n",
       "      <td>0.871961</td>\n",
       "      <td>-1</td>\n",
       "      <td>0.383273</td>\n",
       "      <td>1.682883</td>\n",
       "      <td>-1.266807</td>\n",
       "      <td>732.523953</td>\n",
       "    </tr>\n",
       "    <tr>\n",
       "      <th>2</th>\n",
       "      <td>16.623206</td>\n",
       "      <td>443</td>\n",
       "      <td>3682.088758</td>\n",
       "      <td>0.902466</td>\n",
       "      <td>1</td>\n",
       "      <td>0.692187</td>\n",
       "      <td>8.311713</td>\n",
       "      <td>1.470180</td>\n",
       "      <td>94.526912</td>\n",
       "    </tr>\n",
       "    <tr>\n",
       "      <th>3</th>\n",
       "      <td>12.465707</td>\n",
       "      <td>1054</td>\n",
       "      <td>6977.762945</td>\n",
       "      <td>0.615661</td>\n",
       "      <td>1</td>\n",
       "      <td>0.552411</td>\n",
       "      <td>6.620268</td>\n",
       "      <td>-1.477930</td>\n",
       "      <td>148.225397</td>\n",
       "    </tr>\n",
       "    <tr>\n",
       "      <th>4</th>\n",
       "      <td>4.629928</td>\n",
       "      <td>1929</td>\n",
       "      <td>3566.980825</td>\n",
       "      <td>0.871295</td>\n",
       "      <td>1</td>\n",
       "      <td>0.562063</td>\n",
       "      <td>1.849135</td>\n",
       "      <td>-1.543902</td>\n",
       "      <td>209.095454</td>\n",
       "    </tr>\n",
       "  </tbody>\n",
       "</table>\n",
       "</div>"
      ],
      "text/plain": [
       "    peak_val  area         volume  eccentricity  euler_number    extent  \\\n",
       "0  58.496427  4489  152983.389556      0.866207             0  0.673316   \n",
       "1   5.237538  6320   10642.551390      0.871961            -1  0.383273   \n",
       "2  16.623206   443    3682.088758      0.902466             1  0.692187   \n",
       "3  12.465707  1054    6977.762945      0.615661             1  0.552411   \n",
       "4   4.629928  1929    3566.980825      0.871295             1  0.562063   \n",
       "\n",
       "   mean_intensity  orientation   perimeter  \n",
       "0       34.079615     1.309976  365.220346  \n",
       "1        1.682883    -1.266807  732.523953  \n",
       "2        8.311713     1.470180   94.526912  \n",
       "3        6.620268    -1.477930  148.225397  \n",
       "4        1.849135    -1.543902  209.095454  "
      ]
     },
     "execution_count": 16,
     "metadata": {},
     "output_type": "execute_result"
    }
   ],
   "source": [
    "predictors.head()"
   ]
  },
  {
   "cell_type": "code",
   "execution_count": 17,
   "metadata": {},
   "outputs": [],
   "source": [
    "Y = pd.get_dummies(data.iloc[:,0],  drop_first=False)\n",
    "X = pd.DataFrame()\n",
    "for each in data.iloc[:,1:].columns:\n",
    "    dummies = pd.get_dummies(data[each], prefix=each, drop_first=False)\n",
    "    X = pd.concat([X, dummies], axis=1)"
   ]
  },
  {
   "cell_type": "code",
   "execution_count": 20,
   "metadata": {},
   "outputs": [],
   "source": [
    "def create_model():\n",
    "    model = Sequential()\n",
    "    model.add(Dense(20, input_dim=X.shape[1], kernel_initializer='uniform', activation='relu'))\n",
    "    model.add(BatchNormalization())\n",
    "    model.add(Dropout(0.5))\n",
    "    #model.add(Dense(20, input_dim=X.shape[1], kernel_initializer='uniform', activation='relu'))\n",
    "    #model.add(BatchNormalization())\n",
    "    model.add(Dropout(0.5))\n",
    "    model.add(Dense(2, activation='softmax'))\n",
    "    #sgd = SGD(lr=0.01, momentum=0.7, decay=0, nesterov=False)\n",
    "    model.compile(loss='binary_crossentropy' , optimizer='adam', metrics=['accuracy'])\n",
    "    return model"
   ]
  },
  {
   "cell_type": "code",
   "execution_count": 21,
   "metadata": {},
   "outputs": [
    {
     "ename": "ValueError",
     "evalue": "Error when checking target: expected dense_2 to have shape (2,) but got array with shape (402,)",
     "output_type": "error",
     "traceback": [
      "\u001b[1;31m---------------------------------------------------------------------------\u001b[0m",
      "\u001b[1;31mValueError\u001b[0m                                Traceback (most recent call last)",
      "\u001b[1;32m<ipython-input-21-859b7f9d13a7>\u001b[0m in \u001b[0;36m<module>\u001b[1;34m()\u001b[0m\n\u001b[0;32m      1\u001b[0m \u001b[0mmodel\u001b[0m \u001b[1;33m=\u001b[0m \u001b[0mcreate_model\u001b[0m\u001b[1;33m(\u001b[0m\u001b[1;33m)\u001b[0m\u001b[1;33m\u001b[0m\u001b[0m\n\u001b[1;32m----> 2\u001b[1;33m \u001b[0mhistory\u001b[0m \u001b[1;33m=\u001b[0m \u001b[0mmodel\u001b[0m\u001b[1;33m.\u001b[0m\u001b[0mfit\u001b[0m\u001b[1;33m(\u001b[0m\u001b[0mX\u001b[0m\u001b[1;33m.\u001b[0m\u001b[0mvalues\u001b[0m\u001b[1;33m,\u001b[0m \u001b[0mY\u001b[0m\u001b[1;33m.\u001b[0m\u001b[0mvalues\u001b[0m\u001b[1;33m,\u001b[0m \u001b[0mvalidation_split\u001b[0m\u001b[1;33m=\u001b[0m\u001b[1;36m0.50\u001b[0m\u001b[1;33m,\u001b[0m \u001b[0mepochs\u001b[0m\u001b[1;33m=\u001b[0m\u001b[1;36m100\u001b[0m\u001b[1;33m,\u001b[0m \u001b[0mbatch_size\u001b[0m\u001b[1;33m=\u001b[0m\u001b[1;36m50\u001b[0m\u001b[1;33m,\u001b[0m \u001b[0mverbose\u001b[0m\u001b[1;33m=\u001b[0m\u001b[1;36m0\u001b[0m\u001b[1;33m)\u001b[0m\u001b[1;33m\u001b[0m\u001b[0m\n\u001b[0m\u001b[0;32m      3\u001b[0m \u001b[1;33m\u001b[0m\u001b[0m\n\u001b[0;32m      4\u001b[0m \u001b[1;33m\u001b[0m\u001b[0m\n\u001b[0;32m      5\u001b[0m \u001b[1;31m# list all data in history\u001b[0m\u001b[1;33m\u001b[0m\u001b[1;33m\u001b[0m\u001b[0m\n",
      "\u001b[1;32m~\\Anaconda3\\envs\\fastai\\lib\\site-packages\\keras\\models.py\u001b[0m in \u001b[0;36mfit\u001b[1;34m(self, x, y, batch_size, epochs, verbose, callbacks, validation_split, validation_data, shuffle, class_weight, sample_weight, initial_epoch, steps_per_epoch, validation_steps, **kwargs)\u001b[0m\n\u001b[0;32m    961\u001b[0m                               \u001b[0minitial_epoch\u001b[0m\u001b[1;33m=\u001b[0m\u001b[0minitial_epoch\u001b[0m\u001b[1;33m,\u001b[0m\u001b[1;33m\u001b[0m\u001b[0m\n\u001b[0;32m    962\u001b[0m                               \u001b[0msteps_per_epoch\u001b[0m\u001b[1;33m=\u001b[0m\u001b[0msteps_per_epoch\u001b[0m\u001b[1;33m,\u001b[0m\u001b[1;33m\u001b[0m\u001b[0m\n\u001b[1;32m--> 963\u001b[1;33m                               validation_steps=validation_steps)\n\u001b[0m\u001b[0;32m    964\u001b[0m \u001b[1;33m\u001b[0m\u001b[0m\n\u001b[0;32m    965\u001b[0m     def evaluate(self, x=None, y=None,\n",
      "\u001b[1;32m~\\Anaconda3\\envs\\fastai\\lib\\site-packages\\keras\\engine\\training.py\u001b[0m in \u001b[0;36mfit\u001b[1;34m(self, x, y, batch_size, epochs, verbose, callbacks, validation_split, validation_data, shuffle, class_weight, sample_weight, initial_epoch, steps_per_epoch, validation_steps, **kwargs)\u001b[0m\n\u001b[0;32m   1628\u001b[0m             \u001b[0msample_weight\u001b[0m\u001b[1;33m=\u001b[0m\u001b[0msample_weight\u001b[0m\u001b[1;33m,\u001b[0m\u001b[1;33m\u001b[0m\u001b[0m\n\u001b[0;32m   1629\u001b[0m             \u001b[0mclass_weight\u001b[0m\u001b[1;33m=\u001b[0m\u001b[0mclass_weight\u001b[0m\u001b[1;33m,\u001b[0m\u001b[1;33m\u001b[0m\u001b[0m\n\u001b[1;32m-> 1630\u001b[1;33m             batch_size=batch_size)\n\u001b[0m\u001b[0;32m   1631\u001b[0m         \u001b[1;31m# Prepare validation data.\u001b[0m\u001b[1;33m\u001b[0m\u001b[1;33m\u001b[0m\u001b[0m\n\u001b[0;32m   1632\u001b[0m         \u001b[0mdo_validation\u001b[0m \u001b[1;33m=\u001b[0m \u001b[1;32mFalse\u001b[0m\u001b[1;33m\u001b[0m\u001b[0m\n",
      "\u001b[1;32m~\\Anaconda3\\envs\\fastai\\lib\\site-packages\\keras\\engine\\training.py\u001b[0m in \u001b[0;36m_standardize_user_data\u001b[1;34m(self, x, y, sample_weight, class_weight, check_array_lengths, batch_size)\u001b[0m\n\u001b[0;32m   1478\u001b[0m                                     \u001b[0moutput_shapes\u001b[0m\u001b[1;33m,\u001b[0m\u001b[1;33m\u001b[0m\u001b[0m\n\u001b[0;32m   1479\u001b[0m                                     \u001b[0mcheck_batch_axis\u001b[0m\u001b[1;33m=\u001b[0m\u001b[1;32mFalse\u001b[0m\u001b[1;33m,\u001b[0m\u001b[1;33m\u001b[0m\u001b[0m\n\u001b[1;32m-> 1480\u001b[1;33m                                     exception_prefix='target')\n\u001b[0m\u001b[0;32m   1481\u001b[0m         sample_weights = _standardize_sample_weights(sample_weight,\n\u001b[0;32m   1482\u001b[0m                                                      self._feed_output_names)\n",
      "\u001b[1;32m~\\Anaconda3\\envs\\fastai\\lib\\site-packages\\keras\\engine\\training.py\u001b[0m in \u001b[0;36m_standardize_input_data\u001b[1;34m(data, names, shapes, check_batch_axis, exception_prefix)\u001b[0m\n\u001b[0;32m    121\u001b[0m                             \u001b[1;34m': expected '\u001b[0m \u001b[1;33m+\u001b[0m \u001b[0mnames\u001b[0m\u001b[1;33m[\u001b[0m\u001b[0mi\u001b[0m\u001b[1;33m]\u001b[0m \u001b[1;33m+\u001b[0m \u001b[1;34m' to have shape '\u001b[0m \u001b[1;33m+\u001b[0m\u001b[1;33m\u001b[0m\u001b[0m\n\u001b[0;32m    122\u001b[0m                             \u001b[0mstr\u001b[0m\u001b[1;33m(\u001b[0m\u001b[0mshape\u001b[0m\u001b[1;33m)\u001b[0m \u001b[1;33m+\u001b[0m \u001b[1;34m' but got array with shape '\u001b[0m \u001b[1;33m+\u001b[0m\u001b[1;33m\u001b[0m\u001b[0m\n\u001b[1;32m--> 123\u001b[1;33m                             str(data_shape))\n\u001b[0m\u001b[0;32m    124\u001b[0m     \u001b[1;32mreturn\u001b[0m \u001b[0mdata\u001b[0m\u001b[1;33m\u001b[0m\u001b[0m\n\u001b[0;32m    125\u001b[0m \u001b[1;33m\u001b[0m\u001b[0m\n",
      "\u001b[1;31mValueError\u001b[0m: Error when checking target: expected dense_2 to have shape (2,) but got array with shape (402,)"
     ]
    }
   ],
   "source": [
    "model = create_model()\n",
    "history = model.fit(X.values, Y.values, validation_split=0.50, epochs=100, batch_size=50, verbose=0)\n",
    "\n",
    "\n",
    "# list all data in history\n",
    "print(history.history.keys())\n",
    "# summarize history for accuracy\n",
    "plt.plot(history.history['acc'])\n",
    "plt.plot(history.history['val_acc'])\n",
    "plt.title('model accuracy')\n",
    "plt.ylabel('accuracy')\n",
    "plt.xlabel('epoch')\n",
    "plt.legend(['train', 'validation'], loc='upper left')\n",
    "plt.show()\n",
    "# summarize history for loss\n",
    "plt.plot(history.history['loss'])\n",
    "plt.plot(history.history['val_loss'])\n",
    "plt.title('model loss')\n",
    "plt.ylabel('loss')\n",
    "plt.xlabel('epoch')\n",
    "plt.legend(['train', 'validation'], loc='upper left')\n",
    "plt.show()"
   ]
  }
 ],
 "metadata": {
  "kernelspec": {
   "display_name": "Python 3",
   "language": "python",
   "name": "python3"
  },
  "language_info": {
   "codemirror_mode": {
    "name": "ipython",
    "version": 3
   },
   "file_extension": ".py",
   "mimetype": "text/x-python",
   "name": "python",
   "nbconvert_exporter": "python",
   "pygments_lexer": "ipython3",
   "version": "3.6.4"
  }
 },
 "nbformat": 4,
 "nbformat_minor": 2
}
