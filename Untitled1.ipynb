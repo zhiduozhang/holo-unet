{
 "cells": [
  {
   "cell_type": "code",
   "execution_count": 4,
   "metadata": {},
   "outputs": [],
   "source": [
    "from holopy import test_disp\n",
    "%matplotlib tk"
   ]
  },
  {
   "cell_type": "code",
   "execution_count": 5,
   "metadata": {},
   "outputs": [
    {
     "name": "stdout",
     "output_type": "stream",
     "text": [
      "[61, 44, 0]\n"
     ]
    }
   ],
   "source": [
    "test_disp()"
   ]
  },
  {
   "cell_type": "code",
   "execution_count": 1,
   "metadata": {},
   "outputs": [],
   "source": [
    "image_path = \"I:\\\\Honours-Project\\\\data\\\\full trombus data\\\\agg\\\\15.tif\"\n",
    "#image_path = \"I:\\\\Honours-Project\\\\data\\\\full trombus data\\\\agg\\\\fc2_save_2018-05-15-152139-0000.avi_frame75.jpg\"\n",
    "#image_path = \"I:\\\\Honours-Project\\\\data\\\\full trombus data\\\\agg\\\\c1.tif\"\n",
    "#image_path = \"I:\\\\Honours-Project\\\\data\\\\test data\\\\video\\\\frames\\\\holo1.avi_frame10.tif\"\n",
    "image_path = \"I:\\\\Honours-Project\\\\data\\\\observed\\\\frames\\\\MATLAB_0003.avi_frame5.tif\"\n",
    "#image_path = \"I:\\\\Honours-Project\\\\denoising\\\\clean_inten.png\"\n",
    "#image_path = \"I:\\\\Honours-Project\\\\denoising\\\\noisy_inten.png\"\n",
    "#image_path = \"I:\\\\Honours-Project\\\\output_noisy_98_new_comp1.png\"\n",
    "#image_path = \"I:\\\\Honours-Project\\\\output_clean_phase_only.png\"\n",
    "#image_path = \"I:\\\\Honours-Project\\\\stronger_noisy_bead.png\"\n",
    "image_path = \"I:\\\\Honours-Project\\\\stronger_noisy_bead.png\"\n",
    "#image_path = \"I:\\\\Honours-Project\\\\clean_bead.png\"\n",
    "#image_path = \"I:\\\\Honours-Project\\\\stronger_clean_bead.png\"\n",
    "image_path = \"I:\\\\Honours-Project\\\\data\\\\observed\\\\obj\\\\microsphere_50_hydrogel1_21\\\\s7.TIF\"\n",
    "#image_path = \"I:\\\\Honours-Project\\\\thesis\\\\images\\\\fringe_to_fringe_hydrogel_sphere_result.png\"\n",
    "image_path = \"I:\\\\Honours-Project\\\\data\\\\observed\\\\obj\\\\microsphere(6um)_water1_20\\\\4.TIF\"\n",
    "#image_path = \"I:\\\\Honours-Project\\\\data\\\\40x 0_70NA\\\\USAF.TIF\"\n",
    "#image_path = \"I:\\\\Honours-Project\\\\data\\\\diffuser\\\\cropped\\\\4-45um-no-diffuser-1.tif\"\n",
    "#image_path = \"I:\\\\Honours-Project\\\\data\\\\diffuser\\\\cropped\\\\4-45um-diffuser-40.tif\"\n",
    "#image_path = \"I:\\\\Honours-Project\\\\data\\\\40x 0_70NA\\\\3um.tif\"\n",
    "#image_path = \"I:\\\\Honours-Project\\\\data\\\\60x 1_49NA\\\\1_dhm.TIF\"\n",
    "#image_path = \"I:\\\\Honours-Project\\\\data\\\\40x 0_70NA\\\\1_diffuser_36cm.TIF\"\n",
    "#image_path = \"I:\\\\Honours-Project\\\\data\\\\40x 0_70NA\\\\reference arm\\\\cropped\\\\1_diffuser_100mm_2.tif\"\n",
    "#image_path = \"I:\\\\Honours-Project\\\\data\\\\40x 0_70NA\\\\reference arm\\\\cropped\\\\1_no_diffuser_2.tif\"\n",
    "#image_path = \"I:\\\\Honours-Project\\\\data\\\\simulation\\\\clean_hologram\\\\bead_march\\\\clean_bead_3.tif\"\n",
    "#image_path = \"I:\\\\Honours-Project\\\\output_noisy_0.9_new_comp10_noise_-1_1.png\"\n",
    "#image_path = \"I:\\\\Honours-Project\\\\data\\\\test data\\\\simulation\\\\imagej_test_4.jpg\"\n",
    "#image_path = \"I:\\\\Honours-Project\\\\data\\\\simulation\\\\recon_hologram\\\\output_diff_2.jpg\"\n",
    "#image_path = \"I:\\\\Honours-Project\\\\amplitude.tif\"\n",
    "folder_path = \"I:\\\\Honours-Project\\\\data\\\\full trombus data\\\\agg\\\\\""
   ]
  },
  {
   "cell_type": "code",
   "execution_count": 2,
   "metadata": {},
   "outputs": [
    {
     "ename": "NameError",
     "evalue": "name 'cv2' is not defined",
     "output_type": "error",
     "traceback": [
      "\u001b[1;31m---------------------------------------------------------------------------\u001b[0m",
      "\u001b[1;31mNameError\u001b[0m                                 Traceback (most recent call last)",
      "\u001b[1;32m<ipython-input-2-0e3dd02f1da4>\u001b[0m in \u001b[0;36m<module>\u001b[1;34m()\u001b[0m\n\u001b[0;32m      4\u001b[0m \u001b[1;33m\u001b[0m\u001b[0m\n\u001b[0;32m      5\u001b[0m \u001b[1;32mif\u001b[0m \u001b[0mk\u001b[0m \u001b[1;33m==\u001b[0m \u001b[1;36m0\u001b[0m\u001b[1;33m:\u001b[0m\u001b[1;33m\u001b[0m\u001b[0m\n\u001b[1;32m----> 6\u001b[1;33m     \u001b[0mimg\u001b[0m \u001b[1;33m=\u001b[0m \u001b[0mcv2\u001b[0m\u001b[1;33m.\u001b[0m\u001b[0mimread\u001b[0m\u001b[1;33m(\u001b[0m\u001b[0mimage_path\u001b[0m\u001b[1;33m)\u001b[0m\u001b[1;33m\u001b[0m\u001b[0m\n\u001b[0m\u001b[0;32m      7\u001b[0m     \u001b[1;32mif\u001b[0m \u001b[0mlen\u001b[0m\u001b[1;33m(\u001b[0m\u001b[0mimg\u001b[0m\u001b[1;33m.\u001b[0m\u001b[0mshape\u001b[0m\u001b[1;33m)\u001b[0m \u001b[1;33m>\u001b[0m \u001b[1;36m2\u001b[0m\u001b[1;33m:\u001b[0m\u001b[1;33m\u001b[0m\u001b[0m\n\u001b[0;32m      8\u001b[0m         \u001b[0mgray\u001b[0m \u001b[1;33m=\u001b[0m \u001b[0mcv2\u001b[0m\u001b[1;33m.\u001b[0m\u001b[0mcvtColor\u001b[0m\u001b[1;33m(\u001b[0m\u001b[0mimg\u001b[0m\u001b[1;33m,\u001b[0m \u001b[0mcv2\u001b[0m\u001b[1;33m.\u001b[0m\u001b[0mCOLOR_BGR2GRAY\u001b[0m\u001b[1;33m)\u001b[0m\u001b[1;33m\u001b[0m\u001b[0m\n",
      "\u001b[1;31mNameError\u001b[0m: name 'cv2' is not defined"
     ]
    }
   ],
   "source": [
    "# 0 - Image; 1 - Matlab Matrix; 2 - numpy array\n",
    "\n",
    "k = 0\n",
    "\n",
    "if k == 0:\n",
    "    img = cv2.imread(image_path)\n",
    "    if len(img.shape) > 2:\n",
    "        gray = cv2.cvtColor(img, cv2.COLOR_BGR2GRAY)\n",
    "    else:\n",
    "        gray = img\n",
    "elif k == 1:\n",
    "    mat_contents = sio.loadmat(mat_path)\n",
    "    gray = mat_contents['hologram']\n",
    "elif k == 2:\n",
    "    gray = np.load(npy_path)"
   ]
  }
 ],
 "metadata": {
  "kernelspec": {
   "display_name": "Python 3",
   "language": "python",
   "name": "python3"
  },
  "language_info": {
   "codemirror_mode": {
    "name": "ipython",
    "version": 3
   },
   "file_extension": ".py",
   "mimetype": "text/x-python",
   "name": "python",
   "nbconvert_exporter": "python",
   "pygments_lexer": "ipython3",
   "version": "3.6.6"
  }
 },
 "nbformat": 4,
 "nbformat_minor": 2
}
