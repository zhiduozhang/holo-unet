{
 "cells": [
  {
   "cell_type": "code",
   "execution_count": 1,
   "metadata": {
    "scrolled": false
   },
   "outputs": [
    {
     "name": "stderr",
     "output_type": "stream",
     "text": [
      "COMET WARNING: We detected that you are running inside a Ipython/Jupyter notebook environment but we cannot save your notebook source code. Please be sure to have installed comet_ml as a notebook server extension by running:\n",
      "jupyter comet_ml enable\n",
      "COMET INFO: old comet version (1.0.9) detected. current: 1.0.10 please update your comet lib with command: `pip install --no-cache-dir --upgrade comet_ml`\n",
      "COMET WARNING: Comet.ml support for Ipython Notebook is limited at the moment, automatic monitoring and stdout capturing is deactivated\n",
      "COMET INFO: Experiment is live on comet.ml https://www.comet.ml/incnas/general/dd361dd4943b4df99317fc8c16dcfcdd\n",
      "\n"
     ]
    }
   ],
   "source": [
    "from comet_ml import Experiment\n",
    "experiment = Experiment(api_key=\"xktj4EX0zB8YcQ3BEaFwOQYpu\")"
   ]
  },
  {
   "cell_type": "code",
   "execution_count": 2,
   "metadata": {
    "scrolled": true
   },
   "outputs": [
    {
     "name": "stderr",
     "output_type": "stream",
     "text": [
      "C:\\Users\\Duo\\Anaconda3\\envs\\fastai\\lib\\site-packages\\h5py\\__init__.py:36: FutureWarning: Conversion of the second argument of issubdtype from `float` to `np.floating` is deprecated. In future, it will be treated as `np.float64 == np.dtype(float).type`.\n",
      "  from ._conv import register_converters as _register_converters\n",
      "Using TensorFlow backend.\n"
     ]
    }
   ],
   "source": [
    "import numpy as np\n",
    "from keras.models import Sequential \n",
    "from keras.layers import Dense, Activation\n",
    "from keras.regularizers import L1L2\n",
    "from keras.utils import np_utils "
   ]
  },
  {
   "cell_type": "code",
   "execution_count": 3,
   "metadata": {},
   "outputs": [],
   "source": [
    "import os\n",
    "import fnmatch\n",
    "\n",
    "import pandas as pd\n",
    "\n",
    "import sklearn.preprocessing as preprocessing"
   ]
  },
  {
   "cell_type": "code",
   "execution_count": null,
   "metadata": {},
   "outputs": [],
   "source": []
  },
  {
   "cell_type": "markdown",
   "metadata": {},
   "source": [
    "## Load Data"
   ]
  },
  {
   "cell_type": "code",
   "execution_count": 4,
   "metadata": {},
   "outputs": [],
   "source": [
    "train_path = \"I:\\\\Honours-Project\\\\data\\\\sorted\\\\agg\\\\train\\\\\"\n",
    "train_csv = \"I:\\\\Honours-Project\\\\data\\\\sorted\\\\agg\\\\train\\\\ids.csv\"\n",
    "test_path = \"I:\\\\Honours-Project\\\\data\\\\sorted\\\\agg\\\\test\\\\\"\n",
    "test_csv = \"I:\\\\Honours-Project\\\\data\\\\sorted\\\\agg\\\\test\\\\ids.csv\"\n",
    "\n",
    "dest_path = \"I:\\\\Honours-Project\\\\data\\\\sorted\\\\agg\\\\\"\n",
    "\n",
    "csv = \"I:\\\\Honours-Project\\\\data\\\\sorted\\\\agg\\\\ids.csv\""
   ]
  },
  {
   "cell_type": "code",
   "execution_count": 5,
   "metadata": {},
   "outputs": [],
   "source": [
    "df = pd.read_csv(csv,index_col=0).sample(frac=1)\n",
    "\n",
    "x = df.drop(columns=['name','date','flow_rate','source','moments','inertia_tensor','cluster'])\n",
    "x = preprocessing.Normalizer().fit_transform(x)"
   ]
  },
  {
   "cell_type": "code",
   "execution_count": 6,
   "metadata": {},
   "outputs": [],
   "source": [
    "test_size = int(df.shape[0]/10)\n",
    "\n",
    "x_test = np.array(x[:test_size])\n",
    "y_test = df['cluster'][:test_size].values\n",
    "\n",
    "x_train = np.array(x[test_size:])\n",
    "y_train = df['cluster'][test_size:].values"
   ]
  },
  {
   "cell_type": "markdown",
   "metadata": {},
   "source": [
    "## Run Logistic Regression"
   ]
  },
  {
   "cell_type": "code",
   "execution_count": 7,
   "metadata": {},
   "outputs": [],
   "source": [
    "batch_size = 16\n",
    "nb_classes = 3\n",
    "nb_epoch = 20"
   ]
  },
  {
   "cell_type": "code",
   "execution_count": 8,
   "metadata": {},
   "outputs": [],
   "source": [
    "input_dim = x_train.shape[1]"
   ]
  },
  {
   "cell_type": "code",
   "execution_count": 9,
   "metadata": {},
   "outputs": [],
   "source": [
    "y_train[y_train == 1800] = 0\n",
    "y_train[y_train == 3600] = 1\n",
    "y_train[y_train == 7200] = 2\n",
    "\n",
    "y_test[y_test == 1800] = 0\n",
    "y_test[y_test == 3600] = 1\n",
    "y_test[y_test == 7200] = 2\n",
    "\n",
    "y_train = np_utils.to_categorical(y_train, nb_classes) \n",
    "y_test = np_utils.to_categorical(y_test, nb_classes)"
   ]
  },
  {
   "cell_type": "code",
   "execution_count": 10,
   "metadata": {},
   "outputs": [],
   "source": [
    "def build_logistic_model(input_dim, output_dim):\n",
    "    model = Sequential()\n",
    "    model.add(Dense(output_dim, input_dim=input_dim, activation='softmax'))\n",
    "\n",
    "    return model"
   ]
  },
  {
   "cell_type": "code",
   "execution_count": 11,
   "metadata": {},
   "outputs": [],
   "source": [
    "model = build_logistic_model(input_dim, nb_classes)"
   ]
  },
  {
   "cell_type": "code",
   "execution_count": 12,
   "metadata": {
    "scrolled": false
   },
   "outputs": [
    {
     "name": "stdout",
     "output_type": "stream",
     "text": [
      "_________________________________________________________________\n",
      "Layer (type)                 Output Shape              Param #   \n",
      "=================================================================\n",
      "dense_1 (Dense)              (None, 3)                 33        \n",
      "=================================================================\n",
      "Total params: 33\n",
      "Trainable params: 33\n",
      "Non-trainable params: 0\n",
      "_________________________________________________________________\n"
     ]
    }
   ],
   "source": [
    "model.summary()"
   ]
  },
  {
   "cell_type": "markdown",
   "metadata": {},
   "source": [
    "## Compile the model"
   ]
  },
  {
   "cell_type": "code",
   "execution_count": 13,
   "metadata": {},
   "outputs": [
    {
     "name": "stdout",
     "output_type": "stream",
     "text": [
      "Train on 362 samples, validate on 40 samples\n",
      "Epoch 1/20\n",
      "362/362 [==============================] - 2s 6ms/step - loss: 0.9484 - acc: 0.5663 - val_loss: 0.9205 - val_acc: 0.5750\n",
      "Epoch 2/20\n",
      "362/362 [==============================] - 0s 362us/step - loss: 0.9339 - acc: 0.5663 - val_loss: 0.9058 - val_acc: 0.5750\n",
      "Epoch 3/20\n",
      "362/362 [==============================] - 0s 283us/step - loss: 0.9224 - acc: 0.5663 - val_loss: 0.8934 - val_acc: 0.5750\n",
      "Epoch 4/20\n",
      "362/362 [==============================] - 0s 282us/step - loss: 0.9126 - acc: 0.5663 - val_loss: 0.8832 - val_acc: 0.5750\n",
      "Epoch 5/20\n",
      "362/362 [==============================] - 0s 290us/step - loss: 0.9047 - acc: 0.5663 - val_loss: 0.8744 - val_acc: 0.5750\n",
      "Epoch 6/20\n",
      "362/362 [==============================] - 0s 348us/step - loss: 0.8979 - acc: 0.5663 - val_loss: 0.8673 - val_acc: 0.5750\n",
      "Epoch 7/20\n",
      "362/362 [==============================] - 0s 303us/step - loss: 0.8926 - acc: 0.5663 - val_loss: 0.8611 - val_acc: 0.5750\n",
      "Epoch 8/20\n",
      "362/362 [==============================] - 0s 379us/step - loss: 0.8882 - acc: 0.5663 - val_loss: 0.8561 - val_acc: 0.5750\n",
      "Epoch 9/20\n",
      "362/362 [==============================] - 0s 268us/step - loss: 0.8843 - acc: 0.5663 - val_loss: 0.8516 - val_acc: 0.5750\n",
      "Epoch 10/20\n",
      "362/362 [==============================] - 0s 254us/step - loss: 0.8813 - acc: 0.5663 - val_loss: 0.8476 - val_acc: 0.5750\n",
      "Epoch 11/20\n",
      "362/362 [==============================] - 0s 253us/step - loss: 0.8783 - acc: 0.5663 - val_loss: 0.8440 - val_acc: 0.5750\n",
      "Epoch 12/20\n",
      "362/362 [==============================] - 0s 260us/step - loss: 0.8759 - acc: 0.5663 - val_loss: 0.8409 - val_acc: 0.5750\n",
      "Epoch 13/20\n",
      "362/362 [==============================] - 0s 287us/step - loss: 0.8736 - acc: 0.5663 - val_loss: 0.8380 - val_acc: 0.5750\n",
      "Epoch 14/20\n",
      "362/362 [==============================] - 0s 260us/step - loss: 0.8716 - acc: 0.5663 - val_loss: 0.8356 - val_acc: 0.5750\n",
      "Epoch 15/20\n",
      "362/362 [==============================] - 0s 249us/step - loss: 0.8702 - acc: 0.5663 - val_loss: 0.8336 - val_acc: 0.5750\n",
      "Epoch 16/20\n",
      "362/362 [==============================] - 0s 261us/step - loss: 0.8684 - acc: 0.5663 - val_loss: 0.8316 - val_acc: 0.5750\n",
      "Epoch 17/20\n",
      "362/362 [==============================] - 0s 271us/step - loss: 0.8672 - acc: 0.5663 - val_loss: 0.8295 - val_acc: 0.5750\n",
      "Epoch 18/20\n",
      "362/362 [==============================] - 0s 259us/step - loss: 0.8656 - acc: 0.5663 - val_loss: 0.8276 - val_acc: 0.5750\n",
      "Epoch 19/20\n",
      "362/362 [==============================] - 0s 254us/step - loss: 0.8644 - acc: 0.5663 - val_loss: 0.8260 - val_acc: 0.5750\n",
      "Epoch 20/20\n",
      "362/362 [==============================] - 0s 256us/step - loss: 0.8631 - acc: 0.5663 - val_loss: 0.8244 - val_acc: 0.5750\n"
     ]
    }
   ],
   "source": [
    "model.compile(optimizer='sgd', loss='categorical_crossentropy', metrics=['accuracy'])\n",
    "history = model.fit(x_train, y_train,\n",
    "                    batch_size=batch_size, epochs=nb_epoch,\n",
    "                    verbose=1, validation_data=(x_test, y_test))\n",
    "score = model.evaluate(x_test, y_test, verbose=0)"
   ]
  },
  {
   "cell_type": "code",
   "execution_count": 14,
   "metadata": {},
   "outputs": [
    {
     "name": "stdout",
     "output_type": "stream",
     "text": [
      "Test score: 0.8243522882461548\n",
      "Test accuracy: 0.575\n"
     ]
    }
   ],
   "source": [
    "print('Test score:', score[0])\n",
    "print('Test accuracy:', score[1])"
   ]
  },
  {
   "cell_type": "code",
   "execution_count": 15,
   "metadata": {},
   "outputs": [
    {
     "name": "stdout",
     "output_type": "stream",
     "text": [
      "Weights:  [[-0.2796635  -0.34623784 -0.02587918]\n",
      " [-0.0282692  -0.15013832  0.34580246]\n",
      " [ 0.6791583  -0.90775836 -0.30607316]\n",
      " [ 0.4654623   0.5516795  -0.22086973]\n",
      " [-0.13993092 -0.33306053  0.5865878 ]\n",
      " [ 0.3498239   0.6021987   0.60364145]\n",
      " [-0.13396563 -0.43492132 -0.18710108]\n",
      " [ 0.5366579   0.4958366  -0.2729915 ]\n",
      " [-0.5391157   0.02592128  0.56895053]\n",
      " [ 0.4616033  -0.17874677 -0.22259244]]\n",
      "Bias:  [-0.05134882 -0.22416243  0.27551123]\n"
     ]
    }
   ],
   "source": [
    "weights, biases = model.layers[0].get_weights()\n",
    "print('Weights: ', weights)\n",
    "print('Bias: ', biases)"
   ]
  },
  {
   "cell_type": "code",
   "execution_count": null,
   "metadata": {},
   "outputs": [],
   "source": []
  },
  {
   "cell_type": "code",
   "execution_count": null,
   "metadata": {},
   "outputs": [],
   "source": []
  }
 ],
 "metadata": {
  "kernelspec": {
   "display_name": "Python 3",
   "language": "python",
   "name": "python3"
  },
  "language_info": {
   "codemirror_mode": {
    "name": "ipython",
    "version": 3
   },
   "file_extension": ".py",
   "mimetype": "text/x-python",
   "name": "python",
   "nbconvert_exporter": "python",
   "pygments_lexer": "ipython3",
   "version": "3.6.4"
  }
 },
 "nbformat": 4,
 "nbformat_minor": 2
}
