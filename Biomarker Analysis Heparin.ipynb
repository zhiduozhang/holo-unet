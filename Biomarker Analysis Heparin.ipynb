{
 "cells": [
  {
   "cell_type": "code",
   "execution_count": 16,
   "metadata": {},
   "outputs": [],
   "source": [
    "import pandas as pd\n",
    "import os\n",
    "import fnmatch\n",
    "\n",
    "import numpy as np\n",
    "\n",
    "from scipy.stats import ttest_ind\n",
    "\n",
    "import itertools as it\n",
    "import matplotlib.pyplot as plt\n",
    "import seaborn as sns"
   ]
  },
  {
   "cell_type": "code",
   "execution_count": 2,
   "metadata": {},
   "outputs": [],
   "source": [
    "path = \"I:\\\\Honours-Project\\\\data\\\\Sherry Healthy Donors\\\\Heparin counts TSC surface levels\\\\20180515 HD0006\\\\Exported data\\\\export_TSC_FITC - IgG1_003.csv\""
   ]
  },
  {
   "cell_type": "code",
   "execution_count": 3,
   "metadata": {},
   "outputs": [],
   "source": [
    "root_path = \"I:\\\\Honours-Project\\\\data\\\\Sherry Healthy Donors\\\\Heparin counts TSC surface levels\\\\\""
   ]
  },
  {
   "cell_type": "code",
   "execution_count": 4,
   "metadata": {},
   "outputs": [],
   "source": [
    "surface_level_files = {\n",
    "    'APC ADAM10':'export_PRP_AF488 1G5 + APC ADAM10.csv', \n",
    "    'DY594 RCA':'export_PRP_Dy594 RCA1.csv', \n",
    "    'PE IgG':'export_PRP_PE IgG.csv', \n",
    "    'FITC IgG1':'export_PRP_FITC IgG1.csv', \n",
    "    'PE CD9':'export_PRP_PE CD9.csv', \n",
    "    'AF488 IgG':'export_PRP_AF488 IgG.csv', \n",
    "    'PE IgG1':'export_PRP_PE IgG1.csv', \n",
    "    'PE CD41':'export_PRP_PE CD41.csv', \n",
    "    'APC IgG2b':'export_PRP_APC IgG2b.csv', \n",
    "    'FITC RCA1':'export_PRP_FITC RCA1.csv', \n",
    "    'FITC AK2':'export_PRP_FITC AK2.csv', \n",
    "    'Unstained':'export_PRP_Unstained.csv'\n",
    "}\n",
    "\n",
    "measured_bands = {'APC ADAM10':['APC-A', 'FITC-A'], \n",
    "    'DY594 RCA':['PE-Texas Red-A'], \n",
    "    'PE IgG':['PE-A'], \n",
    "    'FITC IgG1':['FITC-A'], \n",
    "    'PE CD9':['PE-A'], \n",
    "    'AF488 IgG':['FITC-A','Alexa Fluor 488-A'], \n",
    "    'PE IgG1':['PE-A'], \n",
    "    'PE CD41':['PE-A'], \n",
    "    'APC IgG2b':['APC-A'], \n",
    "    'FITC RCA1':['FITC-A','Alexa Fluor 488-A'], \n",
    "    'FITC AK2':['FITC-A','Alexa Fluor 488-A'],\n",
    "    'Unstained':['PE-Texas Red-A','APC-A','FITC-A','PE-A'],\n",
    "}\n",
    "\n",
    "measured_surface_markers = {'ADAM10':'APC ADAM10',\n",
    "                            'AK2':'FITC AK2',\n",
    "                            'CD9':'PE CD9',\n",
    "                            'CD41':'PE CD41',\n",
    "                            'RCA - FITC':'FITC RCA1',\n",
    "                            'RCA - Texas red':'DY594 RCA'}"
   ]
  },
  {
   "cell_type": "code",
   "execution_count": 5,
   "metadata": {},
   "outputs": [
    {
     "name": "stderr",
     "output_type": "stream",
     "text": [
      "C:\\Users\\Duo\\Anaconda3\\envs\\fastai\\lib\\site-packages\\ipykernel_launcher.py:11: FutureWarning: from_csv is deprecated. Please use read_csv(...) instead. Note that some of the default arguments are different, so please refer to the documentation for from_csv when changing your function calls\n",
      "  # This is added back by InteractiveShellApp.init_path()\n"
     ]
    }
   ],
   "source": [
    "for donor in os.listdir(root_path):\n",
    "    sm_values = {}\n",
    "\n",
    "    for surface_marker in measured_surface_markers.keys():\n",
    "        file = surface_level_files[measured_surface_markers[surface_marker]]\n",
    "        \n",
    "        sm_values[surface_marker] = file\n",
    "        \n",
    "        donor_path = f'{root_path}\\\\{donor}\\\\new data\\\\{file}'\n",
    "        \n",
    "        db = pd.DataFrame.from_csv(donor_path)\n",
    "        \n",
    "        means = db.mean()\n",
    "    \n",
    "        "
   ]
  },
  {
   "cell_type": "markdown",
   "metadata": {},
   "source": [
    "## T-Score"
   ]
  },
  {
   "cell_type": "code",
   "execution_count": 20,
   "metadata": {},
   "outputs": [],
   "source": [
    "def t_score(donor_a, donor_b, marker):\n",
    "    file = surface_level_files[measured_surface_markers[marker]]\n",
    "    \n",
    "    donor_a_path = f'{root_path}\\\\{donor_a}\\\\new data\\\\{file}'\n",
    "    donor_b_path = f'{root_path}\\\\{donor_b}\\\\new data\\\\{file}'\n",
    "    \n",
    "    fluorophore = measured_bands[measured_surface_markers[marker]]\n",
    "    \n",
    "    db_a = pd.DataFrame.from_csv(donor_a_path)\n",
    "    db_b = pd.DataFrame.from_csv(donor_b_path)\n",
    "        \n",
    "    f_a = None\n",
    "    f_b = None\n",
    "    \n",
    "    \n",
    "    if len(fluorophore) > 1:\n",
    "        for f in fluorophore:\n",
    "            print(f)\n",
    "            if f in list(db_a):\n",
    "                f_a = db_a[f]\n",
    "            if f in list(db_b):\n",
    "                f_b = db_b[f]\n",
    "                \n",
    "            if f_a is not None and f_b is not None:\n",
    "                break\n",
    "    else:\n",
    "        f_a = db_a[fluorophore]\n",
    "        f_b = db_b[fluorophore]\n",
    "        \n",
    "    return  ttest_ind(f_a,f_b, equal_var=False)"
   ]
  },
  {
   "cell_type": "code",
   "execution_count": 21,
   "metadata": {},
   "outputs": [
    {
     "name": "stdout",
     "output_type": "stream",
     "text": [
      "ADAM10\n",
      "('20180515 HD0006', '20180601 HD0026')\n",
      "APC-A\n",
      "('20180515 HD0006', '20180605 HD0039')\n"
     ]
    },
    {
     "name": "stderr",
     "output_type": "stream",
     "text": [
      "C:\\Users\\Duo\\Anaconda3\\envs\\fastai\\lib\\site-packages\\ipykernel_launcher.py:9: FutureWarning: from_csv is deprecated. Please use read_csv(...) instead. Note that some of the default arguments are different, so please refer to the documentation for from_csv when changing your function calls\n",
      "  if __name__ == '__main__':\n",
      "C:\\Users\\Duo\\Anaconda3\\envs\\fastai\\lib\\site-packages\\ipykernel_launcher.py:10: FutureWarning: from_csv is deprecated. Please use read_csv(...) instead. Note that some of the default arguments are different, so please refer to the documentation for from_csv when changing your function calls\n",
      "  # Remove the CWD from sys.path while we load stuff.\n"
     ]
    },
    {
     "name": "stdout",
     "output_type": "stream",
     "text": [
      "APC-A\n",
      "('20180515 HD0006', '20180606 HD0042')\n",
      "APC-A\n",
      "('20180601 HD0026', '20180605 HD0039')\n",
      "APC-A\n",
      "('20180601 HD0026', '20180606 HD0042')\n",
      "APC-A\n",
      "('20180605 HD0039', '20180606 HD0042')\n",
      "APC-A\n",
      "AK2\n",
      "('20180515 HD0006', '20180601 HD0026')\n",
      "FITC-A\n",
      "Alexa Fluor 488-A\n",
      "('20180515 HD0006', '20180605 HD0039')\n",
      "FITC-A\n",
      "('20180515 HD0006', '20180606 HD0042')\n",
      "FITC-A\n",
      "('20180601 HD0026', '20180605 HD0039')\n",
      "FITC-A\n",
      "Alexa Fluor 488-A\n",
      "('20180601 HD0026', '20180606 HD0042')\n",
      "FITC-A\n",
      "Alexa Fluor 488-A\n",
      "('20180605 HD0039', '20180606 HD0042')\n",
      "FITC-A\n",
      "CD9\n",
      "('20180515 HD0006', '20180601 HD0026')\n",
      "('20180515 HD0006', '20180605 HD0039')\n",
      "('20180515 HD0006', '20180606 HD0042')\n",
      "('20180601 HD0026', '20180605 HD0039')\n",
      "('20180601 HD0026', '20180606 HD0042')\n",
      "('20180605 HD0039', '20180606 HD0042')\n",
      "CD41\n",
      "('20180515 HD0006', '20180601 HD0026')\n",
      "('20180515 HD0006', '20180605 HD0039')\n",
      "('20180515 HD0006', '20180606 HD0042')\n",
      "('20180601 HD0026', '20180605 HD0039')\n",
      "('20180601 HD0026', '20180606 HD0042')\n",
      "('20180605 HD0039', '20180606 HD0042')\n",
      "RCA - FITC\n",
      "('20180515 HD0006', '20180601 HD0026')\n",
      "FITC-A\n",
      "Alexa Fluor 488-A\n",
      "('20180515 HD0006', '20180605 HD0039')\n",
      "FITC-A\n",
      "('20180515 HD0006', '20180606 HD0042')\n",
      "FITC-A\n",
      "('20180601 HD0026', '20180605 HD0039')\n",
      "FITC-A\n",
      "Alexa Fluor 488-A\n",
      "('20180601 HD0026', '20180606 HD0042')\n",
      "FITC-A\n",
      "Alexa Fluor 488-A\n",
      "('20180605 HD0039', '20180606 HD0042')\n",
      "FITC-A\n",
      "RCA - Texas red\n",
      "('20180515 HD0006', '20180601 HD0026')\n",
      "('20180515 HD0006', '20180605 HD0039')\n",
      "('20180515 HD0006', '20180606 HD0042')\n",
      "('20180601 HD0026', '20180605 HD0039')\n",
      "('20180601 HD0026', '20180606 HD0042')\n",
      "('20180605 HD0039', '20180606 HD0042')\n"
     ]
    },
    {
     "data": {
      "text/html": [
       "<div>\n",
       "<style scoped>\n",
       "    .dataframe tbody tr th:only-of-type {\n",
       "        vertical-align: middle;\n",
       "    }\n",
       "\n",
       "    .dataframe tbody tr th {\n",
       "        vertical-align: top;\n",
       "    }\n",
       "\n",
       "    .dataframe thead th {\n",
       "        text-align: right;\n",
       "    }\n",
       "</style>\n",
       "<table border=\"1\" class=\"dataframe\">\n",
       "  <thead>\n",
       "    <tr style=\"text-align: right;\">\n",
       "      <th></th>\n",
       "      <th>(20180515 HD0006, 20180601 HD0026)</th>\n",
       "      <th>(20180515 HD0006, 20180605 HD0039)</th>\n",
       "      <th>(20180515 HD0006, 20180606 HD0042)</th>\n",
       "      <th>(20180601 HD0026, 20180605 HD0039)</th>\n",
       "      <th>(20180601 HD0026, 20180606 HD0042)</th>\n",
       "      <th>(20180605 HD0039, 20180606 HD0042)</th>\n",
       "    </tr>\n",
       "  </thead>\n",
       "  <tbody>\n",
       "    <tr>\n",
       "      <th>ADAM10</th>\n",
       "      <td>0.000000e+00</td>\n",
       "      <td>1.481632e-37</td>\n",
       "      <td>2.559329e-27</td>\n",
       "      <td>0.000000e+00</td>\n",
       "      <td>0.000000e+00</td>\n",
       "      <td>8.488468e-04</td>\n",
       "    </tr>\n",
       "    <tr>\n",
       "      <th>AK2</th>\n",
       "      <td>0.000000e+00</td>\n",
       "      <td>6.881741e-150</td>\n",
       "      <td>2.609115e-32</td>\n",
       "      <td>1.067634e-138</td>\n",
       "      <td>0.000000e+00</td>\n",
       "      <td>0.000000e+00</td>\n",
       "    </tr>\n",
       "    <tr>\n",
       "      <th>CD9</th>\n",
       "      <td>6.216365e-09</td>\n",
       "      <td>5.358893e-34</td>\n",
       "      <td>1.625983e-07</td>\n",
       "      <td>1.224925e-51</td>\n",
       "      <td>3.060252e-02</td>\n",
       "      <td>5.592888e-75</td>\n",
       "    </tr>\n",
       "    <tr>\n",
       "      <th>CD41</th>\n",
       "      <td>7.824801e-02</td>\n",
       "      <td>7.562979e-02</td>\n",
       "      <td>1.966970e-95</td>\n",
       "      <td>8.800029e-01</td>\n",
       "      <td>2.239781e-137</td>\n",
       "      <td>6.199423e-126</td>\n",
       "    </tr>\n",
       "    <tr>\n",
       "      <th>RCA - FITC</th>\n",
       "      <td>1.412445e-47</td>\n",
       "      <td>1.923364e-13</td>\n",
       "      <td>3.231094e-03</td>\n",
       "      <td>8.593459e-23</td>\n",
       "      <td>4.492028e-63</td>\n",
       "      <td>4.855272e-09</td>\n",
       "    </tr>\n",
       "  </tbody>\n",
       "</table>\n",
       "</div>"
      ],
      "text/plain": [
       "            (20180515 HD0006, 20180601 HD0026)  \\\n",
       "ADAM10                            0.000000e+00   \n",
       "AK2                               0.000000e+00   \n",
       "CD9                               6.216365e-09   \n",
       "CD41                              7.824801e-02   \n",
       "RCA - FITC                        1.412445e-47   \n",
       "\n",
       "            (20180515 HD0006, 20180605 HD0039)  \\\n",
       "ADAM10                            1.481632e-37   \n",
       "AK2                              6.881741e-150   \n",
       "CD9                               5.358893e-34   \n",
       "CD41                              7.562979e-02   \n",
       "RCA - FITC                        1.923364e-13   \n",
       "\n",
       "            (20180515 HD0006, 20180606 HD0042)  \\\n",
       "ADAM10                            2.559329e-27   \n",
       "AK2                               2.609115e-32   \n",
       "CD9                               1.625983e-07   \n",
       "CD41                              1.966970e-95   \n",
       "RCA - FITC                        3.231094e-03   \n",
       "\n",
       "            (20180601 HD0026, 20180605 HD0039)  \\\n",
       "ADAM10                            0.000000e+00   \n",
       "AK2                              1.067634e-138   \n",
       "CD9                               1.224925e-51   \n",
       "CD41                              8.800029e-01   \n",
       "RCA - FITC                        8.593459e-23   \n",
       "\n",
       "            (20180601 HD0026, 20180606 HD0042)  \\\n",
       "ADAM10                            0.000000e+00   \n",
       "AK2                               0.000000e+00   \n",
       "CD9                               3.060252e-02   \n",
       "CD41                             2.239781e-137   \n",
       "RCA - FITC                        4.492028e-63   \n",
       "\n",
       "            (20180605 HD0039, 20180606 HD0042)  \n",
       "ADAM10                            8.488468e-04  \n",
       "AK2                               0.000000e+00  \n",
       "CD9                               5.592888e-75  \n",
       "CD41                             6.199423e-126  \n",
       "RCA - FITC                        4.855272e-09  "
      ]
     },
     "execution_count": 21,
     "metadata": {},
     "output_type": "execute_result"
    }
   ],
   "source": [
    "t_test_table_stat = {}\n",
    "t_test_table_p_val = {}\n",
    "\n",
    "for marker in measured_surface_markers.keys():\n",
    "    print(marker)\n",
    "    stat = []\n",
    "    p_val = []\n",
    "    \n",
    "    for pair in it.combinations(os.listdir(root_path), 2):\n",
    "        print(pair)\n",
    "        s, p = t_score(*pair, marker)\n",
    "        stat.append(s)\n",
    "        p_val.append(float(p))\n",
    "        \n",
    "    t_test_table_stat[marker] = stat\n",
    "    t_test_table_p_val[marker] = p_val\n",
    "    \n",
    "df = pd.DataFrame.from_dict(t_test_table_p_val,orient='index',columns=list(it.combinations(os.listdir(root_path), 2)))\n",
    "\n",
    "df.head()"
   ]
  },
  {
   "cell_type": "code",
   "execution_count": 22,
   "metadata": {},
   "outputs": [
    {
     "data": {
      "text/plain": [
       "<matplotlib.axes._subplots.AxesSubplot at 0x1730a72ce80>"
      ]
     },
     "execution_count": 22,
     "metadata": {},
     "output_type": "execute_result"
    },
    {
     "data": {
      "image/png": "[encoded data removed]",
      "text/plain": [
       "<Figure size 792x648 with 2 Axes>"
      ]
     },
     "metadata": {},
     "output_type": "display_data"
    }
   ],
   "source": [
    "# Generate a mask for the upper triangle\n",
    "mask = np.zeros_like(df, dtype=np.bool)\n",
    "mask[np.triu_indices_from(mask)] = True\n",
    "\n",
    "# Set up the matplotlib figure\n",
    "f, ax = plt.subplots(figsize=(11, 9))\n",
    "plt.title('T-test of Donors on each cytometry biomarker')\n",
    "\n",
    "# Generate a custom diverging colormap\n",
    "cmap = sns.diverging_palette(220, 10, as_cmap=True)\n",
    "\n",
    "# Draw the heatmap with the mask and correct aspect ratio\n",
    "sns.heatmap(df, cmap=cmap, vmax=.3, center=0,\n",
    "            square=True, linewidths=.5, cbar_kws={\"shrink\": .5})"
   ]
  },
  {
   "cell_type": "code",
   "execution_count": 23,
   "metadata": {},
   "outputs": [
    {
     "name": "stdout",
     "output_type": "stream",
     "text": [
      "48\n",
      "12\n",
      "{'export_PRP_Dy594 RCA1.csv', 'export_PRP_AF488 1G5 + APC ADAM10.csv', 'export_PRP_AF488 IgG.csv', 'export_PRP_PE IgG1.csv', 'export_PRP_FITC AK2.csv', 'export_PRP_APC IgG2b.csv', 'export_PRP_FITC RCA1.csv', 'export_PRP_PE CD9.csv', 'export_PRP_Unstained.csv', 'export_PRP_FITC IgG1.csv', 'export_PRP_PE CD41.csv', 'export_PRP_PE IgG.csv'}\n"
     ]
    }
   ],
   "source": [
    "donors = []\n",
    "files = set()\n",
    "count = 0\n",
    "\n",
    "for donor in os.listdir(root_path):\n",
    "    donors.append(donor)\n",
    "    \n",
    "    donor_path = f'{root_path}\\\\{donor}\\\\new data'\n",
    "    \n",
    "    for file in os.listdir(donor_path):\n",
    "        if fnmatch.fnmatch(file, '*.csv'):\n",
    "            files.add(file)\n",
    "            count += 1\n",
    "            \n",
    "print(count)\n",
    "print(len(files))\n",
    "print(files)"
   ]
  },
  {
   "cell_type": "code",
   "execution_count": null,
   "metadata": {},
   "outputs": [],
   "source": [
    "donors_matches = []\n",
    "\n",
    "for donor in os.listdir(root_path):\n",
    "    donors.append(donor)\n",
    "    \n",
    "    donor_matches = []\n",
    "    \n",
    "    donor_path = f'{root_path}\\\\{donor}\\\\new data'\n",
    "    \n",
    "    for file in files:\n",
    "        donor_matches.append(file in os.listdir(donor_path))\n",
    "    \n",
    "    donors_matches.append(donor_matches)\n",
    "\n",
    "donor_measures = pd.DataFrame.from_records(donors_matches, columns=files)          "
   ]
  },
  {
   "cell_type": "code",
   "execution_count": null,
   "metadata": {
    "scrolled": true
   },
   "outputs": [],
   "source": [
    "donor_measures"
   ]
  },
  {
   "cell_type": "code",
   "execution_count": null,
   "metadata": {},
   "outputs": [],
   "source": [
    "biomarkers = pd.read_csv(path, header=225)"
   ]
  },
  {
   "cell_type": "code",
   "execution_count": null,
   "metadata": {},
   "outputs": [],
   "source": [
    "biomarkers.head()"
   ]
  },
  {
   "cell_type": "code",
   "execution_count": null,
   "metadata": {},
   "outputs": [],
   "source": [
    "biomarkers.shape"
   ]
  }
 ],
 "metadata": {
  "kernelspec": {
   "display_name": "Python 3",
   "language": "python",
   "name": "python3"
  },
  "language_info": {
   "codemirror_mode": {
    "name": "ipython",
    "version": 3
   },
   "file_extension": ".py",
   "mimetype": "text/x-python",
   "name": "python",
   "nbconvert_exporter": "python",
   "pygments_lexer": "ipython3",
   "version": "3.6.4"
  }
 },
 "nbformat": 4,
 "nbformat_minor": 2
}
